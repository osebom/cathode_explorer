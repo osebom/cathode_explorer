{
 "cells": [
  {
   "cell_type": "code",
   "execution_count": 1,
   "id": "d3252441",
   "metadata": {},
   "outputs": [],
   "source": [
    "f = open('/Users/3420545/Downloads/slurm-322468.out','r')"
   ]
  },
  {
   "cell_type": "code",
   "execution_count": 1,
   "id": "41c5ccfe",
   "metadata": {},
   "outputs": [
    {
     "name": "stdout",
     "output_type": "stream",
     "text": [
      "Constructing POTCAR file\n",
      "Element Ti\n",
      "     ... is matched to pseudo Ti_pv\n",
      "     ... pseudo Ti_pv added to POTCAR\n",
      "Element O\n",
      "     ... is matched to pseudo O\n",
      "     ... pseudo O added to POTCAR\n",
      " running on   32 total cores\n",
      " distrk:  each k-point on   16 cores,    2 groups\n",
      " distr:  one band on    4 cores,    4 groups\n",
      " using from now: INCAR     \n",
      " vasp.5.4.4.18Apr17-6-g9f103f2a35 (build Apr 29 2021 16:29:03) complex          \n",
      "  \n",
      " POSCAR found type information on POSCAR  Ti O \n",
      " POSCAR found :  2 types and      24 ions\n",
      " scaLAPACK will be used\n",
      "\n",
      " ----------------------------------------------------------------------------- \n",
      "|                                                                             |\n",
      "|           W    W    AA    RRRRR   N    N  II  N    N   GGGG   !!!           |\n",
      "|           W    W   A  A   R    R  NN   N  II  NN   N  G    G  !!!           |\n",
      "|           W    W  A    A  R    R  N N  N  II  N N  N  G       !!!           |\n",
      "|           W WW W  AAAAAA  RRRRR   N  N N  II  N  N N  G  GGG   !            |\n",
      "|           WW  WW  A    A  R   R   N   NN  II  N   NN  G    G                |\n",
      "|           W    W  A    A  R    R  N    N  II  N    N   GGGG   !!!           |\n",
      "|                                                                             |\n",
      "|      You have enabled k-point parallelism (KPAR>1).                         |\n",
      "|      This developmental code was originally  written by Paul Kent at ORNL,  |\n",
      "|      and carefully double checked in Vienna.                                |\n",
      "|      GW as well as linear response parallelism added by Martijn Marsman     |\n",
      "|      and Georg Kresse.                                                      |\n",
      "|      Carefully verify results versus KPAR=1.                                |\n",
      "|      Report problems to Paul Kent and Vienna.                               |\n",
      "|                                                                             |\n",
      " ----------------------------------------------------------------------------- \n",
      "\n",
      " Error reading item 'LDAUL' from file INCAR.\n",
      " Error code was IERR=           5  Found N=           0  data items\n",
      " Error reading item 'LDAUU' from file INCAR.\n",
      " Error code was IERR=           5  Found N=           0  data items\n",
      " Error reading item 'LDAUJ' from file INCAR.\n",
      " Error code was IERR=           5  Found N=           0  data items\n",
      " LDA part: xc-table for Pade appr. of Perdew\n",
      " generate k-points for:    2    5    3\n",
      " POSCAR, INCAR and KPOINTS ok, starting setup\n",
      " FFT: planning ...\n",
      " WAVECAR not read\n",
      " entering main loop\n",
      "       N       E                     dE             d eps       ncg     rms          ort\n",
      "DAV:   1     0.237548899381E+04    0.23755E+04   -0.79372E+04  1440   0.138E+03\n",
      "DAV:   2     0.194635030085E+03   -0.21809E+04   -0.20260E+04  1440   0.452E+02\n",
      "DAV:   3    -0.253197166187E+03   -0.44783E+03   -0.42395E+03  1440   0.190E+02\n",
      "DAV:   4    -0.274966612320E+03   -0.21769E+02   -0.21595E+02  1440   0.476E+01\n",
      "DAV:   5    -0.275621496612E+03   -0.65488E+00   -0.65291E+00  1440   0.936E+00\n",
      " gam= 0.000 g(H,U,f)=  0.706E+03 0.903E+02-0.303E-26 ort(H,U,f) = 0.000E+00 0.000E+00 0.000E+00\n",
      "SDA:   6    -0.711304304822E+02    0.20449E+03   -0.65291E+00  1440   0.797E+03 0.000E+00\n",
      " gam= 0.000 trial= 0.400  step= 0.284 mean= 0.400\n",
      " gam= 0.072 g(H,U,f)=  0.427E+02 0.146E+02 0.496E-04 ort(H,U,f) =-0.490E+02 0.462E+02-0.674E-04\n",
      "CGA:   7    -0.187128715902E+03   -0.11600E+03   -0.11301E+03  1440   0.573E+02-0.279E+01\n",
      " gam= 0.072 trial= 0.394  step= 0.626 mean= 0.394\n",
      " gam= 0.613 g(H,U,f)=  0.336E+02 0.154E+01 0.154E-04 ort(H,U,f) =-0.121E+02 0.718E+01 0.304E-04\n",
      "CGA:   8    -0.204407678942E+03   -0.17279E+02   -0.17874E+02  1440   0.351E+02-0.489E+01\n",
      " gam= 0.613 trial= 0.406  step= 0.438 mean= 0.406\n",
      " gam= 0.336 g(H,U,f)=  0.116E+02 0.201E+00-0.256E-16 ort(H,U,f) =-0.108E+01 0.101E+01 0.284E-15\n",
      "CGA:   9    -0.211439193487E+03   -0.70315E+01   -0.70339E+01  1440   0.118E+02-0.726E-01\n",
      " gam= 0.336 trial= 0.407  step= 0.398 mean= 0.407\n",
      " gam= 0.289 g(H,U,f)=  0.327E+01 0.138E+00-0.383E-04 ort(H,U,f) =-0.373E+00 0.413E+00-0.730E-04\n",
      "CGA:  10    -0.213775717239E+03   -0.23365E+01   -0.23369E+01  1440   0.341E+01 0.402E-01\n",
      " gam= 0.289 trial= 0.407  step= 0.443 mean= 0.407\n",
      " gam= 0.352 g(H,U,f)=  0.113E+01 0.681E-01-0.107E-16 ort(H,U,f) =-0.422E-01 0.325E-01 0.966E-17\n",
      "CGA:  11    -0.214533067554E+03   -0.75735E+00   -0.75768E+00  1440   0.120E+01-0.970E-02\n",
      " gam= 0.352 trial= 0.409  step= 0.524 mean= 0.409\n",
      " gam= 0.437 g(H,U,f)=  0.497E+00 0.268E-01-0.416E-09 ort(H,U,f) =-0.381E-01 0.366E-01-0.157E-07\n",
      "CGA:  12    -0.214845953041E+03   -0.31289E+00   -0.31302E+00  1440   0.524E+00-0.149E-02\n",
      " gam= 0.437 trial= 0.415  step= 0.504 mean= 0.415\n",
      " gam= 0.407 g(H,U,f)=  0.200E+00 0.136E-01-0.186E-22 ort(H,U,f) =-0.252E-01 0.245E-01 0.109E-21\n",
      "CGA:  13    -0.214977769264E+03   -0.13182E+00   -0.13185E+00  1440   0.213E+00-0.702E-03\n",
      " gam= 0.407 trial= 0.419  step= 0.551 mean= 0.419\n",
      " gam= 0.393 g(H,U,f)=  0.791E-01 0.464E-02-0.321E-05 ort(H,U,f) =-0.142E-01 0.134E-01 0.341E-05\n",
      "CGA:  14    -0.215036393631E+03   -0.58624E-01   -0.58673E-01  1440   0.838E-01-0.786E-03\n",
      " gam= 0.393 trial= 0.426  step= 0.533 mean= 0.426\n",
      " gam= 0.367 g(H,U,f)=  0.290E-01 0.173E-02-0.153E-05 ort(H,U,f) =-0.415E-02 0.388E-02-0.110E-05\n",
      "CGA:  15    -0.215058601962E+03   -0.22208E-01   -0.22226E-01  1440   0.307E-01-0.280E-03\n",
      " gam= 0.367 trial= 0.431  step= 0.542 mean= 0.431\n",
      " gam= 0.339 g(H,U,f)=  0.985E-02 0.587E-03-0.200E-51 ort(H,U,f) =-0.188E-02 0.168E-02-0.367E-51\n",
      "CGA:  16    -0.215066875226E+03   -0.82733E-02   -0.82942E-02  1440   0.104E-01-0.201E-03\n",
      " gam= 0.339 trial= 0.436  step= 0.546 mean= 0.436\n",
      " gam= 0.337 g(H,U,f)=  0.330E-02 0.218E-03-0.801E-50 ort(H,U,f) =-0.207E-03 0.219E-03-0.267E-49\n",
      "CGA:  17    -0.215069702748E+03   -0.28275E-02   -0.28273E-02  1440   0.352E-02 0.118E-04\n",
      " gam= 0.337 trial= 0.442  step= 0.580 mean= 0.442\n",
      " gam= 0.392 g(H,U,f)=  0.122E-02 0.155E-03-0.133E-45 ort(H,U,f) =-0.140E-03 0.172E-03-0.375E-45\n",
      "CGA:  18    -0.215070726809E+03   -0.10241E-02   -0.10220E-02  1440   0.138E-02 0.318E-04\n",
      " gam= 0.392 trial= 0.449  step= 0.603 mean= 0.449\n",
      " gam= 0.436 g(H,U,f)=  0.561E-03 0.395E-04-0.870E-40 ort(H,U,f) =-0.786E-04 0.106E-03-0.305E-39\n",
      "CGA:  19    -0.215071148668E+03   -0.42186E-03   -0.41975E-03  1440   0.601E-03 0.276E-04\n",
      " gam= 0.436 trial= 0.457  step= 0.651 mean= 0.457\n",
      " gam= 0.430 g(H,U,f)=  0.238E-03 0.201E-04-0.493E-32 ort(H,U,f) =-0.454E-04 0.469E-04-0.208E-31\n",
      "CGA:  20    -0.215071348146E+03   -0.19948E-03   -0.19934E-03  1440   0.258E-03 0.147E-05\n",
      " gam= 0.430 trial= 0.466  step= 0.632 mean= 0.466\n",
      " gam= 0.412 g(H,U,f)=  0.991E-04 0.732E-05-0.379E-22 ort(H,U,f) =-0.280E-04 0.188E-04 0.778E-21\n",
      "CGA:  21    -0.215071429147E+03   -0.81001E-04   -0.81762E-04  1440   0.106E-03-0.918E-05\n",
      " gam= 0.412 trial= 0.475  step= 0.618 mean= 0.475\n",
      " gam= 0.361 g(H,U,f)=  0.375E-04 0.101E-05-0.782E-17 ort(H,U,f) =-0.600E-05 0.354E-05 0.225E-16\n",
      "CGA:  22    -0.215071460707E+03   -0.31559E-04   -0.31737E-04  1440   0.385E-04-0.246E-05\n",
      " gam= 0.361 trial= 0.482  step= 0.617 mean= 0.482\n",
      " gam= 0.324 g(H,U,f)=  0.120E-04 0.483E-06-0.208E-27 ort(H,U,f) =-0.359E-06 0.222E-06 0.137E-29\n",
      "CGA:  23    -0.215071472301E+03   -0.11595E-04   -0.11604E-04  1440   0.125E-04-0.138E-06\n",
      " gam= 0.324 trial= 0.488  step= 0.659 mean= 0.488\n",
      " gam= 0.359 g(H,U,f)=  0.426E-05 0.214E-06-0.109E-23 ort(H,U,f) =-0.361E-06 0.781E-07-0.146E-23\n",
      "CGA:  24    -0.215071476365E+03   -0.40636E-05   -0.40878E-05  1440   0.448E-05-0.283E-06\n",
      " gam= 0.359 trial= 0.497  step= 0.714 mean= 0.497\n",
      " final diagonalization\n",
      "   1 F= -.21868915E+03 E0= -.21868915E+03  d E =-.218689E+03  mag=     0.0000\n",
      " curvature:   0.00 expect dE= 0.000E+00 dE for cont linesearch  0.000E+00\n",
      " trial: gam= 0.00000 g(F)=  0.308E-02 g(S)=  0.000E+00 ort = 0.000E+00 (trialstep = 0.100E+01)\n",
      " search vector abs. value=  0.308E-02\n",
      " bond charge predicted\n",
      "       N       E                     dE             d eps       ncg     rms          ort\n",
      " gam= 0.000 g(H,U,f)=  0.503E+00 0.159E+00-0.242E-19 ort(H,U,f) = 0.000E+00 0.000E+00 0.000E+00\n",
      "SDA:   1    -0.214899093963E+03    0.17238E+00    0.00000E+00  1440   0.662E+00 0.000E+00\n",
      " gam= 0.000 trial= 0.508  step= 0.294 mean= 0.508\n",
      " gam= 0.223 g(H,U,f)=  0.105E+00 0.426E-01-0.856E-19 ort(H,U,f) =-0.677E-01 0.676E-01 0.524E-18\n",
      "CGA:   2    -0.214996522152E+03   -0.97428E-01   -0.97387E-01  1440   0.148E+00-0.125E-03\n",
      " gam= 0.223 trial= 0.497  step= 0.694 mean= 0.497\n",
      " gam= 0.489 g(H,U,f)=  0.630E-01 0.921E-02-0.103E-13 ort(H,U,f) =-0.255E-01 0.256E-01-0.199E-13\n",
      "CGA:   3    -0.215047730438E+03   -0.51208E-01   -0.51201E-01  1440   0.722E-01 0.115E-03\n",
      " gam= 0.489 trial= 0.507  step= 0.440 mean= 0.507\n",
      " gam= 0.324 g(H,U,f)=  0.204E-01 0.297E-02 0.366E-06 ort(H,U,f) =-0.120E-01 0.123E-01 0.196E-05\n",
      "CGA:   4    -0.215063605090E+03   -0.15875E-01   -0.15895E-01  1440   0.234E-01 0.294E-03\n",
      " gam= 0.324 trial= 0.504  step= 0.455 mean= 0.504\n",
      " gam= 0.284 g(H,U,f)=  0.580E-02 0.847E-03 0.175E-06 ort(H,U,f) =-0.345E-02 0.346E-02 0.711E-06\n",
      "CGA:   5    -0.215068940089E+03   -0.53350E-02   -0.53352E-02  1440   0.665E-02 0.726E-05\n",
      " gam= 0.284 trial= 0.501  step= 0.536 mean= 0.501\n",
      " gam= 0.324 g(H,U,f)=  0.205E-02 0.109E-03-0.159E-63 ort(H,U,f) =-0.513E-03 0.518E-03-0.118E-64\n",
      "CGA:   6    -0.215070802001E+03   -0.18619E-02   -0.17843E-02  1440   0.216E-02 0.527E-05\n",
      " gam= 0.324 trial= 0.503  step= 0.503 mean= 0.503\n",
      " gam= 0.199 g(H,U,f)=  0.412E-03 0.164E-04-0.163E-44 ort(H,U,f) =-0.510E-04 0.459E-04-0.809E-44\n",
      "CGA:   7    -0.215071344899E+03   -0.54290E-03   -0.54290E-03  1440   0.429E-03-0.511E-05\n",
      " gam= 0.199 trial= 0.503  step= 0.552 mean= 0.503\n",
      " gam= 0.248 g(H,U,f)=  0.102E-03 0.478E-05-0.644E-28 ort(H,U,f) =-0.132E-04 0.924E-05-0.248E-27\n",
      "CGA:   8    -0.215071462793E+03   -0.11789E-03   -0.11799E-03  1440   0.106E-03-0.400E-05\n",
      " gam= 0.248 trial= 0.505  step= 0.550 mean= 0.505\n",
      " gam= 0.217 g(H,U,f)=  0.203E-04 0.282E-05-0.981E-16 ort(H,U,f) =-0.134E-05 0.317E-05-0.206E-15\n",
      "CGA:   9    -0.215071491796E+03   -0.29002E-04   -0.28962E-04  1440   0.231E-04 0.183E-05\n",
      " gam= 0.217 trial= 0.508  step= 0.609 mean= 0.508\n",
      " gam= 0.329 g(H,U,f)=  0.628E-05 0.132E-05-0.624E-21 ort(H,U,f) =-0.181E-05 0.206E-05-0.110E-20\n",
      "CGA:  10    -0.215071498971E+03   -0.71757E-05   -0.71632E-05  1440   0.761E-05 0.246E-06\n",
      " gam= 0.329 trial= 0.513  step= 0.013 mean= 0.513\n",
      " final diagonalization\n",
      "   2 F= -.21869027E+03 E0= -.21869027E+03  d E =-.112212E-02  mag=     0.0000\n",
      " trial-energy change:   -0.001122  1 .order   -0.001300   -0.003075    0.000476\n",
      " step:   0.8221(harm=  0.8659)  dis= 0.00405  next Energy=  -218.690316 (dE=-0.117E-02)\n",
      " reached required accuracy - stopping structural energy minimisation\n",
      " running on   32 total cores\n",
      " distrk:  each k-point on   16 cores,    2 groups\n",
      " distr:  one band on    4 cores,    4 groups\n",
      " using from now: INCAR     \n",
      " vasp.5.4.4.18Apr17-6-g9f103f2a35 (build Apr 29 2021 16:29:03) complex          \n",
      "  \n",
      " POSCAR found type information on POSCAR  Ti O \n",
      " POSCAR found :  2 types and      24 ions\n",
      " scaLAPACK will be used\n",
      "\n",
      " ----------------------------------------------------------------------------- \n",
      "|                                                                             |\n",
      "|           W    W    AA    RRRRR   N    N  II  N    N   GGGG   !!!           |\n",
      "|           W    W   A  A   R    R  NN   N  II  NN   N  G    G  !!!           |\n",
      "|           W    W  A    A  R    R  N N  N  II  N N  N  G       !!!           |\n",
      "|           W WW W  AAAAAA  RRRRR   N  N N  II  N  N N  G  GGG   !            |\n",
      "|           WW  WW  A    A  R   R   N   NN  II  N   NN  G    G                |\n",
      "|           W    W  A    A  R    R  N    N  II  N    N   GGGG   !!!           |\n",
      "|                                                                             |\n",
      "|      You have enabled k-point parallelism (KPAR>1).                         |\n",
      "|      This developmental code was originally  written by Paul Kent at ORNL,  |\n",
      "|      and carefully double checked in Vienna.                                |\n",
      "|      GW as well as linear response parallelism added by Martijn Marsman     |\n",
      "|      and Georg Kresse.                                                      |\n",
      "|      Carefully verify results versus KPAR=1.                                |\n",
      "|      Report problems to Paul Kent and Vienna.                               |\n",
      "|                                                                             |\n",
      " ----------------------------------------------------------------------------- \n",
      "\n",
      " WARNING: for PREC=h ENMAX is automatically increase by 25 %\n",
      "        this was not the case for versions prior to vasp.4.4\n",
      " WARNING: for PREC=h ENMAX is automatically increase by 25 %\n",
      "        this was not the case for versions prior to vasp.4.4\n",
      " Error reading item 'LDAUL' from file INCAR.\n",
      " Error code was IERR=           5  Found N=           0  data items\n",
      " Error reading item 'LDAUU' from file INCAR.\n",
      " Error code was IERR=           5  Found N=           0  data items\n",
      " Error reading item 'LDAUJ' from file INCAR.\n",
      " Error code was IERR=           5  Found N=           0  data items\n",
      " LDA part: xc-table for Pade appr. of Perdew\n",
      " generate k-points for:    2    5    3\n",
      " POSCAR, INCAR and KPOINTS ok, starting setup\n",
      " FFT: planning ...\n",
      " WAVECAR not read\n",
      " entering main loop\n",
      "       N       E                     dE             d eps       ncg     rms          ort\n",
      "DAV:   1     0.262795097532E+04    0.26280E+04   -0.89833E+04  1440   0.162E+03\n",
      "DAV:   2     0.254716478219E+03   -0.23732E+04   -0.22088E+04  1440   0.493E+02\n",
      "DAV:   3    -0.246866958542E+03   -0.50158E+03   -0.47224E+03  1440   0.207E+02\n",
      "DAV:   4    -0.275106046776E+03   -0.28239E+02   -0.27995E+02  1440   0.541E+01\n",
      "DAV:   5    -0.275957559243E+03   -0.85151E+00   -0.84894E+00  1440   0.108E+01\n",
      " gam= 0.000 g(H,U,f)=  0.723E+03 0.921E+02 0.333E-03 ort(H,U,f) = 0.000E+00 0.000E+00 0.000E+00\n",
      "SDA:   6    -0.682160086645E+02    0.20774E+03   -0.84894E+00  1440   0.816E+03 0.000E+00\n",
      " gam= 0.000 trial= 0.400  step= 0.283 mean= 0.400\n",
      " gam= 0.071 g(H,U,f)=  0.429E+02 0.147E+02-0.132E-13 ort(H,U,f) =-0.492E+02 0.468E+02-0.647E-13\n",
      "CGA:   7    -0.186533541063E+03   -0.11832E+03   -0.11526E+03  1440   0.576E+02-0.244E+01\n",
      " gam= 0.071 trial= 0.394  step= 0.638 mean= 0.394\n",
      " gam= 0.643 g(H,U,f)=  0.358E+02 0.125E+01 0.167E-04 ort(H,U,f) =-0.130E+02 0.677E+01 0.322E-04\n",
      "CGA:   8    -0.204058362013E+03   -0.17525E+02   -0.18296E+02  1440   0.370E+02-0.626E+01\n",
      " gam= 0.643 trial= 0.406  step= 0.417 mean= 0.406\n",
      " gam= 0.347 g(H,U,f)=  0.126E+02 0.201E+00-0.150E-03 ort(H,U,f) = 0.171E+00-0.211E+00-0.212E-03\n",
      "CGA:   9    -0.210936091471E+03   -0.68777E+01   -0.68783E+01  1440   0.128E+02-0.402E-01\n",
      " gam= 0.347 trial= 0.407  step= 0.371 mean= 0.407\n",
      " gam= 0.302 g(H,U,f)=  0.375E+01 0.128E+00-0.197E-14 ort(H,U,f) =-0.254E+00 0.309E+00-0.146E-13\n",
      "CGA:  10    -0.213311904687E+03   -0.23758E+01   -0.23779E+01  1440   0.388E+01 0.551E-01\n",
      " gam= 0.302 trial= 0.405  step= 0.420 mean= 0.405\n",
      " gam= 0.353 g(H,U,f)=  0.130E+01 0.709E-01-0.847E-35 ort(H,U,f) =-0.572E-01 0.517E-01 0.136E-34\n",
      "CGA:  11    -0.214131013833E+03   -0.81911E+00   -0.81921E+00  1440   0.137E+01-0.550E-02\n",
      " gam= 0.353 trial= 0.406  step= 0.483 mean= 0.406\n",
      " gam= 0.446 g(H,U,f)=  0.570E+00 0.413E-01-0.531E-28 ort(H,U,f) =-0.378E-01 0.361E-01-0.165E-28\n",
      "CGA:  12    -0.214461583975E+03   -0.33057E+00   -0.33066E+00  1440   0.611E+00-0.169E-02\n",
      " gam= 0.446 trial= 0.410  step= 0.473 mean= 0.410\n",
      " gam= 0.393 g(H,U,f)=  0.228E+00 0.128E-01-0.947E-36 ort(H,U,f) =-0.217E-01 0.209E-01 0.128E-34\n",
      "CGA:  13    -0.214605994990E+03   -0.14441E+00   -0.14444E+00  1440   0.240E+00-0.818E-03\n",
      " gam= 0.393 trial= 0.413  step= 0.525 mean= 0.413\n",
      " gam= 0.431 g(H,U,f)=  0.947E-01 0.894E-02-0.476E-28 ort(H,U,f) =-0.142E-01 0.135E-01 0.685E-28\n",
      "CGA:  14    -0.214668911130E+03   -0.62916E-01   -0.62959E-01  1440   0.104E+00-0.731E-03\n",
      " gam= 0.431 trial= 0.418  step= 0.497 mean= 0.418\n",
      " gam= 0.379 g(H,U,f)=  0.377E-01 0.152E-02-0.982E-18 ort(H,U,f) =-0.567E-02 0.511E-02 0.646E-18\n",
      "CGA:  15    -0.214694554984E+03   -0.25644E-01   -0.25672E-01  1440   0.392E-01-0.558E-03\n",
      " gam= 0.379 trial= 0.422  step= 0.524 mean= 0.422\n",
      " gam= 0.368 g(H,U,f)=  0.136E-01 0.808E-03 0.543E-26 ort(H,U,f) =-0.194E-02 0.194E-02 0.341E-26\n",
      "CGA:  16    -0.214704774221E+03   -0.10219E-01   -0.10219E-01  1440   0.144E-01 0.849E-05\n",
      " gam= 0.368 trial= 0.427  step= 0.515 mean= 0.427\n",
      " gam= 0.351 g(H,U,f)=  0.483E-02 0.229E-03-0.180E-27 ort(H,U,f) =-0.460E-03 0.514E-03-0.650E-27\n",
      "CGA:  17    -0.214708489248E+03   -0.37150E-02   -0.37127E-02  1440   0.506E-02 0.539E-04\n",
      " gam= 0.351 trial= 0.432  step= 0.529 mean= 0.432\n",
      " gam= 0.363 g(H,U,f)=  0.166E-02 0.181E-03-0.406E-23 ort(H,U,f) =-0.278E-04 0.586E-04-0.105E-22\n",
      "CGA:  18    -0.214709834970E+03   -0.13457E-02   -0.13443E-02  1440   0.184E-02 0.308E-04\n",
      " gam= 0.363 trial= 0.437  step= 0.570 mean= 0.437\n",
      " gam= 0.423 g(H,U,f)=  0.710E-03 0.690E-04-0.178E-17 ort(H,U,f) =-0.867E-04 0.116E-03 0.256E-17\n",
      "CGA:  19    -0.214710365032E+03   -0.53006E-03   -0.52814E-03  1440   0.779E-03 0.288E-04\n",
      " gam= 0.423 trial= 0.443  step= 0.587 mean= 0.443\n",
      " gam= 0.458 g(H,U,f)=  0.336E-03 0.209E-04-0.584E-16 ort(H,U,f) =-0.361E-04 0.493E-04 0.546E-16\n",
      "CGA:  20    -0.214710598341E+03   -0.23331E-03   -0.23236E-03  1440   0.357E-03 0.132E-04\n",
      " gam= 0.458 trial= 0.451  step= 0.614 mean= 0.451\n",
      " gam= 0.417 g(H,U,f)=  0.135E-03 0.115E-04 0.238E-05 ort(H,U,f) =-0.312E-04 0.292E-04 0.275E-05\n",
      "CGA:  21    -0.214710625509E+03   -0.27168E-04   -0.11135E-03  1440   0.149E-03 0.815E-06\n",
      " gam= 0.417 trial= 0.459  step= 0.641 mean= 0.459\n",
      " gam= 0.466 g(H,U,f)=  0.640E-04 0.445E-05 0.102E-05 ort(H,U,f) =-0.188E-04 0.896E-05 0.280E-05\n",
      "CGA:  22    -0.214710672679E+03   -0.47170E-04   -0.47822E-04  1440   0.695E-04-0.701E-05\n",
      " gam= 0.466 trial= 0.468  step= 0.571 mean= 0.468\n",
      " gam= 0.373 g(H,U,f)=  0.251E-04 0.462E-06 0.273E-06 ort(H,U,f) =-0.256E-05 0.100E-05 0.132E-05\n",
      "CGA:  23    -0.214710691569E+03   -0.18890E-04   -0.18906E-04  1440   0.259E-04-0.242E-06\n",
      " gam= 0.373 trial= 0.473  step= 0.591 mean= 0.473\n",
      " gam= 0.333 g(H,U,f)=  0.824E-05 0.315E-06 0.579E-07 ort(H,U,f) = 0.277E-06-0.259E-06 0.367E-06\n",
      "CGA:  24    -0.214710699211E+03   -0.76418E-05   -0.76198E-05  1440   0.861E-05 0.385E-06\n",
      " gam= 0.333 trial= 0.479  step= 0.647 mean= 0.479\n",
      " gam= 0.411 g(H,U,f)=  0.328E-05 0.241E-06 0.133E-07 ort(H,U,f) =-0.393E-06-0.324E-07 0.892E-07\n",
      "CGA:  25    -0.214710702010E+03   -0.27990E-05   -0.28274E-05  1440   0.354E-05-0.336E-06\n",
      " gam= 0.411 trial= 0.487  step= 0.693 mean= 0.487\n",
      " gam= 0.465 g(H,U,f)=  0.151E-05 0.131E-06 0.396E-08 ort(H,U,f) =-0.271E-06 0.281E-07 0.282E-07\n",
      "CGA:  26    -0.214710703164E+03   -0.11547E-05   -0.11768E-05  1440   0.165E-05-0.214E-06\n",
      " gam= 0.465 trial= 0.498  step= 0.761 mean= 0.498\n",
      " gam= 0.494 g(H,U,f)=  0.748E-06 0.627E-07 0.194E-08 ort(H,U,f) =-0.289E-06 0.558E-07 0.121E-07\n",
      "CGA:  27    -0.214710703723E+03   -0.55883E-06   -0.58801E-06  1440   0.812E-06-0.221E-06\n",
      " gam= 0.494 trial= 0.511  step= 0.760 mean= 0.511\n",
      " gam= 0.525 g(H,U,f)=  0.397E-06 0.281E-07 0.171E-08 ort(H,U,f) =-0.103E-06 0.231E-07 0.740E-08\n",
      "CGA:  28    -0.214710703981E+03   -0.25812E-06   -0.26715E-06  1440   0.427E-06-0.729E-07\n",
      " gam= 0.525 trial= 0.523  step=-0.001 mean= 0.523\n",
      " BOPT < 0, no correction made\n",
      " gam= 0.472 g(H,U,f)=  0.174E-06 0.270E-07-0.733E-64 ort(H,U,f) = 0.451E-07 0.384E-07-0.488E-64\n",
      "CGA:  29    -0.214710781379E+03   -0.77398E-04    0.13390E-09  1440   0.201E-06 0.835E-07\n",
      " gam= 0.472 trial= 0.523  step= 0.462 mean= 0.523\n",
      " gam= 0.438 g(H,U,f)=  0.722E-07 0.161E-07-0.108E-57 ort(H,U,f) = 0.314E-07 0.324E-07-0.192E-57\n",
      "CGA:  30    -0.214710781433E+03   -0.53620E-07   -0.55599E-07  1440   0.883E-07 0.638E-07\n",
      " gam= 0.438 trial= 0.520  step= 0.583 mean= 0.520\n",
      " final diagonalization\n",
      "   1 F= -.21832956E+03 E0= -.21832956E+03  d E =-.218330E+03  mag=     0.0000\n",
      " curvature:   0.00 expect dE= 0.000E+00 dE for cont linesearch  0.000E+00\n",
      " trial: gam= 0.00000 g(F)=  0.431E-02 g(S)=  0.846E-01 ort = 0.000E+00 (trialstep = 0.100E+01)\n",
      " search vector abs. value=  0.889E-01\n",
      " bond charge predicted\n",
      "       N       E                     dE             d eps       ncg     rms          ort\n",
      " gam= 0.000 g(H,U,f)=  0.614E+01 0.151E+00-0.342E-42 ort(H,U,f) = 0.000E+00 0.000E+00 0.000E+00\n",
      "SDA:   1    -0.213399769881E+03    0.13110E+01    0.00000E+00  1440   0.629E+01 0.000E+00\n",
      " gam= 0.000 trial= 0.523  step= 0.311 mean= 0.523\n",
      " gam= 0.111 g(H,U,f)=  0.661E+00 0.368E-01-0.454E-42 ort(H,U,f) =-0.334E-01 0.392E-01-0.148E-41\n",
      "CGA:   2    -0.214378995611E+03   -0.97923E+00   -0.97841E+00  1440   0.698E+00 0.582E-02\n",
      " gam= 0.111 trial= 0.513  step= 0.491 mean= 0.513\n",
      " gam= 0.347 g(H,U,f)=  0.213E+00 0.294E-01-0.640E-49 ort(H,U,f) =-0.221E-01 0.224E-01-0.600E-47\n",
      "CGA:   3    -0.214550307257E+03   -0.17131E+00   -0.17132E+00  1440   0.242E+00 0.315E-03\n",
      " gam= 0.347 trial= 0.511  step= 0.467 mean= 0.511\n",
      " gam= 0.205 g(H,U,f)=  0.431E-01 0.643E-02-0.152E-09 ort(H,U,f) =-0.163E-01 0.167E-01-0.118E-07\n",
      "CGA:   4    -0.214606842777E+03   -0.56536E-01   -0.56554E-01  1440   0.495E-01 0.384E-03\n",
      " gam= 0.205 trial= 0.509  step= 0.472 mean= 0.509\n",
      " gam= 0.285 g(H,U,f)=  0.112E-01 0.290E-02-0.388E-09 ort(H,U,f) =-0.652E-02 0.657E-02 0.976E-08\n",
      "CGA:   5    -0.214618540963E+03   -0.11698E-01   -0.11699E-01  1440   0.141E-01 0.566E-04\n",
      " gam= 0.285 trial= 0.507  step= 0.522 mean= 0.507\n",
      " gam= 0.395 g(H,U,f)=  0.431E-02 0.127E-02-0.228E-08 ort(H,U,f) =-0.305E-02 0.301E-02 0.127E-08\n",
      "CGA:   6    -0.214622236506E+03   -0.36955E-02   -0.36958E-02  1440   0.558E-02-0.344E-04\n",
      " gam= 0.395 trial= 0.508  step= 0.634 mean= 0.508\n",
      " gam= 0.366 g(H,U,f)=  0.179E-02 0.255E-03-0.659E-57 ort(H,U,f) =-0.113E-02 0.712E-03-0.180E-56\n",
      "CGA:   7    -0.214623955083E+03   -0.17186E-02   -0.17639E-02  1440   0.204E-02-0.417E-03\n",
      " gam= 0.366 trial= 0.514  step= 0.586 mean= 0.514\n",
      " gam= 0.269 g(H,U,f)=  0.510E-03 0.394E-04-0.561E-49 ort(H,U,f) =-0.117E-03 0.119E-03-0.269E-48\n",
      "CGA:   8    -0.214624508340E+03   -0.55326E-03   -0.55316E-03  1440   0.549E-03 0.248E-05\n",
      " gam= 0.269 trial= 0.518  step= 0.554 mean= 0.518\n",
      " gam= 0.231 g(H,U,f)=  0.115E-03 0.123E-04-0.145E-41 ort(H,U,f) = 0.914E-05 0.175E-04-0.109E-40\n",
      "CGA:   9    -0.214624661057E+03   -0.15272E-03   -0.15224E-03  1440   0.127E-03 0.266E-04\n",
      " gam= 0.231 trial= 0.520  step= 0.554 mean= 0.520\n",
      " gam= 0.253 g(H,U,f)=  0.258E-04 0.640E-05-0.783E-34 ort(H,U,f) = 0.459E-05 0.937E-05-0.315E-33\n",
      "CGA:  10    -0.214624698181E+03   -0.37124E-04   -0.36882E-04  1440   0.322E-04 0.140E-04\n",
      " gam= 0.253 trial= 0.522  step= 0.598 mean= 0.522\n",
      " gam= 0.281 g(H,U,f)=  0.694E-05 0.208E-05-0.920E-27 ort(H,U,f) =-0.169E-05 0.389E-05-0.896E-26\n",
      "CGA:  11    -0.214624708951E+03   -0.10770E-04   -0.10685E-04  1440   0.903E-05 0.220E-05\n",
      " gam= 0.281 trial= 0.525  step= 0.682 mean= 0.525\n",
      " gam= 0.318 g(H,U,f)=  0.242E-05 0.452E-06-0.469E-20 ort(H,U,f) =-0.112E-05 0.140E-05-0.106E-18\n",
      "CGA:  12    -0.214624712260E+03   -0.33095E-05   -0.32872E-05  1440   0.287E-05 0.286E-06\n",
      " gam= 0.318 trial= 0.533  step= 1.070 mean= 0.533\n",
      " gam= 0.748 g(H,U,f)=  0.208E-05 0.731E-07-0.978E-28 ort(H,U,f) =-0.122E-05-0.155E-06 0.281E-26\n",
      "CGA:  13    -0.214624713478E+03   -0.12175E-05   -0.15861E-05  1440   0.215E-05-0.137E-05\n",
      " gam= 0.748 trial= 0.560  step= 0.721 mean= 0.560\n",
      " gam= 0.497 g(H,U,f)=  0.899E-06 0.170E-06-0.180E-09 ort(H,U,f) =-0.368E-06-0.371E-06 0.944E-09\n",
      "CGA:  14    -0.214624636498E+03    0.76980E-04   -0.40439E-06  1440   0.107E-05-0.738E-06\n",
      " gam= 0.497 trial= 0.568  step= 0.422 mean= 0.568\n",
      " gam= 0.510 g(H,U,f)=  0.386E-06 0.159E-06-0.310E-09 ort(H,U,f) = 0.186E-06-0.269E-07 0.387E-09\n",
      "CGA:  15    -0.214624636634E+03   -0.13601E-06   -0.14790E-06  1440   0.545E-06 0.160E-06\n",
      " gam= 0.510 trial= 0.561  step= 0.320 mean= 0.561\n",
      " gam= 0.503 g(H,U,f)=  0.158E-06 0.116E-06-0.272E-09 ort(H,U,f) = 0.139E-06 0.117E-06-0.106E-09\n",
      "CGA:  16    -0.214624636704E+03   -0.69536E-07   -0.10031E-06  1440   0.274E-06 0.256E-06\n",
      " gam= 0.503 trial= 0.549  step= 0.298 mean= 0.549\n",
      " final diagonalization\n",
      "   2 F= -.21832384E+03 E0= -.21832387E+03  d E =0.571604E-02  mag=     0.0000\n",
      " trial-energy change:    0.005716  1 .order    0.005903   -0.088937    0.100743\n",
      " step:   0.4704(harm=  0.4689)  dis= 0.00225  next Energy=  -218.350491 (dE=-0.209E-01)\n",
      " bond charge predicted\n",
      "       N       E                     dE             d eps       ncg     rms          ort\n",
      " gam= 0.000 g(H,U,f)=  0.176E+01 0.410E-01-0.197E-06 ort(H,U,f) = 0.000E+00 0.000E+00 0.000E+00\n",
      "SDA:   1    -0.214346775017E+03    0.27786E+00    0.00000E+00  1440   0.180E+01 0.000E+00\n",
      " gam= 0.000 trial= 0.536  step= 0.309 mean= 0.536\n",
      " gam= 0.112 g(H,U,f)=  0.190E+00 0.105E-01-0.357E-08 ort(H,U,f) =-0.131E-01 0.108E-01-0.145E-07\n",
      "CGA:   2    -0.214624650516E+03   -0.27788E+00   -0.27788E+00  1440   0.201E+00-0.229E-02\n",
      " gam= 0.112 trial= 0.525  step= 0.482 mean= 0.525\n",
      " gam= 0.344 g(H,U,f)=  0.605E-01 0.848E-02-0.707E-06 ort(H,U,f) =-0.608E-02 0.611E-02 0.243E-05\n",
      "CGA:   3    -0.214672904124E+03   -0.48254E-01   -0.48254E-01  1440   0.690E-01 0.366E-04\n",
      " gam= 0.344 trial= 0.523  step= 0.473 mean= 0.523\n",
      " gam= 0.205 g(H,U,f)=  0.123E-01 0.183E-02-0.147E-48 ort(H,U,f) =-0.503E-02 0.474E-02-0.212E-48\n",
      "CGA:   4    -0.214689241983E+03   -0.16338E-01   -0.16323E-01  1440   0.142E-01-0.283E-03\n",
      " gam= 0.205 trial= 0.520  step= 0.473 mean= 0.520\n",
      " gam= 0.285 g(H,U,f)=  0.322E-02 0.817E-03-0.226E-25 ort(H,U,f) =-0.188E-02 0.186E-02-0.410E-25\n",
      "CGA:   5    -0.214692572562E+03   -0.33306E-02   -0.33300E-02  1440   0.404E-02-0.242E-04\n",
      " gam= 0.285 trial= 0.518  step= 0.515 mean= 0.518\n",
      " gam= 0.387 g(H,U,f)=  0.120E-02 0.364E-03-0.461E-26 ort(H,U,f) =-0.842E-03 0.859E-03-0.142E-25\n",
      "CGA:   6    -0.214693610708E+03   -0.10381E-02   -0.10382E-02  1440   0.157E-02 0.169E-04\n",
      " gam= 0.387 trial= 0.518  step= 0.484 mean= 0.518\n",
      " gam= 0.262 g(H,U,f)=  0.310E-03 0.101E-03-0.970E-08 ort(H,U,f) =-0.304E-04 0.326E-03-0.253E-07\n",
      "CGA:   7    -0.214693981399E+03   -0.37069E-03   -0.38060E-03  1440   0.411E-03 0.295E-03\n",
      " gam= 0.262 trial= 0.516  step= 0.675 mean= 0.516\n",
      " gam= 0.450 g(H,U,f)=  0.161E-03 0.242E-04-0.127E-08 ort(H,U,f) =-0.679E-04 0.693E-04-0.399E-08\n",
      "CGA:   8    -0.214694146172E+03   -0.16477E-03   -0.16467E-03  1440   0.185E-03 0.131E-05\n",
      " gam= 0.450 trial= 0.524  step=-0.794 mean= 0.524\n",
      " BOPT < 0, no correction made\n",
      " gam= 0.279 g(H,U,f)=  0.471E-04 0.443E-05-0.124E-45 ort(H,U,f) =-0.126E-04 0.156E-04-0.970E-45\n",
      "CGA:   9    -0.214694275480E+03   -0.12931E-03    0.73731E-04  1440   0.516E-04 0.301E-05\n",
      " gam= 0.279 trial= 0.524  step= 0.673 mean= 0.524\n",
      " gam= 0.383 g(H,U,f)=  0.185E-04 0.122E-05-0.768E-21 ort(H,U,f) =-0.137E-04 0.183E-05-0.772E-20\n",
      "CGA:  10    -0.214694292220E+03   -0.16740E-04   -0.17620E-04  1440   0.198E-04-0.118E-04\n",
      " gam= 0.383 trial= 0.531  step= 0.564 mean= 0.531\n",
      " gam= 0.298 g(H,U,f)=  0.530E-05 0.586E-06-0.315E-26 ort(H,U,f) =-0.153E-05 0.298E-06 0.866E-24\n",
      "CGA:  11    -0.214694296494E+03   -0.42741E-05   -0.42943E-05  1440   0.588E-05-0.123E-05\n",
      " gam= 0.298 trial= 0.533  step= 0.010 mean= 0.533\n",
      " gam= 0.000 g(H,U,f)=  0.488E-05 0.579E-06-0.159E-25 ort(H,U,f) = 0.476E-05 0.669E-06 0.971E-24\n",
      "CGA:  12    -0.214694296540E+03   -0.46215E-07   -0.27326E-07  1440   0.546E-05 0.542E-05\n",
      " gam= 0.000 trial= 0.507  step= 0.466 mean= 0.507\n",
      " gam= 0.204 g(H,U,f)=  0.761E-06 0.354E-06-0.381E-19 ort(H,U,f) = 0.128E-05 0.417E-06-0.447E-19\n",
      "CGA:  13    -0.214694297778E+03   -0.12379E-05   -0.12726E-05  1440   0.111E-05 0.169E-05\n",
      " gam= 0.204 trial= 0.505  step= 0.002 mean= 0.505\n",
      " gam= 0.000 g(H,U,f)=  0.707E-06 0.353E-06-0.415E-19 ort(H,U,f) = 0.102E-05 0.439E-06-0.514E-19\n",
      "CGA:  14    -0.214694297780E+03   -0.21628E-08   -0.17463E-08  1440   0.106E-05 0.146E-05\n",
      " gam= 0.000 trial= 0.480  step= 0.002 mean= 0.480\n",
      " final diagonalization\n",
      "   3 F= -.21835050E+03 E0= -.21835050E+03  d E =-.209445E-01  mag=    -0.0000\n",
      " curvature:  -0.23 expect dE=-0.503E-03 dE for cont linesearch -0.194E-06\n",
      " trial: gam= 0.02106 g(F)=  0.213E-02 g(S)=  0.124E-04 ort = 0.271E-03 (trialstep = 0.894E+00)\n",
      " search vector abs. value=  0.220E-02\n",
      " bond charge predicted\n",
      "       N       E                     dE             d eps       ncg     rms          ort\n",
      " gam= 0.000 g(H,U,f)=  0.170E+00 0.332E-01-0.437E-19 ort(H,U,f) = 0.000E+00 0.000E+00 0.000E+00\n",
      "SDA:   1    -0.214622844582E+03    0.71453E-01    0.00000E+00  1440   0.203E+00 0.000E+00\n",
      " gam= 0.000 trial= 0.456  step= 0.393 mean= 0.456\n",
      " gam= 0.426 g(H,U,f)=  0.779E-01 0.861E-02-0.513E-08 ort(H,U,f) =-0.139E-01 0.142E-01 0.172E-07\n",
      "CGA:   2    -0.214662708075E+03   -0.39863E-01   -0.39884E-01  1440   0.865E-01 0.330E-03\n",
      " gam= 0.426 trial= 0.453  step= 0.553 mean= 0.453\n",
      " gam= 0.264 g(H,U,f)=  0.199E-01 0.294E-02-0.275E-09 ort(H,U,f) =-0.804E-02 0.806E-02-0.446E-08\n",
      "CGA:   3    -0.214686684954E+03   -0.23977E-01   -0.23976E-01  1440   0.229E-01 0.197E-04\n",
      " gam= 0.264 trial= 0.458  step= 0.417 mean= 0.458\n",
      " gam= 0.315 g(H,U,f)=  0.585E-02 0.134E-02-0.704E-48 ort(H,U,f) =-0.371E-02 0.339E-02 0.151E-47\n",
      "CGA:   4    -0.214691462987E+03   -0.47780E-02   -0.47647E-02  1440   0.719E-02-0.318E-03\n",
      " gam= 0.315 trial= 0.456  step= 0.470 mean= 0.456\n",
      " gam= 0.318 g(H,U,f)=  0.190E-02 0.389E-03-0.549E-24 ort(H,U,f) =-0.126E-02 0.126E-02-0.127E-24\n",
      "CGA:   5    -0.214693129933E+03   -0.16669E-02   -0.16669E-02  1440   0.229E-02 0.162E-05\n",
      " gam= 0.318 trial= 0.456  step= 0.554 mean= 0.456\n",
      " gam= 0.366 g(H,U,f)=  0.768E-03 0.689E-04-0.396E-22 ort(H,U,f) =-0.277E-03 0.284E-03 0.720E-22\n",
      "CGA:   6    -0.214693763846E+03   -0.63391E-03   -0.63360E-03  1440   0.837E-03 0.647E-05\n",
      " gam= 0.366 trial= 0.461  step= 0.367 mean= 0.461\n",
      " gam= 0.219 g(H,U,f)=  0.165E-03 0.182E-04-0.956E-10 ort(H,U,f) = 0.180E-03 0.861E-04-0.101E-09\n",
      "CGA:   7    -0.214693889854E+03   -0.12601E-03   -0.15420E-03  1440   0.184E-03 0.266E-03\n",
      " gam= 0.219 trial= 0.457  step= 0.518 mean= 0.457\n",
      " gam= 0.441 g(H,U,f)=  0.725E-04 0.834E-05-0.112E-09 ort(H,U,f) =-0.227E-04 0.205E-04-0.112E-09\n",
      "CGA:   8    -0.214693952441E+03   -0.62587E-04   -0.62653E-04  1440   0.809E-04-0.213E-05\n",
      " gam= 0.441 trial= 0.460  step=-0.139 mean= 0.460\n",
      " BOPT < 0, no correction made\n",
      " gam= 0.303 g(H,U,f)=  0.227E-04 0.180E-05-0.512E-53 ort(H,U,f) = 0.215E-05 0.633E-05-0.132E-52\n",
      "CGA:   9    -0.214694049917E+03   -0.97476E-04    0.55534E-05  1440   0.245E-04 0.848E-05\n",
      " gam= 0.303 trial= 0.460  step= 0.447 mean= 0.460\n",
      " gam= 0.279 g(H,U,f)=  0.604E-05 0.798E-06-0.235E-33 ort(H,U,f) =-0.417E-06 0.134E-05 0.929E-33\n",
      "CGA:  10    -0.214694055966E+03   -0.60491E-05   -0.60548E-05  1440   0.684E-05 0.926E-06\n",
      " gam= 0.279 trial= 0.459  step= 0.532 mean= 0.459\n",
      " gam= 0.401 g(H,U,f)=  0.233E-05 0.406E-06-0.134E-21 ort(H,U,f) =-0.866E-06 0.596E-06-0.208E-21\n",
      "CGA:  11    -0.214694057846E+03   -0.18797E-05   -0.18896E-05  1440   0.274E-05-0.270E-06\n",
      " gam= 0.401 trial= 0.463  step= 0.701 mean= 0.463\n",
      " gam= 0.535 g(H,U,f)=  0.135E-05 0.112E-06-0.149E-20 ort(H,U,f) =-0.737E-06 0.172E-06-0.348E-20\n",
      "CGA:  12    -0.214694058701E+03   -0.85498E-06   -0.92242E-06  1440   0.147E-05-0.565E-06\n",
      " gam= 0.535 trial= 0.475  step= 0.002 mean= 0.475\n",
      " gam= 0.000 g(H,U,f)=  0.131E-05 0.112E-06-0.162E-20 ort(H,U,f) = 0.956E-06 0.204E-06-0.365E-20\n",
      "CGA:  13    -0.214694058703E+03   -0.19409E-08   -0.98161E-09  1440   0.142E-05 0.116E-05\n",
      " gam= 0.000 trial= 0.451  step= 0.002 mean= 0.451\n",
      " final diagonalization\n",
      "   4 F= -.21835173E+03 E0= -.21835173E+03  d E =-.123502E-02  mag=    -0.0000\n",
      " trial-energy change:   -0.001235  1 .order   -0.001227   -0.001923   -0.000532\n",
      " step:   1.2218(harm=  1.2364)  dis= 0.00299  next Energy=  -218.351833 (dE=-0.133E-02)\n",
      " reached required accuracy - stopping structural energy minimisation\n",
      " running on   32 total cores\n",
      " distrk:  each k-point on   16 cores,    2 groups\n",
      " distr:  one band on    4 cores,    4 groups\n",
      " using from now: INCAR     \n",
      " vasp.5.4.4.18Apr17-6-g9f103f2a35 (build Apr 29 2021 16:29:03) complex          \n",
      "  \n",
      " POSCAR found type information on POSCAR  Ti O \n",
      " POSCAR found :  2 types and      24 ions\n",
      " scaLAPACK will be used\n",
      "\n",
      " ----------------------------------------------------------------------------- \n",
      "|                                                                             |\n",
      "|           W    W    AA    RRRRR   N    N  II  N    N   GGGG   !!!           |\n",
      "|           W    W   A  A   R    R  NN   N  II  NN   N  G    G  !!!           |\n",
      "|           W    W  A    A  R    R  N N  N  II  N N  N  G       !!!           |\n",
      "|           W WW W  AAAAAA  RRRRR   N  N N  II  N  N N  G  GGG   !            |\n",
      "|           WW  WW  A    A  R   R   N   NN  II  N   NN  G    G                |\n",
      "|           W    W  A    A  R    R  N    N  II  N    N   GGGG   !!!           |\n",
      "|                                                                             |\n",
      "|      You have enabled k-point parallelism (KPAR>1).                         |\n",
      "|      This developmental code was originally  written by Paul Kent at ORNL,  |\n",
      "|      and carefully double checked in Vienna.                                |\n",
      "|      GW as well as linear response parallelism added by Martijn Marsman     |\n",
      "|      and Georg Kresse.                                                      |\n",
      "|      Carefully verify results versus KPAR=1.                                |\n",
      "|      Report problems to Paul Kent and Vienna.                               |\n",
      "|                                                                             |\n",
      " ----------------------------------------------------------------------------- \n",
      "\n",
      " WARNING: for PREC=h ENMAX is automatically increase by 25 %\n",
      "        this was not the case for versions prior to vasp.4.4\n",
      " WARNING: for PREC=h ENMAX is automatically increase by 25 %\n",
      "        this was not the case for versions prior to vasp.4.4\n",
      " Error reading item 'LDAUL' from file INCAR.\n",
      " Error code was IERR=           5  Found N=           0  data items\n",
      " Error reading item 'LDAUU' from file INCAR.\n",
      " Error code was IERR=           5  Found N=           0  data items\n",
      " Error reading item 'LDAUJ' from file INCAR.\n",
      " Error code was IERR=           5  Found N=           0  data items\n",
      " LDA part: xc-table for Pade appr. of Perdew\n",
      " generate k-points for:    2    5    3\n",
      " POSCAR, INCAR and KPOINTS ok, starting setup\n",
      " FFT: planning ...\n",
      " WAVECAR not read\n",
      " entering main loop\n",
      "       N       E                     dE             d eps       ncg     rms          ort\n",
      "DAV:   1     0.263023414991E+04    0.26302E+04   -0.90003E+04  1440   0.162E+03\n",
      "DAV:   2     0.256611719014E+03   -0.23736E+04   -0.22125E+04  1440   0.494E+02\n",
      "DAV:   3    -0.245900094832E+03   -0.50251E+03   -0.47262E+03  1440   0.207E+02\n",
      "DAV:   4    -0.274685367695E+03   -0.28785E+02   -0.28534E+02  1440   0.545E+01\n",
      "DAV:   5    -0.275549039454E+03   -0.86367E+00   -0.86098E+00  1440   0.109E+01\n",
      " gam= 0.000 g(H,U,f)=  0.716E+03 0.918E+02-0.190E-03 ort(H,U,f) = 0.000E+00 0.000E+00 0.000E+00\n",
      "SDA:   6    -0.694542514904E+02    0.20609E+03   -0.86098E+00  1440   0.808E+03 0.000E+00\n",
      " gam= 0.000 trial= 0.400  step= 0.283 mean= 0.400\n",
      " gam= 0.070 g(H,U,f)=  0.420E+02 0.145E+02 0.684E-04 ort(H,U,f) =-0.489E+02 0.463E+02-0.492E-04\n",
      "CGA:   7    -0.186933775472E+03   -0.11748E+03   -0.11446E+03  1440   0.565E+02-0.262E+01\n",
      " gam= 0.070 trial= 0.394  step= 0.634 mean= 0.394\n",
      " gam= 0.610 g(H,U,f)=  0.329E+02 0.157E+01-0.721E-39 ort(H,U,f) =-0.119E+02 0.720E+01 0.344E-37\n",
      "CGA:   8    -0.204193634937E+03   -0.17260E+02   -0.17846E+02  1440   0.344E+02-0.471E+01\n",
      " gam= 0.610 trial= 0.406  step= 0.443 mean= 0.406\n",
      " gam= 0.344 g(H,U,f)=  0.116E+02 0.227E+00-0.810E-15 ort(H,U,f) =-0.742E+00-0.122E+00 0.609E-14\n",
      "CGA:   9    -0.211158634266E+03   -0.69650E+01   -0.69917E+01  1440   0.119E+02-0.865E+00\n",
      " gam= 0.344 trial= 0.408  step= 0.383 mean= 0.408\n",
      " gam= 0.296 g(H,U,f)=  0.336E+01 0.147E+00-0.187E-13 ort(H,U,f) = 0.316E-01 0.269E-02 0.231E-12\n",
      "CGA:  10    -0.213371576166E+03   -0.22129E+01   -0.22138E+01  1440   0.351E+01 0.343E-01\n",
      " gam= 0.296 trial= 0.407  step= 0.438 mean= 0.407\n",
      " gam= 0.370 g(H,U,f)=  0.122E+01 0.769E-01-0.321E-26 ort(H,U,f) =-0.140E-01 0.888E-02 0.252E-26\n",
      "CGA:  11    -0.214141563625E+03   -0.76999E+00   -0.77014E+00  1440   0.130E+01-0.509E-02\n",
      " gam= 0.370 trial= 0.408  step= 0.495 mean= 0.408\n",
      " gam= 0.431 g(H,U,f)=  0.524E+00 0.358E-01-0.120E-15 ort(H,U,f) =-0.398E-01 0.393E-01-0.903E-16\n",
      "CGA:  12    -0.214462038611E+03   -0.32047E+00   -0.32049E+00  1440   0.560E+00-0.528E-03\n",
      " gam= 0.431 trial= 0.413  step= 0.481 mean= 0.413\n",
      " gam= 0.382 g(H,U,f)=  0.205E+00 0.842E-02-0.190E-08 ort(H,U,f) =-0.141E-01 0.138E-01-0.505E-08\n",
      "CGA:  13    -0.214596494409E+03   -0.13446E+00   -0.13446E+00  1440   0.214E+00-0.298E-03\n",
      " gam= 0.382 trial= 0.416  step= 0.532 mean= 0.416\n",
      " gam= 0.404 g(H,U,f)=  0.801E-01 0.633E-02-0.664E-30 ort(H,U,f) =-0.756E-02 0.673E-02 0.506E-30\n",
      "CGA:  14    -0.214653284956E+03   -0.56791E-01   -0.56849E-01  1440   0.864E-01-0.834E-03\n",
      " gam= 0.404 trial= 0.422  step= 0.505 mean= 0.422\n",
      " gam= 0.365 g(H,U,f)=  0.302E-01 0.129E-02-0.316E-29 ort(H,U,f) =-0.388E-02 0.364E-02 0.500E-29\n",
      "CGA:  15    -0.214675019483E+03   -0.21735E-01   -0.21746E-01  1440   0.315E-01-0.248E-03\n",
      " gam= 0.365 trial= 0.426  step= 0.535 mean= 0.426\n",
      " gam= 0.359 g(H,U,f)=  0.108E-01 0.512E-03-0.582E-37 ort(H,U,f) =-0.138E-02 0.141E-02-0.215E-37\n",
      "CGA:  16    -0.214683422354E+03   -0.84029E-02   -0.84013E-02  1440   0.113E-01 0.259E-04\n",
      " gam= 0.359 trial= 0.431  step= 0.532 mean= 0.431\n",
      " gam= 0.346 g(H,U,f)=  0.376E-02 0.148E-03-0.425E-43 ort(H,U,f) =-0.264E-03 0.319E-03-0.153E-42\n",
      "CGA:  17    -0.214686433886E+03   -0.30115E-02   -0.30088E-02  1440   0.391E-02 0.549E-04\n",
      " gam= 0.346 trial= 0.436  step= 0.548 mean= 0.436\n",
      " gam= 0.372 g(H,U,f)=  0.133E-02 0.128E-03-0.776E-45 ort(H,U,f) =-0.139E-04 0.571E-04-0.176E-44\n",
      "CGA:  18    -0.214687513931E+03   -0.10800E-02   -0.10777E-02  1440   0.146E-02 0.432E-04\n",
      " gam= 0.372 trial= 0.442  step= 0.574 mean= 0.442\n",
      " gam= 0.411 g(H,U,f)=  0.561E-03 0.371E-04-0.774E-45 ort(H,U,f) =-0.517E-04 0.840E-04-0.180E-44\n",
      "CGA:  19    -0.214687938462E+03   -0.42453E-03   -0.42240E-03  1440   0.598E-03 0.323E-04\n",
      " gam= 0.411 trial= 0.449  step= 0.608 mean= 0.449\n",
      " gam= 0.437 g(H,U,f)=  0.248E-03 0.136E-04-0.257E-43 ort(H,U,f) =-0.280E-04 0.361E-04-0.881E-43\n",
      "CGA:  20    -0.214688124926E+03   -0.18646E-03   -0.18581E-03  1440   0.261E-03 0.816E-05\n",
      " gam= 0.437 trial= 0.457  step= 0.608 mean= 0.457\n",
      " gam= 0.397 g(H,U,f)=  0.962E-04 0.764E-05-0.583E-40 ort(H,U,f) =-0.267E-04 0.181E-04 0.228E-39\n",
      "CGA:  21    -0.214688204798E+03   -0.79872E-04   -0.80521E-04  1440   0.104E-03-0.860E-05\n",
      " gam= 0.397 trial= 0.464  step= 0.648 mean= 0.464\n",
      " gam= 0.426 g(H,U,f)=  0.424E-04 0.182E-05-0.696E-35 ort(H,U,f) =-0.102E-04 0.514E-05 0.152E-34\n",
      "CGA:  22    -0.214688236869E+03   -0.32072E-04   -0.32539E-04  1440   0.442E-04-0.508E-05\n",
      " gam= 0.426 trial= 0.473  step= 0.593 mean= 0.473\n",
      " gam= 0.358 g(H,U,f)=  0.156E-04 0.286E-06-0.291E-31 ort(H,U,f) =-0.999E-06 0.620E-06-0.174E-32\n",
      "CGA:  23    -0.214688249321E+03   -0.12452E-04   -0.12475E-04  1440   0.158E-04-0.379E-06\n",
      " gam= 0.358 trial= 0.479  step= 0.619 mean= 0.479\n",
      " gam= 0.331 g(H,U,f)=  0.507E-05 0.165E-06-0.145E-28 ort(H,U,f) =-0.254E-06 0.981E-07-0.181E-28\n",
      "CGA:  24    -0.214688254168E+03   -0.48467E-05   -0.48576E-05  1440   0.524E-05-0.156E-06\n",
      " gam= 0.331 trial= 0.486  step= 0.698 mean= 0.486\n",
      " gam= 0.412 g(H,U,f)=  0.205E-05 0.105E-06-0.162E-26 ort(H,U,f) =-0.349E-06 0.458E-07-0.445E-26\n",
      "CGA:  25    -0.214688255946E+03   -0.17778E-05   -0.18100E-05  1440   0.216E-05-0.303E-06\n",
      " gam= 0.412 trial= 0.497  step= 0.713 mean= 0.497\n",
      " gam= 0.412 g(H,U,f)=  0.849E-06 0.400E-07-0.803E-25 ort(H,U,f) =-0.176E-06 0.142E-07-0.482E-24\n",
      "CGA:  26    -0.214688256652E+03   -0.70643E-06   -0.72390E-06  1440   0.889E-06-0.162E-06\n",
      " gam= 0.412 trial= 0.508  step= 0.727 mean= 0.508\n",
      " gam= 0.441 g(H,U,f)=  0.383E-06 0.890E-08-0.144E-23 ort(H,U,f) =-0.712E-07 0.785E-08-0.244E-22\n",
      "CGA:  27    -0.214688256944E+03   -0.29174E-06   -0.29867E-06  1440   0.392E-06-0.634E-07\n",
      " gam= 0.441 trial= 0.519  step= 0.510 mean= 0.519\n",
      " gam= 0.408 g(H,U,f)=  0.155E-06 0.482E-08-0.748E-22 ort(H,U,f) = 0.764E-07 0.416E-08 0.703E-21\n",
      "CGA:  28    -0.214688257037E+03   -0.92501E-07   -0.92825E-07  1440   0.160E-06 0.806E-07\n",
      " gam= 0.408 trial= 0.518  step= 0.389 mean= 0.518\n",
      " final diagonalization\n",
      "   1 F= -.21834593E+03 E0= -.21834593E+03  d E =-.218346E+03  mag=     0.0000\n",
      " curvature:   0.00 expect dE= 0.000E+00 dE for cont linesearch  0.000E+00\n",
      " trial: gam= 0.00000 g(F)=  0.906E-03 g(S)=  0.390E-03 ort = 0.000E+00 (trialstep = 0.100E+01)\n",
      " search vector abs. value=  0.130E-02\n",
      " reached required accuracy - stopping structural energy minimisation\n",
      " running on   32 total cores\n",
      " distrk:  each k-point on   16 cores,    2 groups\n",
      " distr:  one band on    4 cores,    4 groups\n",
      " using from now: INCAR     \n",
      " vasp.5.4.4.18Apr17-6-g9f103f2a35 (build Apr 29 2021 16:29:03) complex          \n",
      "  \n",
      " POSCAR found type information on POSCAR  Ti O \n",
      " POSCAR found :  2 types and      24 ions\n",
      " scaLAPACK will be used\n",
      "\n",
      " ----------------------------------------------------------------------------- \n",
      "|                                                                             |\n",
      "|           W    W    AA    RRRRR   N    N  II  N    N   GGGG   !!!           |\n",
      "|           W    W   A  A   R    R  NN   N  II  NN   N  G    G  !!!           |\n",
      "|           W    W  A    A  R    R  N N  N  II  N N  N  G       !!!           |\n",
      "|           W WW W  AAAAAA  RRRRR   N  N N  II  N  N N  G  GGG   !            |\n",
      "|           WW  WW  A    A  R   R   N   NN  II  N   NN  G    G                |\n",
      "|           W    W  A    A  R    R  N    N  II  N    N   GGGG   !!!           |\n",
      "|                                                                             |\n",
      "|      You have enabled k-point parallelism (KPAR>1).                         |\n",
      "|      This developmental code was originally  written by Paul Kent at ORNL,  |\n",
      "|      and carefully double checked in Vienna.                                |\n",
      "|      GW as well as linear response parallelism added by Martijn Marsman     |\n",
      "|      and Georg Kresse.                                                      |\n",
      "|      Carefully verify results versus KPAR=1.                                |\n",
      "|      Report problems to Paul Kent and Vienna.                               |\n",
      "|                                                                             |\n",
      " ----------------------------------------------------------------------------- \n",
      "\n",
      " WARNING: for PREC=h ENMAX is automatically increase by 25 %\n",
      "        this was not the case for versions prior to vasp.4.4\n",
      " WARNING: for PREC=h ENMAX is automatically increase by 25 %\n",
      "        this was not the case for versions prior to vasp.4.4\n",
      " Error reading item 'LDAUL' from file INCAR.\n",
      " Error code was IERR=           5  Found N=           0  data items\n",
      " Error reading item 'LDAUU' from file INCAR.\n",
      " Error code was IERR=           5  Found N=           0  data items\n",
      " Error reading item 'LDAUJ' from file INCAR.\n",
      " Error code was IERR=           5  Found N=           0  data items\n",
      " LDA part: xc-table for Pade appr. of Perdew\n",
      " generate k-points for:    2    5    3\n",
      " POSCAR, INCAR and KPOINTS ok, starting setup\n",
      " FFT: planning ...\n",
      " WAVECAR not read\n",
      " entering main loop\n",
      "       N       E                     dE             d eps       ncg     rms          ort\n",
      "DAV:   1     0.263023414991E+04    0.26302E+04   -0.90003E+04  1440   0.162E+03\n",
      "DAV:   2     0.256611719014E+03   -0.23736E+04   -0.22125E+04  1440   0.494E+02\n",
      "DAV:   3    -0.245900094832E+03   -0.50251E+03   -0.47262E+03  1440   0.207E+02\n",
      "DAV:   4    -0.274685367695E+03   -0.28785E+02   -0.28534E+02  1440   0.545E+01\n",
      "DAV:   5    -0.275549039454E+03   -0.86367E+00   -0.86098E+00  1440   0.109E+01\n",
      " gam= 0.000 g(H,U,f)=  0.716E+03 0.918E+02-0.190E-03 ort(H,U,f) = 0.000E+00 0.000E+00 0.000E+00\n",
      "SDA:   6    -0.694542514904E+02    0.20609E+03   -0.86098E+00  1440   0.808E+03 0.000E+00\n",
      " gam= 0.000 trial= 0.400  step= 0.283 mean= 0.400\n",
      " gam= 0.070 g(H,U,f)=  0.420E+02 0.145E+02 0.684E-04 ort(H,U,f) =-0.489E+02 0.463E+02-0.492E-04\n",
      "CGA:   7    -0.186933775472E+03   -0.11748E+03   -0.11446E+03  1440   0.565E+02-0.262E+01\n",
      " gam= 0.070 trial= 0.394  step= 0.634 mean= 0.394\n",
      " gam= 0.610 g(H,U,f)=  0.329E+02 0.157E+01-0.721E-39 ort(H,U,f) =-0.119E+02 0.720E+01 0.344E-37\n",
      "CGA:   8    -0.204193634937E+03   -0.17260E+02   -0.17846E+02  1440   0.344E+02-0.471E+01\n",
      " gam= 0.610 trial= 0.406  step= 0.443 mean= 0.406\n",
      " gam= 0.344 g(H,U,f)=  0.116E+02 0.227E+00-0.810E-15 ort(H,U,f) =-0.742E+00-0.122E+00 0.609E-14\n",
      "CGA:   9    -0.211158634266E+03   -0.69650E+01   -0.69917E+01  1440   0.119E+02-0.865E+00\n",
      " gam= 0.344 trial= 0.408  step= 0.383 mean= 0.408\n",
      " gam= 0.296 g(H,U,f)=  0.336E+01 0.147E+00-0.187E-13 ort(H,U,f) = 0.316E-01 0.269E-02 0.231E-12\n",
      "CGA:  10    -0.213371576166E+03   -0.22129E+01   -0.22138E+01  1440   0.351E+01 0.343E-01\n",
      " gam= 0.296 trial= 0.407  step= 0.438 mean= 0.407\n",
      " gam= 0.370 g(H,U,f)=  0.122E+01 0.769E-01-0.321E-26 ort(H,U,f) =-0.140E-01 0.888E-02 0.252E-26\n",
      "CGA:  11    -0.214141563625E+03   -0.76999E+00   -0.77014E+00  1440   0.130E+01-0.509E-02\n",
      " gam= 0.370 trial= 0.408  step= 0.495 mean= 0.408\n",
      " gam= 0.431 g(H,U,f)=  0.524E+00 0.358E-01-0.120E-15 ort(H,U,f) =-0.398E-01 0.393E-01-0.903E-16\n",
      "CGA:  12    -0.214462038611E+03   -0.32047E+00   -0.32049E+00  1440   0.560E+00-0.528E-03\n",
      " gam= 0.431 trial= 0.413  step= 0.481 mean= 0.413\n",
      " gam= 0.382 g(H,U,f)=  0.205E+00 0.842E-02-0.190E-08 ort(H,U,f) =-0.141E-01 0.138E-01-0.505E-08\n",
      "CGA:  13    -0.214596494409E+03   -0.13446E+00   -0.13446E+00  1440   0.214E+00-0.298E-03\n",
      " gam= 0.382 trial= 0.416  step= 0.532 mean= 0.416\n",
      " gam= 0.404 g(H,U,f)=  0.801E-01 0.633E-02-0.664E-30 ort(H,U,f) =-0.756E-02 0.673E-02 0.506E-30\n",
      "CGA:  14    -0.214653284956E+03   -0.56791E-01   -0.56849E-01  1440   0.864E-01-0.834E-03\n",
      " gam= 0.404 trial= 0.422  step= 0.505 mean= 0.422\n",
      " gam= 0.365 g(H,U,f)=  0.302E-01 0.129E-02-0.316E-29 ort(H,U,f) =-0.388E-02 0.364E-02 0.500E-29\n",
      "CGA:  15    -0.214675019483E+03   -0.21735E-01   -0.21746E-01  1440   0.315E-01-0.248E-03\n",
      " gam= 0.365 trial= 0.426  step= 0.535 mean= 0.426\n",
      " gam= 0.359 g(H,U,f)=  0.108E-01 0.512E-03-0.582E-37 ort(H,U,f) =-0.138E-02 0.141E-02-0.215E-37\n",
      "CGA:  16    -0.214683422354E+03   -0.84029E-02   -0.84013E-02  1440   0.113E-01 0.259E-04\n",
      " gam= 0.359 trial= 0.431  step= 0.532 mean= 0.431\n",
      " gam= 0.346 g(H,U,f)=  0.376E-02 0.148E-03-0.425E-43 ort(H,U,f) =-0.264E-03 0.319E-03-0.153E-42\n",
      "CGA:  17    -0.214686433886E+03   -0.30115E-02   -0.30088E-02  1440   0.391E-02 0.549E-04\n",
      " gam= 0.346 trial= 0.436  step= 0.548 mean= 0.436\n",
      " gam= 0.372 g(H,U,f)=  0.133E-02 0.128E-03-0.776E-45 ort(H,U,f) =-0.139E-04 0.571E-04-0.176E-44\n",
      "CGA:  18    -0.214687513931E+03   -0.10800E-02   -0.10777E-02  1440   0.146E-02 0.432E-04\n",
      " gam= 0.372 trial= 0.442  step= 0.574 mean= 0.442\n",
      " gam= 0.411 g(H,U,f)=  0.561E-03 0.371E-04-0.774E-45 ort(H,U,f) =-0.517E-04 0.840E-04-0.180E-44\n",
      "CGA:  19    -0.214687938462E+03   -0.42453E-03   -0.42240E-03  1440   0.598E-03 0.323E-04\n",
      " gam= 0.411 trial= 0.449  step= 0.608 mean= 0.449\n",
      " gam= 0.437 g(H,U,f)=  0.248E-03 0.136E-04-0.257E-43 ort(H,U,f) =-0.280E-04 0.361E-04-0.881E-43\n",
      "CGA:  20    -0.214688124926E+03   -0.18646E-03   -0.18581E-03  1440   0.261E-03 0.816E-05\n",
      " gam= 0.437 trial= 0.457  step= 0.608 mean= 0.457\n",
      " gam= 0.397 g(H,U,f)=  0.962E-04 0.764E-05-0.583E-40 ort(H,U,f) =-0.267E-04 0.181E-04 0.228E-39\n",
      "CGA:  21    -0.214688204798E+03   -0.79872E-04   -0.80521E-04  1440   0.104E-03-0.860E-05\n",
      " gam= 0.397 trial= 0.464  step= 0.648 mean= 0.464\n",
      " gam= 0.426 g(H,U,f)=  0.424E-04 0.182E-05-0.696E-35 ort(H,U,f) =-0.102E-04 0.514E-05 0.152E-34\n",
      "CGA:  22    -0.214688236869E+03   -0.32072E-04   -0.32539E-04  1440   0.442E-04-0.508E-05\n",
      " gam= 0.426 trial= 0.473  step= 0.593 mean= 0.473\n",
      " gam= 0.358 g(H,U,f)=  0.156E-04 0.286E-06-0.291E-31 ort(H,U,f) =-0.999E-06 0.620E-06-0.174E-32\n",
      "CGA:  23    -0.214688249321E+03   -0.12452E-04   -0.12475E-04  1440   0.158E-04-0.379E-06\n",
      " gam= 0.358 trial= 0.479  step= 0.619 mean= 0.479\n",
      " gam= 0.331 g(H,U,f)=  0.507E-05 0.165E-06-0.145E-28 ort(H,U,f) =-0.254E-06 0.981E-07-0.181E-28\n",
      "CGA:  24    -0.214688254168E+03   -0.48467E-05   -0.48576E-05  1440   0.524E-05-0.156E-06\n",
      " gam= 0.331 trial= 0.486  step= 0.698 mean= 0.486\n",
      " gam= 0.412 g(H,U,f)=  0.205E-05 0.105E-06-0.162E-26 ort(H,U,f) =-0.349E-06 0.458E-07-0.445E-26\n",
      "CGA:  25    -0.214688255946E+03   -0.17778E-05   -0.18100E-05  1440   0.216E-05-0.303E-06\n",
      " gam= 0.412 trial= 0.497  step= 0.713 mean= 0.497\n",
      " gam= 0.412 g(H,U,f)=  0.849E-06 0.400E-07-0.803E-25 ort(H,U,f) =-0.176E-06 0.142E-07-0.482E-24\n",
      "CGA:  26    -0.214688256652E+03   -0.70643E-06   -0.72390E-06  1440   0.889E-06-0.162E-06\n",
      " gam= 0.412 trial= 0.508  step= 0.727 mean= 0.508\n",
      " gam= 0.441 g(H,U,f)=  0.383E-06 0.890E-08-0.144E-23 ort(H,U,f) =-0.712E-07 0.785E-08-0.244E-22\n",
      "CGA:  27    -0.214688256944E+03   -0.29174E-06   -0.29867E-06  1440   0.392E-06-0.634E-07\n",
      " gam= 0.441 trial= 0.519  step= 0.510 mean= 0.519\n",
      " gam= 0.408 g(H,U,f)=  0.155E-06 0.482E-08-0.748E-22 ort(H,U,f) = 0.764E-07 0.416E-08 0.703E-21\n",
      "CGA:  28    -0.214688257037E+03   -0.92501E-07   -0.92825E-07  1440   0.160E-06 0.806E-07\n",
      " gam= 0.408 trial= 0.518  step= 0.389 mean= 0.518\n",
      " final diagonalization\n",
      "   1 F= -.21834593E+03 E0= -.21834593E+03  d E =-.218346E+03  mag=     0.0000\n",
      " curvature:   0.00 expect dE= 0.000E+00 dE for cont linesearch  0.000E+00\n",
      " trial: gam= 0.00000 g(F)=  0.906E-03 g(S)=  0.390E-03 ort = 0.000E+00 (trialstep = 0.100E+01)\n",
      " search vector abs. value=  0.130E-02\n",
      " reached required accuracy - stopping structural energy minimisation\n",
      "\n"
     ]
    }
   ],
   "source": [
    "with open('/Users/3420545/Downloads/TiO2.out') as f:\n",
    "    contents = f.read()\n",
    "    print(contents)\n"
   ]
  },
  {
   "cell_type": "code",
   "execution_count": 25,
   "id": "845ef5b3",
   "metadata": {},
   "outputs": [
    {
     "name": "stdout",
     "output_type": "stream",
     "text": [
      "683\n"
     ]
    }
   ],
   "source": [
    "lookup = 'final diagonalization'\n",
    "finds = []\n",
    "with open('/Users/3420545/Downloads/TiO2.out') as myFile:\n",
    "    for num, line in enumerate(myFile, 1):\n",
    "        if lookup in line:\n",
    "            #print ('found at line:', num)\n",
    "            finds.append(num)\n",
    "\n",
    "print(finds[-1])"
   ]
  },
  {
   "cell_type": "code",
   "execution_count": 7,
   "id": "529ba0e5",
   "metadata": {},
   "outputs": [
    {
     "name": "stdout",
     "output_type": "stream",
     "text": [
      "   1 F= -.21834593E+03 E0= -.21834593E+03  d E =-.218346E+03  mag=     0.0000\n",
      "\n"
     ]
    }
   ],
   "source": [
    "file = open('/Users/3420545/Downloads/slurm-322468.out')\n",
    "  \n",
    "# read the content of the file opened\n",
    "content = file.readlines()\n",
    "  \n",
    "# read 10th line from the file\n",
    "print(content[683])"
   ]
  },
  {
   "cell_type": "code",
   "execution_count": 20,
   "id": "e44afa89",
   "metadata": {},
   "outputs": [
    {
     "data": {
      "text/plain": [
       "'-.21834593E+03'"
      ]
     },
     "execution_count": 20,
     "metadata": {},
     "output_type": "execute_result"
    }
   ],
   "source": [
    "text = content[683]\n",
    "final_E = text.partition(\"F= \")[2].partition(\" E0\")[0]\n",
    "final_E"
   ]
  },
  {
   "cell_type": "code",
   "execution_count": 21,
   "id": "de9a0c35",
   "metadata": {},
   "outputs": [
    {
     "data": {
      "text/plain": [
       "-218.34593"
      ]
     },
     "execution_count": 21,
     "metadata": {},
     "output_type": "execute_result"
    }
   ],
   "source": [
    "float(final_E)"
   ]
  },
  {
   "cell_type": "code",
   "execution_count": 4,
   "id": "db12690e",
   "metadata": {},
   "outputs": [
    {
     "data": {
      "text/plain": [
       "-2.8920859"
      ]
     },
     "execution_count": 4,
     "metadata": {},
     "output_type": "execute_result"
    }
   ],
   "source": [
    "lookup = 'final diagonalization'\n",
    "finds = []\n",
    "with open('/Users/3420545/Downloads/Zn.out') as myFile:\n",
    "    for num, line in enumerate(myFile, 1):\n",
    "        if lookup in line:\n",
    "            #print ('found at line:', num)\n",
    "            finds.append(num)\n",
    "\n",
    "last_line = finds[-1]\n",
    "\n",
    "file = open('/Users/3420545/Downloads/Zn.out')\n",
    "content = file.readlines()\n",
    "text = content[last_line]\n",
    "Zn_E = text.partition(\"F= \")[2].partition(\" E0\")[0]\n",
    "float(Zn_E)"
   ]
  },
  {
   "cell_type": "code",
   "execution_count": 18,
   "id": "b7bda0ef",
   "metadata": {},
   "outputs": [
    {
     "data": {
      "text/plain": [
       "'Ti8 Zn4 O16                             \\n'"
      ]
     },
     "execution_count": 18,
     "metadata": {},
     "output_type": "execute_result"
    }
   ],
   "source": [
    "file = open('/Users/3420545/Downloads/POSCAR')\n",
    "content = file.readlines()\n",
    "content[0]"
   ]
  },
  {
   "cell_type": "code",
   "execution_count": null,
   "id": "b5f81065",
   "metadata": {},
   "outputs": [],
   "source": []
  },
  {
   "cell_type": "code",
   "execution_count": 28,
   "id": "094592bf",
   "metadata": {},
   "outputs": [
    {
     "data": {
      "application/vnd.plotly.v1+json": {
       "config": {
        "plotlyServerURL": "https://plot.ly"
       },
       "data": [
        {
         "colorscale": [
          [
           0,
           "#00083e"
          ],
          [
           0.5,
           "#ededee"
          ],
          [
           1,
           "#ffffff"
          ]
         ],
         "hoverinfo": "none",
         "opacity": 0.75,
         "showscale": false,
         "type": "heatmap",
         "z": [
          [
           0,
           0,
           0,
           0
          ],
          [
           0.5,
           0.5,
           0.5,
           0.5
          ],
          [
           1,
           1,
           1,
           1
          ],
          [
           0.5,
           0.5,
           0.5,
           0.5
          ],
          [
           1,
           1,
           1,
           1
          ]
         ]
        }
       ],
       "layout": {
        "annotations": [
         {
          "align": "left",
          "font": {
           "color": "#ffffff"
          },
          "showarrow": false,
          "text": "<b>Element</b>",
          "x": -0.45,
          "xanchor": "left",
          "xref": "x",
          "y": 0,
          "yref": "y"
         },
         {
          "align": "left",
          "font": {
           "color": "#ffffff"
          },
          "showarrow": false,
          "text": "<b>E0 (eV)</b>",
          "x": 0.55,
          "xanchor": "left",
          "xref": "x",
          "y": 0,
          "yref": "y"
         },
         {
          "align": "left",
          "font": {
           "color": "#ffffff"
          },
          "showarrow": false,
          "text": "<b>Number of Atoms</b>",
          "x": 1.55,
          "xanchor": "left",
          "xref": "x",
          "y": 0,
          "yref": "y"
         },
         {
          "align": "left",
          "font": {
           "color": "#ffffff"
          },
          "showarrow": false,
          "text": "<b>eV/F.u</b>",
          "x": 2.55,
          "xanchor": "left",
          "xref": "x",
          "y": 0,
          "yref": "y"
         },
         {
          "align": "left",
          "font": {
           "color": "#000000"
          },
          "showarrow": false,
          "text": "Zn",
          "x": -0.45,
          "xanchor": "left",
          "xref": "x",
          "y": 1,
          "yref": "y"
         },
         {
          "align": "left",
          "font": {
           "color": "#000000"
          },
          "showarrow": false,
          "text": "-2.8920859",
          "x": 0.55,
          "xanchor": "left",
          "xref": "x",
          "y": 1,
          "yref": "y"
         },
         {
          "align": "left",
          "font": {
           "color": "#000000"
          },
          "showarrow": false,
          "text": "2",
          "x": 1.55,
          "xanchor": "left",
          "xref": "x",
          "y": 1,
          "yref": "y"
         },
         {
          "align": "left",
          "font": {
           "color": "#000000"
          },
          "showarrow": false,
          "text": "-1.44604295",
          "x": 2.55,
          "xanchor": "left",
          "xref": "x",
          "y": 1,
          "yref": "y"
         },
         {
          "align": "left",
          "font": {
           "color": "#000000"
          },
          "showarrow": false,
          "text": "TiO2",
          "x": -0.45,
          "xanchor": "left",
          "xref": "x",
          "y": 2,
          "yref": "y"
         },
         {
          "align": "left",
          "font": {
           "color": "#000000"
          },
          "showarrow": false,
          "text": "-218.34593",
          "x": 0.55,
          "xanchor": "left",
          "xref": "x",
          "y": 2,
          "yref": "y"
         },
         {
          "align": "left",
          "font": {
           "color": "#000000"
          },
          "showarrow": false,
          "text": "8",
          "x": 1.55,
          "xanchor": "left",
          "xref": "x",
          "y": 2,
          "yref": "y"
         },
         {
          "align": "left",
          "font": {
           "color": "#000000"
          },
          "showarrow": false,
          "text": "-27.29324125",
          "x": 2.55,
          "xanchor": "left",
          "xref": "x",
          "y": 2,
          "yref": "y"
         },
         {
          "align": "left",
          "font": {
           "color": "#000000"
          },
          "showarrow": false,
          "text": "ZnTi2O4",
          "x": -0.45,
          "xanchor": "left",
          "xref": "x",
          "y": 3,
          "yref": "y"
         },
         {
          "align": "left",
          "font": {
           "color": "#000000"
          },
          "showarrow": false,
          "text": "-219.24261",
          "x": 0.55,
          "xanchor": "left",
          "xref": "x",
          "y": 3,
          "yref": "y"
         },
         {
          "align": "left",
          "font": {
           "color": "#000000"
          },
          "showarrow": false,
          "text": "4",
          "x": 1.55,
          "xanchor": "left",
          "xref": "x",
          "y": 3,
          "yref": "y"
         },
         {
          "align": "left",
          "font": {
           "color": "#000000"
          },
          "showarrow": false,
          "text": "-54.8106525",
          "x": 2.55,
          "xanchor": "left",
          "xref": "x",
          "y": 3,
          "yref": "y"
         },
         {
          "align": "left",
          "font": {
           "color": "#000000"
          },
          "showarrow": false,
          "text": "2TiO2 + Zn",
          "x": -0.45,
          "xanchor": "left",
          "xref": "x",
          "y": 4,
          "yref": "y"
         },
         {
          "align": "left",
          "font": {
           "color": "#000000"
          },
          "showarrow": false,
          "text": "",
          "x": 0.55,
          "xanchor": "left",
          "xref": "x",
          "y": 4,
          "yref": "y"
         },
         {
          "align": "left",
          "font": {
           "color": "#000000"
          },
          "showarrow": false,
          "text": "",
          "x": 1.55,
          "xanchor": "left",
          "xref": "x",
          "y": 4,
          "yref": "y"
         },
         {
          "align": "left",
          "font": {
           "color": "#000000"
          },
          "showarrow": false,
          "text": "-56.03252545",
          "x": 2.55,
          "xanchor": "left",
          "xref": "x",
          "y": 4,
          "yref": "y"
         }
        ],
        "height": 200,
        "margin": {
         "b": 0,
         "l": 0,
         "r": 0,
         "t": 0
        },
        "template": {
         "data": {
          "bar": [
           {
            "error_x": {
             "color": "#2a3f5f"
            },
            "error_y": {
             "color": "#2a3f5f"
            },
            "marker": {
             "line": {
              "color": "#E5ECF6",
              "width": 0.5
             },
             "pattern": {
              "fillmode": "overlay",
              "size": 10,
              "solidity": 0.2
             }
            },
            "type": "bar"
           }
          ],
          "barpolar": [
           {
            "marker": {
             "line": {
              "color": "#E5ECF6",
              "width": 0.5
             },
             "pattern": {
              "fillmode": "overlay",
              "size": 10,
              "solidity": 0.2
             }
            },
            "type": "barpolar"
           }
          ],
          "carpet": [
           {
            "aaxis": {
             "endlinecolor": "#2a3f5f",
             "gridcolor": "white",
             "linecolor": "white",
             "minorgridcolor": "white",
             "startlinecolor": "#2a3f5f"
            },
            "baxis": {
             "endlinecolor": "#2a3f5f",
             "gridcolor": "white",
             "linecolor": "white",
             "minorgridcolor": "white",
             "startlinecolor": "#2a3f5f"
            },
            "type": "carpet"
           }
          ],
          "choropleth": [
           {
            "colorbar": {
             "outlinewidth": 0,
             "ticks": ""
            },
            "type": "choropleth"
           }
          ],
          "contour": [
           {
            "colorbar": {
             "outlinewidth": 0,
             "ticks": ""
            },
            "colorscale": [
             [
              0,
              "#0d0887"
             ],
             [
              0.1111111111111111,
              "#46039f"
             ],
             [
              0.2222222222222222,
              "#7201a8"
             ],
             [
              0.3333333333333333,
              "#9c179e"
             ],
             [
              0.4444444444444444,
              "#bd3786"
             ],
             [
              0.5555555555555556,
              "#d8576b"
             ],
             [
              0.6666666666666666,
              "#ed7953"
             ],
             [
              0.7777777777777778,
              "#fb9f3a"
             ],
             [
              0.8888888888888888,
              "#fdca26"
             ],
             [
              1,
              "#f0f921"
             ]
            ],
            "type": "contour"
           }
          ],
          "contourcarpet": [
           {
            "colorbar": {
             "outlinewidth": 0,
             "ticks": ""
            },
            "type": "contourcarpet"
           }
          ],
          "heatmap": [
           {
            "colorbar": {
             "outlinewidth": 0,
             "ticks": ""
            },
            "colorscale": [
             [
              0,
              "#0d0887"
             ],
             [
              0.1111111111111111,
              "#46039f"
             ],
             [
              0.2222222222222222,
              "#7201a8"
             ],
             [
              0.3333333333333333,
              "#9c179e"
             ],
             [
              0.4444444444444444,
              "#bd3786"
             ],
             [
              0.5555555555555556,
              "#d8576b"
             ],
             [
              0.6666666666666666,
              "#ed7953"
             ],
             [
              0.7777777777777778,
              "#fb9f3a"
             ],
             [
              0.8888888888888888,
              "#fdca26"
             ],
             [
              1,
              "#f0f921"
             ]
            ],
            "type": "heatmap"
           }
          ],
          "heatmapgl": [
           {
            "colorbar": {
             "outlinewidth": 0,
             "ticks": ""
            },
            "colorscale": [
             [
              0,
              "#0d0887"
             ],
             [
              0.1111111111111111,
              "#46039f"
             ],
             [
              0.2222222222222222,
              "#7201a8"
             ],
             [
              0.3333333333333333,
              "#9c179e"
             ],
             [
              0.4444444444444444,
              "#bd3786"
             ],
             [
              0.5555555555555556,
              "#d8576b"
             ],
             [
              0.6666666666666666,
              "#ed7953"
             ],
             [
              0.7777777777777778,
              "#fb9f3a"
             ],
             [
              0.8888888888888888,
              "#fdca26"
             ],
             [
              1,
              "#f0f921"
             ]
            ],
            "type": "heatmapgl"
           }
          ],
          "histogram": [
           {
            "marker": {
             "pattern": {
              "fillmode": "overlay",
              "size": 10,
              "solidity": 0.2
             }
            },
            "type": "histogram"
           }
          ],
          "histogram2d": [
           {
            "colorbar": {
             "outlinewidth": 0,
             "ticks": ""
            },
            "colorscale": [
             [
              0,
              "#0d0887"
             ],
             [
              0.1111111111111111,
              "#46039f"
             ],
             [
              0.2222222222222222,
              "#7201a8"
             ],
             [
              0.3333333333333333,
              "#9c179e"
             ],
             [
              0.4444444444444444,
              "#bd3786"
             ],
             [
              0.5555555555555556,
              "#d8576b"
             ],
             [
              0.6666666666666666,
              "#ed7953"
             ],
             [
              0.7777777777777778,
              "#fb9f3a"
             ],
             [
              0.8888888888888888,
              "#fdca26"
             ],
             [
              1,
              "#f0f921"
             ]
            ],
            "type": "histogram2d"
           }
          ],
          "histogram2dcontour": [
           {
            "colorbar": {
             "outlinewidth": 0,
             "ticks": ""
            },
            "colorscale": [
             [
              0,
              "#0d0887"
             ],
             [
              0.1111111111111111,
              "#46039f"
             ],
             [
              0.2222222222222222,
              "#7201a8"
             ],
             [
              0.3333333333333333,
              "#9c179e"
             ],
             [
              0.4444444444444444,
              "#bd3786"
             ],
             [
              0.5555555555555556,
              "#d8576b"
             ],
             [
              0.6666666666666666,
              "#ed7953"
             ],
             [
              0.7777777777777778,
              "#fb9f3a"
             ],
             [
              0.8888888888888888,
              "#fdca26"
             ],
             [
              1,
              "#f0f921"
             ]
            ],
            "type": "histogram2dcontour"
           }
          ],
          "mesh3d": [
           {
            "colorbar": {
             "outlinewidth": 0,
             "ticks": ""
            },
            "type": "mesh3d"
           }
          ],
          "parcoords": [
           {
            "line": {
             "colorbar": {
              "outlinewidth": 0,
              "ticks": ""
             }
            },
            "type": "parcoords"
           }
          ],
          "pie": [
           {
            "automargin": true,
            "type": "pie"
           }
          ],
          "scatter": [
           {
            "fillpattern": {
             "fillmode": "overlay",
             "size": 10,
             "solidity": 0.2
            },
            "type": "scatter"
           }
          ],
          "scatter3d": [
           {
            "line": {
             "colorbar": {
              "outlinewidth": 0,
              "ticks": ""
             }
            },
            "marker": {
             "colorbar": {
              "outlinewidth": 0,
              "ticks": ""
             }
            },
            "type": "scatter3d"
           }
          ],
          "scattercarpet": [
           {
            "marker": {
             "colorbar": {
              "outlinewidth": 0,
              "ticks": ""
             }
            },
            "type": "scattercarpet"
           }
          ],
          "scattergeo": [
           {
            "marker": {
             "colorbar": {
              "outlinewidth": 0,
              "ticks": ""
             }
            },
            "type": "scattergeo"
           }
          ],
          "scattergl": [
           {
            "marker": {
             "colorbar": {
              "outlinewidth": 0,
              "ticks": ""
             }
            },
            "type": "scattergl"
           }
          ],
          "scattermapbox": [
           {
            "marker": {
             "colorbar": {
              "outlinewidth": 0,
              "ticks": ""
             }
            },
            "type": "scattermapbox"
           }
          ],
          "scatterpolar": [
           {
            "marker": {
             "colorbar": {
              "outlinewidth": 0,
              "ticks": ""
             }
            },
            "type": "scatterpolar"
           }
          ],
          "scatterpolargl": [
           {
            "marker": {
             "colorbar": {
              "outlinewidth": 0,
              "ticks": ""
             }
            },
            "type": "scatterpolargl"
           }
          ],
          "scatterternary": [
           {
            "marker": {
             "colorbar": {
              "outlinewidth": 0,
              "ticks": ""
             }
            },
            "type": "scatterternary"
           }
          ],
          "surface": [
           {
            "colorbar": {
             "outlinewidth": 0,
             "ticks": ""
            },
            "colorscale": [
             [
              0,
              "#0d0887"
             ],
             [
              0.1111111111111111,
              "#46039f"
             ],
             [
              0.2222222222222222,
              "#7201a8"
             ],
             [
              0.3333333333333333,
              "#9c179e"
             ],
             [
              0.4444444444444444,
              "#bd3786"
             ],
             [
              0.5555555555555556,
              "#d8576b"
             ],
             [
              0.6666666666666666,
              "#ed7953"
             ],
             [
              0.7777777777777778,
              "#fb9f3a"
             ],
             [
              0.8888888888888888,
              "#fdca26"
             ],
             [
              1,
              "#f0f921"
             ]
            ],
            "type": "surface"
           }
          ],
          "table": [
           {
            "cells": {
             "fill": {
              "color": "#EBF0F8"
             },
             "line": {
              "color": "white"
             }
            },
            "header": {
             "fill": {
              "color": "#C8D4E3"
             },
             "line": {
              "color": "white"
             }
            },
            "type": "table"
           }
          ]
         },
         "layout": {
          "annotationdefaults": {
           "arrowcolor": "#2a3f5f",
           "arrowhead": 0,
           "arrowwidth": 1
          },
          "autotypenumbers": "strict",
          "coloraxis": {
           "colorbar": {
            "outlinewidth": 0,
            "ticks": ""
           }
          },
          "colorscale": {
           "diverging": [
            [
             0,
             "#8e0152"
            ],
            [
             0.1,
             "#c51b7d"
            ],
            [
             0.2,
             "#de77ae"
            ],
            [
             0.3,
             "#f1b6da"
            ],
            [
             0.4,
             "#fde0ef"
            ],
            [
             0.5,
             "#f7f7f7"
            ],
            [
             0.6,
             "#e6f5d0"
            ],
            [
             0.7,
             "#b8e186"
            ],
            [
             0.8,
             "#7fbc41"
            ],
            [
             0.9,
             "#4d9221"
            ],
            [
             1,
             "#276419"
            ]
           ],
           "sequential": [
            [
             0,
             "#0d0887"
            ],
            [
             0.1111111111111111,
             "#46039f"
            ],
            [
             0.2222222222222222,
             "#7201a8"
            ],
            [
             0.3333333333333333,
             "#9c179e"
            ],
            [
             0.4444444444444444,
             "#bd3786"
            ],
            [
             0.5555555555555556,
             "#d8576b"
            ],
            [
             0.6666666666666666,
             "#ed7953"
            ],
            [
             0.7777777777777778,
             "#fb9f3a"
            ],
            [
             0.8888888888888888,
             "#fdca26"
            ],
            [
             1,
             "#f0f921"
            ]
           ],
           "sequentialminus": [
            [
             0,
             "#0d0887"
            ],
            [
             0.1111111111111111,
             "#46039f"
            ],
            [
             0.2222222222222222,
             "#7201a8"
            ],
            [
             0.3333333333333333,
             "#9c179e"
            ],
            [
             0.4444444444444444,
             "#bd3786"
            ],
            [
             0.5555555555555556,
             "#d8576b"
            ],
            [
             0.6666666666666666,
             "#ed7953"
            ],
            [
             0.7777777777777778,
             "#fb9f3a"
            ],
            [
             0.8888888888888888,
             "#fdca26"
            ],
            [
             1,
             "#f0f921"
            ]
           ]
          },
          "colorway": [
           "#636efa",
           "#EF553B",
           "#00cc96",
           "#ab63fa",
           "#FFA15A",
           "#19d3f3",
           "#FF6692",
           "#B6E880",
           "#FF97FF",
           "#FECB52"
          ],
          "font": {
           "color": "#2a3f5f"
          },
          "geo": {
           "bgcolor": "white",
           "lakecolor": "white",
           "landcolor": "#E5ECF6",
           "showlakes": true,
           "showland": true,
           "subunitcolor": "white"
          },
          "hoverlabel": {
           "align": "left"
          },
          "hovermode": "closest",
          "mapbox": {
           "style": "light"
          },
          "paper_bgcolor": "white",
          "plot_bgcolor": "#E5ECF6",
          "polar": {
           "angularaxis": {
            "gridcolor": "white",
            "linecolor": "white",
            "ticks": ""
           },
           "bgcolor": "#E5ECF6",
           "radialaxis": {
            "gridcolor": "white",
            "linecolor": "white",
            "ticks": ""
           }
          },
          "scene": {
           "xaxis": {
            "backgroundcolor": "#E5ECF6",
            "gridcolor": "white",
            "gridwidth": 2,
            "linecolor": "white",
            "showbackground": true,
            "ticks": "",
            "zerolinecolor": "white"
           },
           "yaxis": {
            "backgroundcolor": "#E5ECF6",
            "gridcolor": "white",
            "gridwidth": 2,
            "linecolor": "white",
            "showbackground": true,
            "ticks": "",
            "zerolinecolor": "white"
           },
           "zaxis": {
            "backgroundcolor": "#E5ECF6",
            "gridcolor": "white",
            "gridwidth": 2,
            "linecolor": "white",
            "showbackground": true,
            "ticks": "",
            "zerolinecolor": "white"
           }
          },
          "shapedefaults": {
           "line": {
            "color": "#2a3f5f"
           }
          },
          "ternary": {
           "aaxis": {
            "gridcolor": "white",
            "linecolor": "white",
            "ticks": ""
           },
           "baxis": {
            "gridcolor": "white",
            "linecolor": "white",
            "ticks": ""
           },
           "bgcolor": "#E5ECF6",
           "caxis": {
            "gridcolor": "white",
            "linecolor": "white",
            "ticks": ""
           }
          },
          "title": {
           "x": 0.05
          },
          "xaxis": {
           "automargin": true,
           "gridcolor": "white",
           "linecolor": "white",
           "ticks": "",
           "title": {
            "standoff": 15
           },
           "zerolinecolor": "white",
           "zerolinewidth": 2
          },
          "yaxis": {
           "automargin": true,
           "gridcolor": "white",
           "linecolor": "white",
           "ticks": "",
           "title": {
            "standoff": 15
           },
           "zerolinecolor": "white",
           "zerolinewidth": 2
          }
         }
        },
        "xaxis": {
         "dtick": 1,
         "gridwidth": 2,
         "showticklabels": false,
         "tick0": -0.5,
         "ticks": "",
         "zeroline": false
        },
        "yaxis": {
         "autorange": "reversed",
         "dtick": 1,
         "gridwidth": 2,
         "showticklabels": false,
         "tick0": 0.5,
         "ticks": "",
         "zeroline": false
        }
       }
      },
      "text/html": [
       "<div>                            <div id=\"779b48b0-a737-4c9f-9706-6b3bb4822774\" class=\"plotly-graph-div\" style=\"height:200px; width:100%;\"></div>            <script type=\"text/javascript\">                require([\"plotly\"], function(Plotly) {                    window.PLOTLYENV=window.PLOTLYENV || {};                                    if (document.getElementById(\"779b48b0-a737-4c9f-9706-6b3bb4822774\")) {                    Plotly.newPlot(                        \"779b48b0-a737-4c9f-9706-6b3bb4822774\",                        [{\"colorscale\":[[0,\"#00083e\"],[0.5,\"#ededee\"],[1,\"#ffffff\"]],\"hoverinfo\":\"none\",\"opacity\":0.75,\"showscale\":false,\"z\":[[0,0,0,0],[0.5,0.5,0.5,0.5],[1,1,1,1],[0.5,0.5,0.5,0.5],[1,1,1,1]],\"type\":\"heatmap\"}],                        {\"annotations\":[{\"align\":\"left\",\"font\":{\"color\":\"#ffffff\"},\"showarrow\":false,\"text\":\"<b>Element</b>\",\"x\":-0.45,\"xanchor\":\"left\",\"xref\":\"x\",\"y\":0,\"yref\":\"y\"},{\"align\":\"left\",\"font\":{\"color\":\"#ffffff\"},\"showarrow\":false,\"text\":\"<b>E0 (eV)</b>\",\"x\":0.55,\"xanchor\":\"left\",\"xref\":\"x\",\"y\":0,\"yref\":\"y\"},{\"align\":\"left\",\"font\":{\"color\":\"#ffffff\"},\"showarrow\":false,\"text\":\"<b>Number of Atoms</b>\",\"x\":1.55,\"xanchor\":\"left\",\"xref\":\"x\",\"y\":0,\"yref\":\"y\"},{\"align\":\"left\",\"font\":{\"color\":\"#ffffff\"},\"showarrow\":false,\"text\":\"<b>eV/F.u</b>\",\"x\":2.55,\"xanchor\":\"left\",\"xref\":\"x\",\"y\":0,\"yref\":\"y\"},{\"align\":\"left\",\"font\":{\"color\":\"#000000\"},\"showarrow\":false,\"text\":\"Zn\",\"x\":-0.45,\"xanchor\":\"left\",\"xref\":\"x\",\"y\":1,\"yref\":\"y\"},{\"align\":\"left\",\"font\":{\"color\":\"#000000\"},\"showarrow\":false,\"text\":\"-2.8920859\",\"x\":0.55,\"xanchor\":\"left\",\"xref\":\"x\",\"y\":1,\"yref\":\"y\"},{\"align\":\"left\",\"font\":{\"color\":\"#000000\"},\"showarrow\":false,\"text\":\"2\",\"x\":1.55,\"xanchor\":\"left\",\"xref\":\"x\",\"y\":1,\"yref\":\"y\"},{\"align\":\"left\",\"font\":{\"color\":\"#000000\"},\"showarrow\":false,\"text\":\"-1.44604295\",\"x\":2.55,\"xanchor\":\"left\",\"xref\":\"x\",\"y\":1,\"yref\":\"y\"},{\"align\":\"left\",\"font\":{\"color\":\"#000000\"},\"showarrow\":false,\"text\":\"TiO2\",\"x\":-0.45,\"xanchor\":\"left\",\"xref\":\"x\",\"y\":2,\"yref\":\"y\"},{\"align\":\"left\",\"font\":{\"color\":\"#000000\"},\"showarrow\":false,\"text\":\"-218.34593\",\"x\":0.55,\"xanchor\":\"left\",\"xref\":\"x\",\"y\":2,\"yref\":\"y\"},{\"align\":\"left\",\"font\":{\"color\":\"#000000\"},\"showarrow\":false,\"text\":\"8\",\"x\":1.55,\"xanchor\":\"left\",\"xref\":\"x\",\"y\":2,\"yref\":\"y\"},{\"align\":\"left\",\"font\":{\"color\":\"#000000\"},\"showarrow\":false,\"text\":\"-27.29324125\",\"x\":2.55,\"xanchor\":\"left\",\"xref\":\"x\",\"y\":2,\"yref\":\"y\"},{\"align\":\"left\",\"font\":{\"color\":\"#000000\"},\"showarrow\":false,\"text\":\"ZnTi2O4\",\"x\":-0.45,\"xanchor\":\"left\",\"xref\":\"x\",\"y\":3,\"yref\":\"y\"},{\"align\":\"left\",\"font\":{\"color\":\"#000000\"},\"showarrow\":false,\"text\":\"-219.24261\",\"x\":0.55,\"xanchor\":\"left\",\"xref\":\"x\",\"y\":3,\"yref\":\"y\"},{\"align\":\"left\",\"font\":{\"color\":\"#000000\"},\"showarrow\":false,\"text\":\"4\",\"x\":1.55,\"xanchor\":\"left\",\"xref\":\"x\",\"y\":3,\"yref\":\"y\"},{\"align\":\"left\",\"font\":{\"color\":\"#000000\"},\"showarrow\":false,\"text\":\"-54.8106525\",\"x\":2.55,\"xanchor\":\"left\",\"xref\":\"x\",\"y\":3,\"yref\":\"y\"},{\"align\":\"left\",\"font\":{\"color\":\"#000000\"},\"showarrow\":false,\"text\":\"2TiO2 + Zn\",\"x\":-0.45,\"xanchor\":\"left\",\"xref\":\"x\",\"y\":4,\"yref\":\"y\"},{\"align\":\"left\",\"font\":{\"color\":\"#000000\"},\"showarrow\":false,\"text\":\"\",\"x\":0.55,\"xanchor\":\"left\",\"xref\":\"x\",\"y\":4,\"yref\":\"y\"},{\"align\":\"left\",\"font\":{\"color\":\"#000000\"},\"showarrow\":false,\"text\":\"\",\"x\":1.55,\"xanchor\":\"left\",\"xref\":\"x\",\"y\":4,\"yref\":\"y\"},{\"align\":\"left\",\"font\":{\"color\":\"#000000\"},\"showarrow\":false,\"text\":\"-56.03252545\",\"x\":2.55,\"xanchor\":\"left\",\"xref\":\"x\",\"y\":4,\"yref\":\"y\"}],\"height\":200,\"margin\":{\"b\":0,\"l\":0,\"r\":0,\"t\":0},\"xaxis\":{\"dtick\":1,\"gridwidth\":2,\"showticklabels\":false,\"tick0\":-0.5,\"ticks\":\"\",\"zeroline\":false},\"yaxis\":{\"autorange\":\"reversed\",\"dtick\":1,\"gridwidth\":2,\"showticklabels\":false,\"tick0\":0.5,\"ticks\":\"\",\"zeroline\":false},\"template\":{\"data\":{\"histogram2dcontour\":[{\"type\":\"histogram2dcontour\",\"colorbar\":{\"outlinewidth\":0,\"ticks\":\"\"},\"colorscale\":[[0.0,\"#0d0887\"],[0.1111111111111111,\"#46039f\"],[0.2222222222222222,\"#7201a8\"],[0.3333333333333333,\"#9c179e\"],[0.4444444444444444,\"#bd3786\"],[0.5555555555555556,\"#d8576b\"],[0.6666666666666666,\"#ed7953\"],[0.7777777777777778,\"#fb9f3a\"],[0.8888888888888888,\"#fdca26\"],[1.0,\"#f0f921\"]]}],\"choropleth\":[{\"type\":\"choropleth\",\"colorbar\":{\"outlinewidth\":0,\"ticks\":\"\"}}],\"histogram2d\":[{\"type\":\"histogram2d\",\"colorbar\":{\"outlinewidth\":0,\"ticks\":\"\"},\"colorscale\":[[0.0,\"#0d0887\"],[0.1111111111111111,\"#46039f\"],[0.2222222222222222,\"#7201a8\"],[0.3333333333333333,\"#9c179e\"],[0.4444444444444444,\"#bd3786\"],[0.5555555555555556,\"#d8576b\"],[0.6666666666666666,\"#ed7953\"],[0.7777777777777778,\"#fb9f3a\"],[0.8888888888888888,\"#fdca26\"],[1.0,\"#f0f921\"]]}],\"heatmap\":[{\"type\":\"heatmap\",\"colorbar\":{\"outlinewidth\":0,\"ticks\":\"\"},\"colorscale\":[[0.0,\"#0d0887\"],[0.1111111111111111,\"#46039f\"],[0.2222222222222222,\"#7201a8\"],[0.3333333333333333,\"#9c179e\"],[0.4444444444444444,\"#bd3786\"],[0.5555555555555556,\"#d8576b\"],[0.6666666666666666,\"#ed7953\"],[0.7777777777777778,\"#fb9f3a\"],[0.8888888888888888,\"#fdca26\"],[1.0,\"#f0f921\"]]}],\"heatmapgl\":[{\"type\":\"heatmapgl\",\"colorbar\":{\"outlinewidth\":0,\"ticks\":\"\"},\"colorscale\":[[0.0,\"#0d0887\"],[0.1111111111111111,\"#46039f\"],[0.2222222222222222,\"#7201a8\"],[0.3333333333333333,\"#9c179e\"],[0.4444444444444444,\"#bd3786\"],[0.5555555555555556,\"#d8576b\"],[0.6666666666666666,\"#ed7953\"],[0.7777777777777778,\"#fb9f3a\"],[0.8888888888888888,\"#fdca26\"],[1.0,\"#f0f921\"]]}],\"contourcarpet\":[{\"type\":\"contourcarpet\",\"colorbar\":{\"outlinewidth\":0,\"ticks\":\"\"}}],\"contour\":[{\"type\":\"contour\",\"colorbar\":{\"outlinewidth\":0,\"ticks\":\"\"},\"colorscale\":[[0.0,\"#0d0887\"],[0.1111111111111111,\"#46039f\"],[0.2222222222222222,\"#7201a8\"],[0.3333333333333333,\"#9c179e\"],[0.4444444444444444,\"#bd3786\"],[0.5555555555555556,\"#d8576b\"],[0.6666666666666666,\"#ed7953\"],[0.7777777777777778,\"#fb9f3a\"],[0.8888888888888888,\"#fdca26\"],[1.0,\"#f0f921\"]]}],\"surface\":[{\"type\":\"surface\",\"colorbar\":{\"outlinewidth\":0,\"ticks\":\"\"},\"colorscale\":[[0.0,\"#0d0887\"],[0.1111111111111111,\"#46039f\"],[0.2222222222222222,\"#7201a8\"],[0.3333333333333333,\"#9c179e\"],[0.4444444444444444,\"#bd3786\"],[0.5555555555555556,\"#d8576b\"],[0.6666666666666666,\"#ed7953\"],[0.7777777777777778,\"#fb9f3a\"],[0.8888888888888888,\"#fdca26\"],[1.0,\"#f0f921\"]]}],\"mesh3d\":[{\"type\":\"mesh3d\",\"colorbar\":{\"outlinewidth\":0,\"ticks\":\"\"}}],\"scatter\":[{\"fillpattern\":{\"fillmode\":\"overlay\",\"size\":10,\"solidity\":0.2},\"type\":\"scatter\"}],\"parcoords\":[{\"type\":\"parcoords\",\"line\":{\"colorbar\":{\"outlinewidth\":0,\"ticks\":\"\"}}}],\"scatterpolargl\":[{\"type\":\"scatterpolargl\",\"marker\":{\"colorbar\":{\"outlinewidth\":0,\"ticks\":\"\"}}}],\"bar\":[{\"error_x\":{\"color\":\"#2a3f5f\"},\"error_y\":{\"color\":\"#2a3f5f\"},\"marker\":{\"line\":{\"color\":\"#E5ECF6\",\"width\":0.5},\"pattern\":{\"fillmode\":\"overlay\",\"size\":10,\"solidity\":0.2}},\"type\":\"bar\"}],\"scattergeo\":[{\"type\":\"scattergeo\",\"marker\":{\"colorbar\":{\"outlinewidth\":0,\"ticks\":\"\"}}}],\"scatterpolar\":[{\"type\":\"scatterpolar\",\"marker\":{\"colorbar\":{\"outlinewidth\":0,\"ticks\":\"\"}}}],\"histogram\":[{\"marker\":{\"pattern\":{\"fillmode\":\"overlay\",\"size\":10,\"solidity\":0.2}},\"type\":\"histogram\"}],\"scattergl\":[{\"type\":\"scattergl\",\"marker\":{\"colorbar\":{\"outlinewidth\":0,\"ticks\":\"\"}}}],\"scatter3d\":[{\"type\":\"scatter3d\",\"line\":{\"colorbar\":{\"outlinewidth\":0,\"ticks\":\"\"}},\"marker\":{\"colorbar\":{\"outlinewidth\":0,\"ticks\":\"\"}}}],\"scattermapbox\":[{\"type\":\"scattermapbox\",\"marker\":{\"colorbar\":{\"outlinewidth\":0,\"ticks\":\"\"}}}],\"scatterternary\":[{\"type\":\"scatterternary\",\"marker\":{\"colorbar\":{\"outlinewidth\":0,\"ticks\":\"\"}}}],\"scattercarpet\":[{\"type\":\"scattercarpet\",\"marker\":{\"colorbar\":{\"outlinewidth\":0,\"ticks\":\"\"}}}],\"carpet\":[{\"aaxis\":{\"endlinecolor\":\"#2a3f5f\",\"gridcolor\":\"white\",\"linecolor\":\"white\",\"minorgridcolor\":\"white\",\"startlinecolor\":\"#2a3f5f\"},\"baxis\":{\"endlinecolor\":\"#2a3f5f\",\"gridcolor\":\"white\",\"linecolor\":\"white\",\"minorgridcolor\":\"white\",\"startlinecolor\":\"#2a3f5f\"},\"type\":\"carpet\"}],\"table\":[{\"cells\":{\"fill\":{\"color\":\"#EBF0F8\"},\"line\":{\"color\":\"white\"}},\"header\":{\"fill\":{\"color\":\"#C8D4E3\"},\"line\":{\"color\":\"white\"}},\"type\":\"table\"}],\"barpolar\":[{\"marker\":{\"line\":{\"color\":\"#E5ECF6\",\"width\":0.5},\"pattern\":{\"fillmode\":\"overlay\",\"size\":10,\"solidity\":0.2}},\"type\":\"barpolar\"}],\"pie\":[{\"automargin\":true,\"type\":\"pie\"}]},\"layout\":{\"autotypenumbers\":\"strict\",\"colorway\":[\"#636efa\",\"#EF553B\",\"#00cc96\",\"#ab63fa\",\"#FFA15A\",\"#19d3f3\",\"#FF6692\",\"#B6E880\",\"#FF97FF\",\"#FECB52\"],\"font\":{\"color\":\"#2a3f5f\"},\"hovermode\":\"closest\",\"hoverlabel\":{\"align\":\"left\"},\"paper_bgcolor\":\"white\",\"plot_bgcolor\":\"#E5ECF6\",\"polar\":{\"bgcolor\":\"#E5ECF6\",\"angularaxis\":{\"gridcolor\":\"white\",\"linecolor\":\"white\",\"ticks\":\"\"},\"radialaxis\":{\"gridcolor\":\"white\",\"linecolor\":\"white\",\"ticks\":\"\"}},\"ternary\":{\"bgcolor\":\"#E5ECF6\",\"aaxis\":{\"gridcolor\":\"white\",\"linecolor\":\"white\",\"ticks\":\"\"},\"baxis\":{\"gridcolor\":\"white\",\"linecolor\":\"white\",\"ticks\":\"\"},\"caxis\":{\"gridcolor\":\"white\",\"linecolor\":\"white\",\"ticks\":\"\"}},\"coloraxis\":{\"colorbar\":{\"outlinewidth\":0,\"ticks\":\"\"}},\"colorscale\":{\"sequential\":[[0.0,\"#0d0887\"],[0.1111111111111111,\"#46039f\"],[0.2222222222222222,\"#7201a8\"],[0.3333333333333333,\"#9c179e\"],[0.4444444444444444,\"#bd3786\"],[0.5555555555555556,\"#d8576b\"],[0.6666666666666666,\"#ed7953\"],[0.7777777777777778,\"#fb9f3a\"],[0.8888888888888888,\"#fdca26\"],[1.0,\"#f0f921\"]],\"sequentialminus\":[[0.0,\"#0d0887\"],[0.1111111111111111,\"#46039f\"],[0.2222222222222222,\"#7201a8\"],[0.3333333333333333,\"#9c179e\"],[0.4444444444444444,\"#bd3786\"],[0.5555555555555556,\"#d8576b\"],[0.6666666666666666,\"#ed7953\"],[0.7777777777777778,\"#fb9f3a\"],[0.8888888888888888,\"#fdca26\"],[1.0,\"#f0f921\"]],\"diverging\":[[0,\"#8e0152\"],[0.1,\"#c51b7d\"],[0.2,\"#de77ae\"],[0.3,\"#f1b6da\"],[0.4,\"#fde0ef\"],[0.5,\"#f7f7f7\"],[0.6,\"#e6f5d0\"],[0.7,\"#b8e186\"],[0.8,\"#7fbc41\"],[0.9,\"#4d9221\"],[1,\"#276419\"]]},\"xaxis\":{\"gridcolor\":\"white\",\"linecolor\":\"white\",\"ticks\":\"\",\"title\":{\"standoff\":15},\"zerolinecolor\":\"white\",\"automargin\":true,\"zerolinewidth\":2},\"yaxis\":{\"gridcolor\":\"white\",\"linecolor\":\"white\",\"ticks\":\"\",\"title\":{\"standoff\":15},\"zerolinecolor\":\"white\",\"automargin\":true,\"zerolinewidth\":2},\"scene\":{\"xaxis\":{\"backgroundcolor\":\"#E5ECF6\",\"gridcolor\":\"white\",\"linecolor\":\"white\",\"showbackground\":true,\"ticks\":\"\",\"zerolinecolor\":\"white\",\"gridwidth\":2},\"yaxis\":{\"backgroundcolor\":\"#E5ECF6\",\"gridcolor\":\"white\",\"linecolor\":\"white\",\"showbackground\":true,\"ticks\":\"\",\"zerolinecolor\":\"white\",\"gridwidth\":2},\"zaxis\":{\"backgroundcolor\":\"#E5ECF6\",\"gridcolor\":\"white\",\"linecolor\":\"white\",\"showbackground\":true,\"ticks\":\"\",\"zerolinecolor\":\"white\",\"gridwidth\":2}},\"shapedefaults\":{\"line\":{\"color\":\"#2a3f5f\"}},\"annotationdefaults\":{\"arrowcolor\":\"#2a3f5f\",\"arrowhead\":0,\"arrowwidth\":1},\"geo\":{\"bgcolor\":\"white\",\"landcolor\":\"#E5ECF6\",\"subunitcolor\":\"white\",\"showland\":true,\"showlakes\":true,\"lakecolor\":\"white\"},\"title\":{\"x\":0.05},\"mapbox\":{\"style\":\"light\"}}}},                        {\"responsive\": true}                    ).then(function(){\n",
       "                            \n",
       "var gd = document.getElementById('779b48b0-a737-4c9f-9706-6b3bb4822774');\n",
       "var x = new MutationObserver(function (mutations, observer) {{\n",
       "        var display = window.getComputedStyle(gd).display;\n",
       "        if (!display || display === 'none') {{\n",
       "            console.log([gd, 'removed!']);\n",
       "            Plotly.purge(gd);\n",
       "            observer.disconnect();\n",
       "        }}\n",
       "}});\n",
       "\n",
       "// Listen for the removal of the full notebook cells\n",
       "var notebookContainer = gd.closest('#notebook-container');\n",
       "if (notebookContainer) {{\n",
       "    x.observe(notebookContainer, {childList: true});\n",
       "}}\n",
       "\n",
       "// Listen for the clearing of the current output cell\n",
       "var outputEl = gd.closest('.output');\n",
       "if (outputEl) {{\n",
       "    x.observe(outputEl, {childList: true});\n",
       "}}\n",
       "\n",
       "                        })                };                });            </script>        </div>"
      ]
     },
     "metadata": {},
     "output_type": "display_data"
    }
   ],
   "source": [
    "import re\n",
    "import plotly.figure_factory as ff\n",
    "\n",
    "W_Zn = '/Users/3420545/Downloads/ZnTi2O4.out'\n",
    "Wo_Zn = '/Users/3420545/Downloads/TiO2.out'\n",
    "Fu_file = '/Users/3420545/Downloads/POSCAR'\n",
    "\n",
    "file = open(Fu_file)\n",
    "  \n",
    "#Get Numbers for Formula Units\n",
    "content = file.readlines()\n",
    "numbers=re.findall(r'\\d+', content[0])\n",
    "numbers\n",
    "\n",
    "comp_num = numbers[0]\n",
    "Znstruc_num = numbers[1]\n",
    "\n",
    "#Gets Final Energy for Zn\n",
    "finds = []\n",
    "with open('/Users/3420545/Downloads/Zn.out') as myFile:\n",
    "    for num, line in enumerate(myFile, 1):\n",
    "        if lookup in line:\n",
    "            #print ('found at line:', num)\n",
    "            finds.append(num)\n",
    "\n",
    "last_line = finds[-1]\n",
    "file = open('/Users/3420545/Downloads/Zn.out')\n",
    "content = file.readlines()\n",
    "text = content[last_line]\n",
    "Zn_E = text.partition(\"F= \")[2].partition(\" E0\")[0]\n",
    "Zn_E = float(Zn_E)\n",
    "\n",
    "#Gets Final Energy for structure without Zinc\n",
    "lookup = 'final diagonalization'\n",
    "finds = []\n",
    "with open(Wo_Zn) as myFile:\n",
    "    for num, line in enumerate(myFile, 1):\n",
    "        if lookup in line:\n",
    "            #print ('found at line:', num)\n",
    "            finds.append(num)\n",
    "\n",
    "last_line = finds[-1]\n",
    "\n",
    "file = open(Wo_Zn)\n",
    "content = file.readlines()\n",
    "text = content[last_line]\n",
    "WOZn_E = text.partition(\"F= \")[2].partition(\" E0\")[0]\n",
    "WOZn_E=float(WOZn_E)\n",
    "\n",
    "\n",
    "#Gets final Energy for structure with Zinc\n",
    "finds = []\n",
    "with open(W_Zn) as myFile:\n",
    "    for num, line in enumerate(myFile, 1):\n",
    "        if lookup in line:\n",
    "            #print ('found at line:', num)\n",
    "            finds.append(num)\n",
    "            \n",
    "last_line = finds[-1]\n",
    "file = open(W_Zn)\n",
    "content = file.readlines()\n",
    "text = content[last_line]\n",
    "WZn_E = text.partition(\"F= \")[2].partition(\" E0\")[0]\n",
    "WZn_E=float(WZn_E)\n",
    "\n",
    "\n",
    "#Creates Tables\n",
    "data_matrix = [['Element', 'E0 (eV)', 'Number of Atoms','eV/F.u'],\n",
    "               ['Zn', Zn_E, 2,float(Zn_E)/2],\n",
    "               ['TiO2',WOZn_E, comp_num,WOZn_E/int(comp_num)],\n",
    "               ['ZnTi2O4', WZn_E, Znstruc_num, WZn_E/int(Znstruc_num)],\n",
    "               ['2TiO2 + Zn','','', 2*WOZn_E/int(comp_num)+float(Zn_E)/2]\n",
    "              ]\n",
    "\n",
    "fig = ff.create_table(data_matrix)\n",
    "fig.show()"
   ]
  },
  {
   "cell_type": "code",
   "execution_count": null,
   "id": "56d78872",
   "metadata": {},
   "outputs": [],
   "source": []
  },
  {
   "cell_type": "code",
   "execution_count": 5,
   "id": "87393cc7",
   "metadata": {},
   "outputs": [
    {
     "name": "stdout",
     "output_type": "stream",
     "text": [
      "Collecting tk\n",
      "  Downloading tk-0.1.0-py3-none-any.whl (3.9 kB)\n",
      "Installing collected packages: tk\n",
      "Successfully installed tk-0.1.0\n"
     ]
    }
   ],
   "source": [
    "W_Zn =''\n",
    "Wo_Zn = ''\n",
    "Fu_file = ''"
   ]
  },
  {
   "cell_type": "code",
   "execution_count": 10,
   "id": "ac112b2f",
   "metadata": {},
   "outputs": [
    {
     "data": {
      "application/vnd.plotly.v1+json": {
       "config": {
        "plotlyServerURL": "https://plot.ly"
       },
       "data": [
        {
         "colorscale": [
          [
           0,
           "#00083e"
          ],
          [
           0.5,
           "#ededee"
          ],
          [
           1,
           "#ffffff"
          ]
         ],
         "hoverinfo": "none",
         "opacity": 0.75,
         "showscale": false,
         "type": "heatmap",
         "z": [
          [
           0,
           0,
           0,
           0
          ],
          [
           0.5,
           0.5,
           0.5,
           0.5
          ],
          [
           1,
           1,
           1,
           1
          ],
          [
           0.5,
           0.5,
           0.5,
           0.5
          ],
          [
           1,
           1,
           1,
           1
          ],
          [
           0.5,
           0.5,
           0.5,
           0.5
          ],
          [
           1,
           1,
           1,
           1
          ]
         ]
        }
       ],
       "layout": {
        "annotations": [
         {
          "align": "left",
          "font": {
           "color": "#ffffff"
          },
          "showarrow": false,
          "text": "<b>Element</b>",
          "x": -0.45,
          "xanchor": "left",
          "xref": "x",
          "y": 0,
          "yref": "y"
         },
         {
          "align": "left",
          "font": {
           "color": "#ffffff"
          },
          "showarrow": false,
          "text": "<b>E0 (eV)</b>",
          "x": 0.55,
          "xanchor": "left",
          "xref": "x",
          "y": 0,
          "yref": "y"
         },
         {
          "align": "left",
          "font": {
           "color": "#ffffff"
          },
          "showarrow": false,
          "text": "<b>Number of Atoms</b>",
          "x": 1.55,
          "xanchor": "left",
          "xref": "x",
          "y": 0,
          "yref": "y"
         },
         {
          "align": "left",
          "font": {
           "color": "#ffffff"
          },
          "showarrow": false,
          "text": "<b>eV/F.u</b>",
          "x": 2.55,
          "xanchor": "left",
          "xref": "x",
          "y": 0,
          "yref": "y"
         },
         {
          "align": "left",
          "font": {
           "color": "#000000"
          },
          "showarrow": false,
          "text": "Zn",
          "x": -0.45,
          "xanchor": "left",
          "xref": "x",
          "y": 1,
          "yref": "y"
         },
         {
          "align": "left",
          "font": {
           "color": "#000000"
          },
          "showarrow": false,
          "text": "-2.8920859",
          "x": 0.55,
          "xanchor": "left",
          "xref": "x",
          "y": 1,
          "yref": "y"
         },
         {
          "align": "left",
          "font": {
           "color": "#000000"
          },
          "showarrow": false,
          "text": "282200000",
          "x": 1.55,
          "xanchor": "left",
          "xref": "x",
          "y": 1,
          "yref": "y"
         },
         {
          "align": "left",
          "font": {
           "color": "#000000"
          },
          "showarrow": false,
          "text": "Canada",
          "x": -0.45,
          "xanchor": "left",
          "xref": "x",
          "y": 2,
          "yref": "y"
         },
         {
          "align": "left",
          "font": {
           "color": "#000000"
          },
          "showarrow": false,
          "text": "2000",
          "x": 0.55,
          "xanchor": "left",
          "xref": "x",
          "y": 2,
          "yref": "y"
         },
         {
          "align": "left",
          "font": {
           "color": "#000000"
          },
          "showarrow": false,
          "text": "27790000",
          "x": 1.55,
          "xanchor": "left",
          "xref": "x",
          "y": 2,
          "yref": "y"
         },
         {
          "align": "left",
          "font": {
           "color": "#000000"
          },
          "showarrow": false,
          "text": "United States",
          "x": -0.45,
          "xanchor": "left",
          "xref": "x",
          "y": 3,
          "yref": "y"
         },
         {
          "align": "left",
          "font": {
           "color": "#000000"
          },
          "showarrow": false,
          "text": "2005",
          "x": 0.55,
          "xanchor": "left",
          "xref": "x",
          "y": 3,
          "yref": "y"
         },
         {
          "align": "left",
          "font": {
           "color": "#000000"
          },
          "showarrow": false,
          "text": "295500000",
          "x": 1.55,
          "xanchor": "left",
          "xref": "x",
          "y": 3,
          "yref": "y"
         },
         {
          "align": "left",
          "font": {
           "color": "#000000"
          },
          "showarrow": false,
          "text": "Canada",
          "x": -0.45,
          "xanchor": "left",
          "xref": "x",
          "y": 4,
          "yref": "y"
         },
         {
          "align": "left",
          "font": {
           "color": "#000000"
          },
          "showarrow": false,
          "text": "2005",
          "x": 0.55,
          "xanchor": "left",
          "xref": "x",
          "y": 4,
          "yref": "y"
         },
         {
          "align": "left",
          "font": {
           "color": "#000000"
          },
          "showarrow": false,
          "text": "32310000",
          "x": 1.55,
          "xanchor": "left",
          "xref": "x",
          "y": 4,
          "yref": "y"
         },
         {
          "align": "left",
          "font": {
           "color": "#000000"
          },
          "showarrow": false,
          "text": "United States",
          "x": -0.45,
          "xanchor": "left",
          "xref": "x",
          "y": 5,
          "yref": "y"
         },
         {
          "align": "left",
          "font": {
           "color": "#000000"
          },
          "showarrow": false,
          "text": "2010",
          "x": 0.55,
          "xanchor": "left",
          "xref": "x",
          "y": 5,
          "yref": "y"
         },
         {
          "align": "left",
          "font": {
           "color": "#000000"
          },
          "showarrow": false,
          "text": "309000000",
          "x": 1.55,
          "xanchor": "left",
          "xref": "x",
          "y": 5,
          "yref": "y"
         },
         {
          "align": "left",
          "font": {
           "color": "#000000"
          },
          "showarrow": false,
          "text": "Canada",
          "x": -0.45,
          "xanchor": "left",
          "xref": "x",
          "y": 6,
          "yref": "y"
         },
         {
          "align": "left",
          "font": {
           "color": "#000000"
          },
          "showarrow": false,
          "text": "2010",
          "x": 0.55,
          "xanchor": "left",
          "xref": "x",
          "y": 6,
          "yref": "y"
         },
         {
          "align": "left",
          "font": {
           "color": "#000000"
          },
          "showarrow": false,
          "text": "34000000",
          "x": 1.55,
          "xanchor": "left",
          "xref": "x",
          "y": 6,
          "yref": "y"
         }
        ],
        "height": 260,
        "margin": {
         "b": 0,
         "l": 0,
         "r": 0,
         "t": 0
        },
        "template": {
         "data": {
          "bar": [
           {
            "error_x": {
             "color": "#2a3f5f"
            },
            "error_y": {
             "color": "#2a3f5f"
            },
            "marker": {
             "line": {
              "color": "#E5ECF6",
              "width": 0.5
             },
             "pattern": {
              "fillmode": "overlay",
              "size": 10,
              "solidity": 0.2
             }
            },
            "type": "bar"
           }
          ],
          "barpolar": [
           {
            "marker": {
             "line": {
              "color": "#E5ECF6",
              "width": 0.5
             },
             "pattern": {
              "fillmode": "overlay",
              "size": 10,
              "solidity": 0.2
             }
            },
            "type": "barpolar"
           }
          ],
          "carpet": [
           {
            "aaxis": {
             "endlinecolor": "#2a3f5f",
             "gridcolor": "white",
             "linecolor": "white",
             "minorgridcolor": "white",
             "startlinecolor": "#2a3f5f"
            },
            "baxis": {
             "endlinecolor": "#2a3f5f",
             "gridcolor": "white",
             "linecolor": "white",
             "minorgridcolor": "white",
             "startlinecolor": "#2a3f5f"
            },
            "type": "carpet"
           }
          ],
          "choropleth": [
           {
            "colorbar": {
             "outlinewidth": 0,
             "ticks": ""
            },
            "type": "choropleth"
           }
          ],
          "contour": [
           {
            "colorbar": {
             "outlinewidth": 0,
             "ticks": ""
            },
            "colorscale": [
             [
              0,
              "#0d0887"
             ],
             [
              0.1111111111111111,
              "#46039f"
             ],
             [
              0.2222222222222222,
              "#7201a8"
             ],
             [
              0.3333333333333333,
              "#9c179e"
             ],
             [
              0.4444444444444444,
              "#bd3786"
             ],
             [
              0.5555555555555556,
              "#d8576b"
             ],
             [
              0.6666666666666666,
              "#ed7953"
             ],
             [
              0.7777777777777778,
              "#fb9f3a"
             ],
             [
              0.8888888888888888,
              "#fdca26"
             ],
             [
              1,
              "#f0f921"
             ]
            ],
            "type": "contour"
           }
          ],
          "contourcarpet": [
           {
            "colorbar": {
             "outlinewidth": 0,
             "ticks": ""
            },
            "type": "contourcarpet"
           }
          ],
          "heatmap": [
           {
            "colorbar": {
             "outlinewidth": 0,
             "ticks": ""
            },
            "colorscale": [
             [
              0,
              "#0d0887"
             ],
             [
              0.1111111111111111,
              "#46039f"
             ],
             [
              0.2222222222222222,
              "#7201a8"
             ],
             [
              0.3333333333333333,
              "#9c179e"
             ],
             [
              0.4444444444444444,
              "#bd3786"
             ],
             [
              0.5555555555555556,
              "#d8576b"
             ],
             [
              0.6666666666666666,
              "#ed7953"
             ],
             [
              0.7777777777777778,
              "#fb9f3a"
             ],
             [
              0.8888888888888888,
              "#fdca26"
             ],
             [
              1,
              "#f0f921"
             ]
            ],
            "type": "heatmap"
           }
          ],
          "heatmapgl": [
           {
            "colorbar": {
             "outlinewidth": 0,
             "ticks": ""
            },
            "colorscale": [
             [
              0,
              "#0d0887"
             ],
             [
              0.1111111111111111,
              "#46039f"
             ],
             [
              0.2222222222222222,
              "#7201a8"
             ],
             [
              0.3333333333333333,
              "#9c179e"
             ],
             [
              0.4444444444444444,
              "#bd3786"
             ],
             [
              0.5555555555555556,
              "#d8576b"
             ],
             [
              0.6666666666666666,
              "#ed7953"
             ],
             [
              0.7777777777777778,
              "#fb9f3a"
             ],
             [
              0.8888888888888888,
              "#fdca26"
             ],
             [
              1,
              "#f0f921"
             ]
            ],
            "type": "heatmapgl"
           }
          ],
          "histogram": [
           {
            "marker": {
             "pattern": {
              "fillmode": "overlay",
              "size": 10,
              "solidity": 0.2
             }
            },
            "type": "histogram"
           }
          ],
          "histogram2d": [
           {
            "colorbar": {
             "outlinewidth": 0,
             "ticks": ""
            },
            "colorscale": [
             [
              0,
              "#0d0887"
             ],
             [
              0.1111111111111111,
              "#46039f"
             ],
             [
              0.2222222222222222,
              "#7201a8"
             ],
             [
              0.3333333333333333,
              "#9c179e"
             ],
             [
              0.4444444444444444,
              "#bd3786"
             ],
             [
              0.5555555555555556,
              "#d8576b"
             ],
             [
              0.6666666666666666,
              "#ed7953"
             ],
             [
              0.7777777777777778,
              "#fb9f3a"
             ],
             [
              0.8888888888888888,
              "#fdca26"
             ],
             [
              1,
              "#f0f921"
             ]
            ],
            "type": "histogram2d"
           }
          ],
          "histogram2dcontour": [
           {
            "colorbar": {
             "outlinewidth": 0,
             "ticks": ""
            },
            "colorscale": [
             [
              0,
              "#0d0887"
             ],
             [
              0.1111111111111111,
              "#46039f"
             ],
             [
              0.2222222222222222,
              "#7201a8"
             ],
             [
              0.3333333333333333,
              "#9c179e"
             ],
             [
              0.4444444444444444,
              "#bd3786"
             ],
             [
              0.5555555555555556,
              "#d8576b"
             ],
             [
              0.6666666666666666,
              "#ed7953"
             ],
             [
              0.7777777777777778,
              "#fb9f3a"
             ],
             [
              0.8888888888888888,
              "#fdca26"
             ],
             [
              1,
              "#f0f921"
             ]
            ],
            "type": "histogram2dcontour"
           }
          ],
          "mesh3d": [
           {
            "colorbar": {
             "outlinewidth": 0,
             "ticks": ""
            },
            "type": "mesh3d"
           }
          ],
          "parcoords": [
           {
            "line": {
             "colorbar": {
              "outlinewidth": 0,
              "ticks": ""
             }
            },
            "type": "parcoords"
           }
          ],
          "pie": [
           {
            "automargin": true,
            "type": "pie"
           }
          ],
          "scatter": [
           {
            "fillpattern": {
             "fillmode": "overlay",
             "size": 10,
             "solidity": 0.2
            },
            "type": "scatter"
           }
          ],
          "scatter3d": [
           {
            "line": {
             "colorbar": {
              "outlinewidth": 0,
              "ticks": ""
             }
            },
            "marker": {
             "colorbar": {
              "outlinewidth": 0,
              "ticks": ""
             }
            },
            "type": "scatter3d"
           }
          ],
          "scattercarpet": [
           {
            "marker": {
             "colorbar": {
              "outlinewidth": 0,
              "ticks": ""
             }
            },
            "type": "scattercarpet"
           }
          ],
          "scattergeo": [
           {
            "marker": {
             "colorbar": {
              "outlinewidth": 0,
              "ticks": ""
             }
            },
            "type": "scattergeo"
           }
          ],
          "scattergl": [
           {
            "marker": {
             "colorbar": {
              "outlinewidth": 0,
              "ticks": ""
             }
            },
            "type": "scattergl"
           }
          ],
          "scattermapbox": [
           {
            "marker": {
             "colorbar": {
              "outlinewidth": 0,
              "ticks": ""
             }
            },
            "type": "scattermapbox"
           }
          ],
          "scatterpolar": [
           {
            "marker": {
             "colorbar": {
              "outlinewidth": 0,
              "ticks": ""
             }
            },
            "type": "scatterpolar"
           }
          ],
          "scatterpolargl": [
           {
            "marker": {
             "colorbar": {
              "outlinewidth": 0,
              "ticks": ""
             }
            },
            "type": "scatterpolargl"
           }
          ],
          "scatterternary": [
           {
            "marker": {
             "colorbar": {
              "outlinewidth": 0,
              "ticks": ""
             }
            },
            "type": "scatterternary"
           }
          ],
          "surface": [
           {
            "colorbar": {
             "outlinewidth": 0,
             "ticks": ""
            },
            "colorscale": [
             [
              0,
              "#0d0887"
             ],
             [
              0.1111111111111111,
              "#46039f"
             ],
             [
              0.2222222222222222,
              "#7201a8"
             ],
             [
              0.3333333333333333,
              "#9c179e"
             ],
             [
              0.4444444444444444,
              "#bd3786"
             ],
             [
              0.5555555555555556,
              "#d8576b"
             ],
             [
              0.6666666666666666,
              "#ed7953"
             ],
             [
              0.7777777777777778,
              "#fb9f3a"
             ],
             [
              0.8888888888888888,
              "#fdca26"
             ],
             [
              1,
              "#f0f921"
             ]
            ],
            "type": "surface"
           }
          ],
          "table": [
           {
            "cells": {
             "fill": {
              "color": "#EBF0F8"
             },
             "line": {
              "color": "white"
             }
            },
            "header": {
             "fill": {
              "color": "#C8D4E3"
             },
             "line": {
              "color": "white"
             }
            },
            "type": "table"
           }
          ]
         },
         "layout": {
          "annotationdefaults": {
           "arrowcolor": "#2a3f5f",
           "arrowhead": 0,
           "arrowwidth": 1
          },
          "autotypenumbers": "strict",
          "coloraxis": {
           "colorbar": {
            "outlinewidth": 0,
            "ticks": ""
           }
          },
          "colorscale": {
           "diverging": [
            [
             0,
             "#8e0152"
            ],
            [
             0.1,
             "#c51b7d"
            ],
            [
             0.2,
             "#de77ae"
            ],
            [
             0.3,
             "#f1b6da"
            ],
            [
             0.4,
             "#fde0ef"
            ],
            [
             0.5,
             "#f7f7f7"
            ],
            [
             0.6,
             "#e6f5d0"
            ],
            [
             0.7,
             "#b8e186"
            ],
            [
             0.8,
             "#7fbc41"
            ],
            [
             0.9,
             "#4d9221"
            ],
            [
             1,
             "#276419"
            ]
           ],
           "sequential": [
            [
             0,
             "#0d0887"
            ],
            [
             0.1111111111111111,
             "#46039f"
            ],
            [
             0.2222222222222222,
             "#7201a8"
            ],
            [
             0.3333333333333333,
             "#9c179e"
            ],
            [
             0.4444444444444444,
             "#bd3786"
            ],
            [
             0.5555555555555556,
             "#d8576b"
            ],
            [
             0.6666666666666666,
             "#ed7953"
            ],
            [
             0.7777777777777778,
             "#fb9f3a"
            ],
            [
             0.8888888888888888,
             "#fdca26"
            ],
            [
             1,
             "#f0f921"
            ]
           ],
           "sequentialminus": [
            [
             0,
             "#0d0887"
            ],
            [
             0.1111111111111111,
             "#46039f"
            ],
            [
             0.2222222222222222,
             "#7201a8"
            ],
            [
             0.3333333333333333,
             "#9c179e"
            ],
            [
             0.4444444444444444,
             "#bd3786"
            ],
            [
             0.5555555555555556,
             "#d8576b"
            ],
            [
             0.6666666666666666,
             "#ed7953"
            ],
            [
             0.7777777777777778,
             "#fb9f3a"
            ],
            [
             0.8888888888888888,
             "#fdca26"
            ],
            [
             1,
             "#f0f921"
            ]
           ]
          },
          "colorway": [
           "#636efa",
           "#EF553B",
           "#00cc96",
           "#ab63fa",
           "#FFA15A",
           "#19d3f3",
           "#FF6692",
           "#B6E880",
           "#FF97FF",
           "#FECB52"
          ],
          "font": {
           "color": "#2a3f5f"
          },
          "geo": {
           "bgcolor": "white",
           "lakecolor": "white",
           "landcolor": "#E5ECF6",
           "showlakes": true,
           "showland": true,
           "subunitcolor": "white"
          },
          "hoverlabel": {
           "align": "left"
          },
          "hovermode": "closest",
          "mapbox": {
           "style": "light"
          },
          "paper_bgcolor": "white",
          "plot_bgcolor": "#E5ECF6",
          "polar": {
           "angularaxis": {
            "gridcolor": "white",
            "linecolor": "white",
            "ticks": ""
           },
           "bgcolor": "#E5ECF6",
           "radialaxis": {
            "gridcolor": "white",
            "linecolor": "white",
            "ticks": ""
           }
          },
          "scene": {
           "xaxis": {
            "backgroundcolor": "#E5ECF6",
            "gridcolor": "white",
            "gridwidth": 2,
            "linecolor": "white",
            "showbackground": true,
            "ticks": "",
            "zerolinecolor": "white"
           },
           "yaxis": {
            "backgroundcolor": "#E5ECF6",
            "gridcolor": "white",
            "gridwidth": 2,
            "linecolor": "white",
            "showbackground": true,
            "ticks": "",
            "zerolinecolor": "white"
           },
           "zaxis": {
            "backgroundcolor": "#E5ECF6",
            "gridcolor": "white",
            "gridwidth": 2,
            "linecolor": "white",
            "showbackground": true,
            "ticks": "",
            "zerolinecolor": "white"
           }
          },
          "shapedefaults": {
           "line": {
            "color": "#2a3f5f"
           }
          },
          "ternary": {
           "aaxis": {
            "gridcolor": "white",
            "linecolor": "white",
            "ticks": ""
           },
           "baxis": {
            "gridcolor": "white",
            "linecolor": "white",
            "ticks": ""
           },
           "bgcolor": "#E5ECF6",
           "caxis": {
            "gridcolor": "white",
            "linecolor": "white",
            "ticks": ""
           }
          },
          "title": {
           "x": 0.05
          },
          "xaxis": {
           "automargin": true,
           "gridcolor": "white",
           "linecolor": "white",
           "ticks": "",
           "title": {
            "standoff": 15
           },
           "zerolinecolor": "white",
           "zerolinewidth": 2
          },
          "yaxis": {
           "automargin": true,
           "gridcolor": "white",
           "linecolor": "white",
           "ticks": "",
           "title": {
            "standoff": 15
           },
           "zerolinecolor": "white",
           "zerolinewidth": 2
          }
         }
        },
        "xaxis": {
         "dtick": 1,
         "gridwidth": 2,
         "showticklabels": false,
         "tick0": -0.5,
         "ticks": "",
         "zeroline": false
        },
        "yaxis": {
         "autorange": "reversed",
         "dtick": 1,
         "gridwidth": 2,
         "showticklabels": false,
         "tick0": 0.5,
         "ticks": "",
         "zeroline": false
        }
       }
      },
      "text/html": [
       "<div>                            <div id=\"fc9cdb54-6f16-4555-a988-3c16053eb9dc\" class=\"plotly-graph-div\" style=\"height:260px; width:100%;\"></div>            <script type=\"text/javascript\">                require([\"plotly\"], function(Plotly) {                    window.PLOTLYENV=window.PLOTLYENV || {};                                    if (document.getElementById(\"fc9cdb54-6f16-4555-a988-3c16053eb9dc\")) {                    Plotly.newPlot(                        \"fc9cdb54-6f16-4555-a988-3c16053eb9dc\",                        [{\"colorscale\":[[0,\"#00083e\"],[0.5,\"#ededee\"],[1,\"#ffffff\"]],\"hoverinfo\":\"none\",\"opacity\":0.75,\"showscale\":false,\"z\":[[0,0,0,0],[0.5,0.5,0.5,0.5],[1,1,1,1],[0.5,0.5,0.5,0.5],[1,1,1,1],[0.5,0.5,0.5,0.5],[1,1,1,1]],\"type\":\"heatmap\"}],                        {\"annotations\":[{\"align\":\"left\",\"font\":{\"color\":\"#ffffff\"},\"showarrow\":false,\"text\":\"<b>Element</b>\",\"x\":-0.45,\"xanchor\":\"left\",\"xref\":\"x\",\"y\":0,\"yref\":\"y\"},{\"align\":\"left\",\"font\":{\"color\":\"#ffffff\"},\"showarrow\":false,\"text\":\"<b>E0 (eV)</b>\",\"x\":0.55,\"xanchor\":\"left\",\"xref\":\"x\",\"y\":0,\"yref\":\"y\"},{\"align\":\"left\",\"font\":{\"color\":\"#ffffff\"},\"showarrow\":false,\"text\":\"<b>Number of Atoms</b>\",\"x\":1.55,\"xanchor\":\"left\",\"xref\":\"x\",\"y\":0,\"yref\":\"y\"},{\"align\":\"left\",\"font\":{\"color\":\"#ffffff\"},\"showarrow\":false,\"text\":\"<b>eV/F.u</b>\",\"x\":2.55,\"xanchor\":\"left\",\"xref\":\"x\",\"y\":0,\"yref\":\"y\"},{\"align\":\"left\",\"font\":{\"color\":\"#000000\"},\"showarrow\":false,\"text\":\"Zn\",\"x\":-0.45,\"xanchor\":\"left\",\"xref\":\"x\",\"y\":1,\"yref\":\"y\"},{\"align\":\"left\",\"font\":{\"color\":\"#000000\"},\"showarrow\":false,\"text\":\"-2.8920859\",\"x\":0.55,\"xanchor\":\"left\",\"xref\":\"x\",\"y\":1,\"yref\":\"y\"},{\"align\":\"left\",\"font\":{\"color\":\"#000000\"},\"showarrow\":false,\"text\":\"282200000\",\"x\":1.55,\"xanchor\":\"left\",\"xref\":\"x\",\"y\":1,\"yref\":\"y\"},{\"align\":\"left\",\"font\":{\"color\":\"#000000\"},\"showarrow\":false,\"text\":\"Canada\",\"x\":-0.45,\"xanchor\":\"left\",\"xref\":\"x\",\"y\":2,\"yref\":\"y\"},{\"align\":\"left\",\"font\":{\"color\":\"#000000\"},\"showarrow\":false,\"text\":\"2000\",\"x\":0.55,\"xanchor\":\"left\",\"xref\":\"x\",\"y\":2,\"yref\":\"y\"},{\"align\":\"left\",\"font\":{\"color\":\"#000000\"},\"showarrow\":false,\"text\":\"27790000\",\"x\":1.55,\"xanchor\":\"left\",\"xref\":\"x\",\"y\":2,\"yref\":\"y\"},{\"align\":\"left\",\"font\":{\"color\":\"#000000\"},\"showarrow\":false,\"text\":\"United States\",\"x\":-0.45,\"xanchor\":\"left\",\"xref\":\"x\",\"y\":3,\"yref\":\"y\"},{\"align\":\"left\",\"font\":{\"color\":\"#000000\"},\"showarrow\":false,\"text\":\"2005\",\"x\":0.55,\"xanchor\":\"left\",\"xref\":\"x\",\"y\":3,\"yref\":\"y\"},{\"align\":\"left\",\"font\":{\"color\":\"#000000\"},\"showarrow\":false,\"text\":\"295500000\",\"x\":1.55,\"xanchor\":\"left\",\"xref\":\"x\",\"y\":3,\"yref\":\"y\"},{\"align\":\"left\",\"font\":{\"color\":\"#000000\"},\"showarrow\":false,\"text\":\"Canada\",\"x\":-0.45,\"xanchor\":\"left\",\"xref\":\"x\",\"y\":4,\"yref\":\"y\"},{\"align\":\"left\",\"font\":{\"color\":\"#000000\"},\"showarrow\":false,\"text\":\"2005\",\"x\":0.55,\"xanchor\":\"left\",\"xref\":\"x\",\"y\":4,\"yref\":\"y\"},{\"align\":\"left\",\"font\":{\"color\":\"#000000\"},\"showarrow\":false,\"text\":\"32310000\",\"x\":1.55,\"xanchor\":\"left\",\"xref\":\"x\",\"y\":4,\"yref\":\"y\"},{\"align\":\"left\",\"font\":{\"color\":\"#000000\"},\"showarrow\":false,\"text\":\"United States\",\"x\":-0.45,\"xanchor\":\"left\",\"xref\":\"x\",\"y\":5,\"yref\":\"y\"},{\"align\":\"left\",\"font\":{\"color\":\"#000000\"},\"showarrow\":false,\"text\":\"2010\",\"x\":0.55,\"xanchor\":\"left\",\"xref\":\"x\",\"y\":5,\"yref\":\"y\"},{\"align\":\"left\",\"font\":{\"color\":\"#000000\"},\"showarrow\":false,\"text\":\"309000000\",\"x\":1.55,\"xanchor\":\"left\",\"xref\":\"x\",\"y\":5,\"yref\":\"y\"},{\"align\":\"left\",\"font\":{\"color\":\"#000000\"},\"showarrow\":false,\"text\":\"Canada\",\"x\":-0.45,\"xanchor\":\"left\",\"xref\":\"x\",\"y\":6,\"yref\":\"y\"},{\"align\":\"left\",\"font\":{\"color\":\"#000000\"},\"showarrow\":false,\"text\":\"2010\",\"x\":0.55,\"xanchor\":\"left\",\"xref\":\"x\",\"y\":6,\"yref\":\"y\"},{\"align\":\"left\",\"font\":{\"color\":\"#000000\"},\"showarrow\":false,\"text\":\"34000000\",\"x\":1.55,\"xanchor\":\"left\",\"xref\":\"x\",\"y\":6,\"yref\":\"y\"}],\"height\":260,\"margin\":{\"b\":0,\"l\":0,\"r\":0,\"t\":0},\"xaxis\":{\"dtick\":1,\"gridwidth\":2,\"showticklabels\":false,\"tick0\":-0.5,\"ticks\":\"\",\"zeroline\":false},\"yaxis\":{\"autorange\":\"reversed\",\"dtick\":1,\"gridwidth\":2,\"showticklabels\":false,\"tick0\":0.5,\"ticks\":\"\",\"zeroline\":false},\"template\":{\"data\":{\"histogram2dcontour\":[{\"type\":\"histogram2dcontour\",\"colorbar\":{\"outlinewidth\":0,\"ticks\":\"\"},\"colorscale\":[[0.0,\"#0d0887\"],[0.1111111111111111,\"#46039f\"],[0.2222222222222222,\"#7201a8\"],[0.3333333333333333,\"#9c179e\"],[0.4444444444444444,\"#bd3786\"],[0.5555555555555556,\"#d8576b\"],[0.6666666666666666,\"#ed7953\"],[0.7777777777777778,\"#fb9f3a\"],[0.8888888888888888,\"#fdca26\"],[1.0,\"#f0f921\"]]}],\"choropleth\":[{\"type\":\"choropleth\",\"colorbar\":{\"outlinewidth\":0,\"ticks\":\"\"}}],\"histogram2d\":[{\"type\":\"histogram2d\",\"colorbar\":{\"outlinewidth\":0,\"ticks\":\"\"},\"colorscale\":[[0.0,\"#0d0887\"],[0.1111111111111111,\"#46039f\"],[0.2222222222222222,\"#7201a8\"],[0.3333333333333333,\"#9c179e\"],[0.4444444444444444,\"#bd3786\"],[0.5555555555555556,\"#d8576b\"],[0.6666666666666666,\"#ed7953\"],[0.7777777777777778,\"#fb9f3a\"],[0.8888888888888888,\"#fdca26\"],[1.0,\"#f0f921\"]]}],\"heatmap\":[{\"type\":\"heatmap\",\"colorbar\":{\"outlinewidth\":0,\"ticks\":\"\"},\"colorscale\":[[0.0,\"#0d0887\"],[0.1111111111111111,\"#46039f\"],[0.2222222222222222,\"#7201a8\"],[0.3333333333333333,\"#9c179e\"],[0.4444444444444444,\"#bd3786\"],[0.5555555555555556,\"#d8576b\"],[0.6666666666666666,\"#ed7953\"],[0.7777777777777778,\"#fb9f3a\"],[0.8888888888888888,\"#fdca26\"],[1.0,\"#f0f921\"]]}],\"heatmapgl\":[{\"type\":\"heatmapgl\",\"colorbar\":{\"outlinewidth\":0,\"ticks\":\"\"},\"colorscale\":[[0.0,\"#0d0887\"],[0.1111111111111111,\"#46039f\"],[0.2222222222222222,\"#7201a8\"],[0.3333333333333333,\"#9c179e\"],[0.4444444444444444,\"#bd3786\"],[0.5555555555555556,\"#d8576b\"],[0.6666666666666666,\"#ed7953\"],[0.7777777777777778,\"#fb9f3a\"],[0.8888888888888888,\"#fdca26\"],[1.0,\"#f0f921\"]]}],\"contourcarpet\":[{\"type\":\"contourcarpet\",\"colorbar\":{\"outlinewidth\":0,\"ticks\":\"\"}}],\"contour\":[{\"type\":\"contour\",\"colorbar\":{\"outlinewidth\":0,\"ticks\":\"\"},\"colorscale\":[[0.0,\"#0d0887\"],[0.1111111111111111,\"#46039f\"],[0.2222222222222222,\"#7201a8\"],[0.3333333333333333,\"#9c179e\"],[0.4444444444444444,\"#bd3786\"],[0.5555555555555556,\"#d8576b\"],[0.6666666666666666,\"#ed7953\"],[0.7777777777777778,\"#fb9f3a\"],[0.8888888888888888,\"#fdca26\"],[1.0,\"#f0f921\"]]}],\"surface\":[{\"type\":\"surface\",\"colorbar\":{\"outlinewidth\":0,\"ticks\":\"\"},\"colorscale\":[[0.0,\"#0d0887\"],[0.1111111111111111,\"#46039f\"],[0.2222222222222222,\"#7201a8\"],[0.3333333333333333,\"#9c179e\"],[0.4444444444444444,\"#bd3786\"],[0.5555555555555556,\"#d8576b\"],[0.6666666666666666,\"#ed7953\"],[0.7777777777777778,\"#fb9f3a\"],[0.8888888888888888,\"#fdca26\"],[1.0,\"#f0f921\"]]}],\"mesh3d\":[{\"type\":\"mesh3d\",\"colorbar\":{\"outlinewidth\":0,\"ticks\":\"\"}}],\"scatter\":[{\"fillpattern\":{\"fillmode\":\"overlay\",\"size\":10,\"solidity\":0.2},\"type\":\"scatter\"}],\"parcoords\":[{\"type\":\"parcoords\",\"line\":{\"colorbar\":{\"outlinewidth\":0,\"ticks\":\"\"}}}],\"scatterpolargl\":[{\"type\":\"scatterpolargl\",\"marker\":{\"colorbar\":{\"outlinewidth\":0,\"ticks\":\"\"}}}],\"bar\":[{\"error_x\":{\"color\":\"#2a3f5f\"},\"error_y\":{\"color\":\"#2a3f5f\"},\"marker\":{\"line\":{\"color\":\"#E5ECF6\",\"width\":0.5},\"pattern\":{\"fillmode\":\"overlay\",\"size\":10,\"solidity\":0.2}},\"type\":\"bar\"}],\"scattergeo\":[{\"type\":\"scattergeo\",\"marker\":{\"colorbar\":{\"outlinewidth\":0,\"ticks\":\"\"}}}],\"scatterpolar\":[{\"type\":\"scatterpolar\",\"marker\":{\"colorbar\":{\"outlinewidth\":0,\"ticks\":\"\"}}}],\"histogram\":[{\"marker\":{\"pattern\":{\"fillmode\":\"overlay\",\"size\":10,\"solidity\":0.2}},\"type\":\"histogram\"}],\"scattergl\":[{\"type\":\"scattergl\",\"marker\":{\"colorbar\":{\"outlinewidth\":0,\"ticks\":\"\"}}}],\"scatter3d\":[{\"type\":\"scatter3d\",\"line\":{\"colorbar\":{\"outlinewidth\":0,\"ticks\":\"\"}},\"marker\":{\"colorbar\":{\"outlinewidth\":0,\"ticks\":\"\"}}}],\"scattermapbox\":[{\"type\":\"scattermapbox\",\"marker\":{\"colorbar\":{\"outlinewidth\":0,\"ticks\":\"\"}}}],\"scatterternary\":[{\"type\":\"scatterternary\",\"marker\":{\"colorbar\":{\"outlinewidth\":0,\"ticks\":\"\"}}}],\"scattercarpet\":[{\"type\":\"scattercarpet\",\"marker\":{\"colorbar\":{\"outlinewidth\":0,\"ticks\":\"\"}}}],\"carpet\":[{\"aaxis\":{\"endlinecolor\":\"#2a3f5f\",\"gridcolor\":\"white\",\"linecolor\":\"white\",\"minorgridcolor\":\"white\",\"startlinecolor\":\"#2a3f5f\"},\"baxis\":{\"endlinecolor\":\"#2a3f5f\",\"gridcolor\":\"white\",\"linecolor\":\"white\",\"minorgridcolor\":\"white\",\"startlinecolor\":\"#2a3f5f\"},\"type\":\"carpet\"}],\"table\":[{\"cells\":{\"fill\":{\"color\":\"#EBF0F8\"},\"line\":{\"color\":\"white\"}},\"header\":{\"fill\":{\"color\":\"#C8D4E3\"},\"line\":{\"color\":\"white\"}},\"type\":\"table\"}],\"barpolar\":[{\"marker\":{\"line\":{\"color\":\"#E5ECF6\",\"width\":0.5},\"pattern\":{\"fillmode\":\"overlay\",\"size\":10,\"solidity\":0.2}},\"type\":\"barpolar\"}],\"pie\":[{\"automargin\":true,\"type\":\"pie\"}]},\"layout\":{\"autotypenumbers\":\"strict\",\"colorway\":[\"#636efa\",\"#EF553B\",\"#00cc96\",\"#ab63fa\",\"#FFA15A\",\"#19d3f3\",\"#FF6692\",\"#B6E880\",\"#FF97FF\",\"#FECB52\"],\"font\":{\"color\":\"#2a3f5f\"},\"hovermode\":\"closest\",\"hoverlabel\":{\"align\":\"left\"},\"paper_bgcolor\":\"white\",\"plot_bgcolor\":\"#E5ECF6\",\"polar\":{\"bgcolor\":\"#E5ECF6\",\"angularaxis\":{\"gridcolor\":\"white\",\"linecolor\":\"white\",\"ticks\":\"\"},\"radialaxis\":{\"gridcolor\":\"white\",\"linecolor\":\"white\",\"ticks\":\"\"}},\"ternary\":{\"bgcolor\":\"#E5ECF6\",\"aaxis\":{\"gridcolor\":\"white\",\"linecolor\":\"white\",\"ticks\":\"\"},\"baxis\":{\"gridcolor\":\"white\",\"linecolor\":\"white\",\"ticks\":\"\"},\"caxis\":{\"gridcolor\":\"white\",\"linecolor\":\"white\",\"ticks\":\"\"}},\"coloraxis\":{\"colorbar\":{\"outlinewidth\":0,\"ticks\":\"\"}},\"colorscale\":{\"sequential\":[[0.0,\"#0d0887\"],[0.1111111111111111,\"#46039f\"],[0.2222222222222222,\"#7201a8\"],[0.3333333333333333,\"#9c179e\"],[0.4444444444444444,\"#bd3786\"],[0.5555555555555556,\"#d8576b\"],[0.6666666666666666,\"#ed7953\"],[0.7777777777777778,\"#fb9f3a\"],[0.8888888888888888,\"#fdca26\"],[1.0,\"#f0f921\"]],\"sequentialminus\":[[0.0,\"#0d0887\"],[0.1111111111111111,\"#46039f\"],[0.2222222222222222,\"#7201a8\"],[0.3333333333333333,\"#9c179e\"],[0.4444444444444444,\"#bd3786\"],[0.5555555555555556,\"#d8576b\"],[0.6666666666666666,\"#ed7953\"],[0.7777777777777778,\"#fb9f3a\"],[0.8888888888888888,\"#fdca26\"],[1.0,\"#f0f921\"]],\"diverging\":[[0,\"#8e0152\"],[0.1,\"#c51b7d\"],[0.2,\"#de77ae\"],[0.3,\"#f1b6da\"],[0.4,\"#fde0ef\"],[0.5,\"#f7f7f7\"],[0.6,\"#e6f5d0\"],[0.7,\"#b8e186\"],[0.8,\"#7fbc41\"],[0.9,\"#4d9221\"],[1,\"#276419\"]]},\"xaxis\":{\"gridcolor\":\"white\",\"linecolor\":\"white\",\"ticks\":\"\",\"title\":{\"standoff\":15},\"zerolinecolor\":\"white\",\"automargin\":true,\"zerolinewidth\":2},\"yaxis\":{\"gridcolor\":\"white\",\"linecolor\":\"white\",\"ticks\":\"\",\"title\":{\"standoff\":15},\"zerolinecolor\":\"white\",\"automargin\":true,\"zerolinewidth\":2},\"scene\":{\"xaxis\":{\"backgroundcolor\":\"#E5ECF6\",\"gridcolor\":\"white\",\"linecolor\":\"white\",\"showbackground\":true,\"ticks\":\"\",\"zerolinecolor\":\"white\",\"gridwidth\":2},\"yaxis\":{\"backgroundcolor\":\"#E5ECF6\",\"gridcolor\":\"white\",\"linecolor\":\"white\",\"showbackground\":true,\"ticks\":\"\",\"zerolinecolor\":\"white\",\"gridwidth\":2},\"zaxis\":{\"backgroundcolor\":\"#E5ECF6\",\"gridcolor\":\"white\",\"linecolor\":\"white\",\"showbackground\":true,\"ticks\":\"\",\"zerolinecolor\":\"white\",\"gridwidth\":2}},\"shapedefaults\":{\"line\":{\"color\":\"#2a3f5f\"}},\"annotationdefaults\":{\"arrowcolor\":\"#2a3f5f\",\"arrowhead\":0,\"arrowwidth\":1},\"geo\":{\"bgcolor\":\"white\",\"landcolor\":\"#E5ECF6\",\"subunitcolor\":\"white\",\"showland\":true,\"showlakes\":true,\"lakecolor\":\"white\"},\"title\":{\"x\":0.05},\"mapbox\":{\"style\":\"light\"}}}},                        {\"responsive\": true}                    ).then(function(){\n",
       "                            \n",
       "var gd = document.getElementById('fc9cdb54-6f16-4555-a988-3c16053eb9dc');\n",
       "var x = new MutationObserver(function (mutations, observer) {{\n",
       "        var display = window.getComputedStyle(gd).display;\n",
       "        if (!display || display === 'none') {{\n",
       "            console.log([gd, 'removed!']);\n",
       "            Plotly.purge(gd);\n",
       "            observer.disconnect();\n",
       "        }}\n",
       "}});\n",
       "\n",
       "// Listen for the removal of the full notebook cells\n",
       "var notebookContainer = gd.closest('#notebook-container');\n",
       "if (notebookContainer) {{\n",
       "    x.observe(notebookContainer, {childList: true});\n",
       "}}\n",
       "\n",
       "// Listen for the clearing of the current output cell\n",
       "var outputEl = gd.closest('.output');\n",
       "if (outputEl) {{\n",
       "    x.observe(outputEl, {childList: true});\n",
       "}}\n",
       "\n",
       "                        })                };                });            </script>        </div>"
      ]
     },
     "metadata": {},
     "output_type": "display_data"
    },
    {
     "name": "stdout",
     "output_type": "stream",
     "text": [
      "this\n"
     ]
    }
   ],
   "source": [
    "import plotly.figure_factory as ff\n",
    "\n",
    "data_matrix = [['Element', 'E0 (eV)', 'Number of Atoms','eV/F.u'],\n",
    "               ['Zn', float(Zn_E), 282200000],\n",
    "               ['Canada', 2000, 27790000],\n",
    "               ['United States', 2005, 295500000],\n",
    "               ['Canada', 2005, 32310000],\n",
    "               ['United States', 2010, 309000000],\n",
    "               ['Canada', 2010, 34000000]]\n",
    "\n",
    "fig = ff.create_table(data_matrix)\n",
    "fig.show()\n",
    "print(\"this\")"
   ]
  },
  {
   "cell_type": "code",
   "execution_count": 7,
   "id": "1365a816",
   "metadata": {},
   "outputs": [
    {
     "data": {
      "application/vnd.plotly.v1+json": {
       "config": {
        "plotlyServerURL": "https://plot.ly"
       },
       "data": [
        {
         "cells": {
          "values": [
           [
            -2.8920859,
            0,
            0,
            0
           ]
          ]
         },
         "header": {
          "values": [
           "Element",
           "E0 (eV)",
           "Number of Atoms",
           "eV/F.u"
          ]
         },
         "type": "table"
        }
       ],
       "layout": {
        "template": {
         "data": {
          "bar": [
           {
            "error_x": {
             "color": "#2a3f5f"
            },
            "error_y": {
             "color": "#2a3f5f"
            },
            "marker": {
             "line": {
              "color": "#E5ECF6",
              "width": 0.5
             },
             "pattern": {
              "fillmode": "overlay",
              "size": 10,
              "solidity": 0.2
             }
            },
            "type": "bar"
           }
          ],
          "barpolar": [
           {
            "marker": {
             "line": {
              "color": "#E5ECF6",
              "width": 0.5
             },
             "pattern": {
              "fillmode": "overlay",
              "size": 10,
              "solidity": 0.2
             }
            },
            "type": "barpolar"
           }
          ],
          "carpet": [
           {
            "aaxis": {
             "endlinecolor": "#2a3f5f",
             "gridcolor": "white",
             "linecolor": "white",
             "minorgridcolor": "white",
             "startlinecolor": "#2a3f5f"
            },
            "baxis": {
             "endlinecolor": "#2a3f5f",
             "gridcolor": "white",
             "linecolor": "white",
             "minorgridcolor": "white",
             "startlinecolor": "#2a3f5f"
            },
            "type": "carpet"
           }
          ],
          "choropleth": [
           {
            "colorbar": {
             "outlinewidth": 0,
             "ticks": ""
            },
            "type": "choropleth"
           }
          ],
          "contour": [
           {
            "colorbar": {
             "outlinewidth": 0,
             "ticks": ""
            },
            "colorscale": [
             [
              0,
              "#0d0887"
             ],
             [
              0.1111111111111111,
              "#46039f"
             ],
             [
              0.2222222222222222,
              "#7201a8"
             ],
             [
              0.3333333333333333,
              "#9c179e"
             ],
             [
              0.4444444444444444,
              "#bd3786"
             ],
             [
              0.5555555555555556,
              "#d8576b"
             ],
             [
              0.6666666666666666,
              "#ed7953"
             ],
             [
              0.7777777777777778,
              "#fb9f3a"
             ],
             [
              0.8888888888888888,
              "#fdca26"
             ],
             [
              1,
              "#f0f921"
             ]
            ],
            "type": "contour"
           }
          ],
          "contourcarpet": [
           {
            "colorbar": {
             "outlinewidth": 0,
             "ticks": ""
            },
            "type": "contourcarpet"
           }
          ],
          "heatmap": [
           {
            "colorbar": {
             "outlinewidth": 0,
             "ticks": ""
            },
            "colorscale": [
             [
              0,
              "#0d0887"
             ],
             [
              0.1111111111111111,
              "#46039f"
             ],
             [
              0.2222222222222222,
              "#7201a8"
             ],
             [
              0.3333333333333333,
              "#9c179e"
             ],
             [
              0.4444444444444444,
              "#bd3786"
             ],
             [
              0.5555555555555556,
              "#d8576b"
             ],
             [
              0.6666666666666666,
              "#ed7953"
             ],
             [
              0.7777777777777778,
              "#fb9f3a"
             ],
             [
              0.8888888888888888,
              "#fdca26"
             ],
             [
              1,
              "#f0f921"
             ]
            ],
            "type": "heatmap"
           }
          ],
          "heatmapgl": [
           {
            "colorbar": {
             "outlinewidth": 0,
             "ticks": ""
            },
            "colorscale": [
             [
              0,
              "#0d0887"
             ],
             [
              0.1111111111111111,
              "#46039f"
             ],
             [
              0.2222222222222222,
              "#7201a8"
             ],
             [
              0.3333333333333333,
              "#9c179e"
             ],
             [
              0.4444444444444444,
              "#bd3786"
             ],
             [
              0.5555555555555556,
              "#d8576b"
             ],
             [
              0.6666666666666666,
              "#ed7953"
             ],
             [
              0.7777777777777778,
              "#fb9f3a"
             ],
             [
              0.8888888888888888,
              "#fdca26"
             ],
             [
              1,
              "#f0f921"
             ]
            ],
            "type": "heatmapgl"
           }
          ],
          "histogram": [
           {
            "marker": {
             "pattern": {
              "fillmode": "overlay",
              "size": 10,
              "solidity": 0.2
             }
            },
            "type": "histogram"
           }
          ],
          "histogram2d": [
           {
            "colorbar": {
             "outlinewidth": 0,
             "ticks": ""
            },
            "colorscale": [
             [
              0,
              "#0d0887"
             ],
             [
              0.1111111111111111,
              "#46039f"
             ],
             [
              0.2222222222222222,
              "#7201a8"
             ],
             [
              0.3333333333333333,
              "#9c179e"
             ],
             [
              0.4444444444444444,
              "#bd3786"
             ],
             [
              0.5555555555555556,
              "#d8576b"
             ],
             [
              0.6666666666666666,
              "#ed7953"
             ],
             [
              0.7777777777777778,
              "#fb9f3a"
             ],
             [
              0.8888888888888888,
              "#fdca26"
             ],
             [
              1,
              "#f0f921"
             ]
            ],
            "type": "histogram2d"
           }
          ],
          "histogram2dcontour": [
           {
            "colorbar": {
             "outlinewidth": 0,
             "ticks": ""
            },
            "colorscale": [
             [
              0,
              "#0d0887"
             ],
             [
              0.1111111111111111,
              "#46039f"
             ],
             [
              0.2222222222222222,
              "#7201a8"
             ],
             [
              0.3333333333333333,
              "#9c179e"
             ],
             [
              0.4444444444444444,
              "#bd3786"
             ],
             [
              0.5555555555555556,
              "#d8576b"
             ],
             [
              0.6666666666666666,
              "#ed7953"
             ],
             [
              0.7777777777777778,
              "#fb9f3a"
             ],
             [
              0.8888888888888888,
              "#fdca26"
             ],
             [
              1,
              "#f0f921"
             ]
            ],
            "type": "histogram2dcontour"
           }
          ],
          "mesh3d": [
           {
            "colorbar": {
             "outlinewidth": 0,
             "ticks": ""
            },
            "type": "mesh3d"
           }
          ],
          "parcoords": [
           {
            "line": {
             "colorbar": {
              "outlinewidth": 0,
              "ticks": ""
             }
            },
            "type": "parcoords"
           }
          ],
          "pie": [
           {
            "automargin": true,
            "type": "pie"
           }
          ],
          "scatter": [
           {
            "fillpattern": {
             "fillmode": "overlay",
             "size": 10,
             "solidity": 0.2
            },
            "type": "scatter"
           }
          ],
          "scatter3d": [
           {
            "line": {
             "colorbar": {
              "outlinewidth": 0,
              "ticks": ""
             }
            },
            "marker": {
             "colorbar": {
              "outlinewidth": 0,
              "ticks": ""
             }
            },
            "type": "scatter3d"
           }
          ],
          "scattercarpet": [
           {
            "marker": {
             "colorbar": {
              "outlinewidth": 0,
              "ticks": ""
             }
            },
            "type": "scattercarpet"
           }
          ],
          "scattergeo": [
           {
            "marker": {
             "colorbar": {
              "outlinewidth": 0,
              "ticks": ""
             }
            },
            "type": "scattergeo"
           }
          ],
          "scattergl": [
           {
            "marker": {
             "colorbar": {
              "outlinewidth": 0,
              "ticks": ""
             }
            },
            "type": "scattergl"
           }
          ],
          "scattermapbox": [
           {
            "marker": {
             "colorbar": {
              "outlinewidth": 0,
              "ticks": ""
             }
            },
            "type": "scattermapbox"
           }
          ],
          "scatterpolar": [
           {
            "marker": {
             "colorbar": {
              "outlinewidth": 0,
              "ticks": ""
             }
            },
            "type": "scatterpolar"
           }
          ],
          "scatterpolargl": [
           {
            "marker": {
             "colorbar": {
              "outlinewidth": 0,
              "ticks": ""
             }
            },
            "type": "scatterpolargl"
           }
          ],
          "scatterternary": [
           {
            "marker": {
             "colorbar": {
              "outlinewidth": 0,
              "ticks": ""
             }
            },
            "type": "scatterternary"
           }
          ],
          "surface": [
           {
            "colorbar": {
             "outlinewidth": 0,
             "ticks": ""
            },
            "colorscale": [
             [
              0,
              "#0d0887"
             ],
             [
              0.1111111111111111,
              "#46039f"
             ],
             [
              0.2222222222222222,
              "#7201a8"
             ],
             [
              0.3333333333333333,
              "#9c179e"
             ],
             [
              0.4444444444444444,
              "#bd3786"
             ],
             [
              0.5555555555555556,
              "#d8576b"
             ],
             [
              0.6666666666666666,
              "#ed7953"
             ],
             [
              0.7777777777777778,
              "#fb9f3a"
             ],
             [
              0.8888888888888888,
              "#fdca26"
             ],
             [
              1,
              "#f0f921"
             ]
            ],
            "type": "surface"
           }
          ],
          "table": [
           {
            "cells": {
             "fill": {
              "color": "#EBF0F8"
             },
             "line": {
              "color": "white"
             }
            },
            "header": {
             "fill": {
              "color": "#C8D4E3"
             },
             "line": {
              "color": "white"
             }
            },
            "type": "table"
           }
          ]
         },
         "layout": {
          "annotationdefaults": {
           "arrowcolor": "#2a3f5f",
           "arrowhead": 0,
           "arrowwidth": 1
          },
          "autotypenumbers": "strict",
          "coloraxis": {
           "colorbar": {
            "outlinewidth": 0,
            "ticks": ""
           }
          },
          "colorscale": {
           "diverging": [
            [
             0,
             "#8e0152"
            ],
            [
             0.1,
             "#c51b7d"
            ],
            [
             0.2,
             "#de77ae"
            ],
            [
             0.3,
             "#f1b6da"
            ],
            [
             0.4,
             "#fde0ef"
            ],
            [
             0.5,
             "#f7f7f7"
            ],
            [
             0.6,
             "#e6f5d0"
            ],
            [
             0.7,
             "#b8e186"
            ],
            [
             0.8,
             "#7fbc41"
            ],
            [
             0.9,
             "#4d9221"
            ],
            [
             1,
             "#276419"
            ]
           ],
           "sequential": [
            [
             0,
             "#0d0887"
            ],
            [
             0.1111111111111111,
             "#46039f"
            ],
            [
             0.2222222222222222,
             "#7201a8"
            ],
            [
             0.3333333333333333,
             "#9c179e"
            ],
            [
             0.4444444444444444,
             "#bd3786"
            ],
            [
             0.5555555555555556,
             "#d8576b"
            ],
            [
             0.6666666666666666,
             "#ed7953"
            ],
            [
             0.7777777777777778,
             "#fb9f3a"
            ],
            [
             0.8888888888888888,
             "#fdca26"
            ],
            [
             1,
             "#f0f921"
            ]
           ],
           "sequentialminus": [
            [
             0,
             "#0d0887"
            ],
            [
             0.1111111111111111,
             "#46039f"
            ],
            [
             0.2222222222222222,
             "#7201a8"
            ],
            [
             0.3333333333333333,
             "#9c179e"
            ],
            [
             0.4444444444444444,
             "#bd3786"
            ],
            [
             0.5555555555555556,
             "#d8576b"
            ],
            [
             0.6666666666666666,
             "#ed7953"
            ],
            [
             0.7777777777777778,
             "#fb9f3a"
            ],
            [
             0.8888888888888888,
             "#fdca26"
            ],
            [
             1,
             "#f0f921"
            ]
           ]
          },
          "colorway": [
           "#636efa",
           "#EF553B",
           "#00cc96",
           "#ab63fa",
           "#FFA15A",
           "#19d3f3",
           "#FF6692",
           "#B6E880",
           "#FF97FF",
           "#FECB52"
          ],
          "font": {
           "color": "#2a3f5f"
          },
          "geo": {
           "bgcolor": "white",
           "lakecolor": "white",
           "landcolor": "#E5ECF6",
           "showlakes": true,
           "showland": true,
           "subunitcolor": "white"
          },
          "hoverlabel": {
           "align": "left"
          },
          "hovermode": "closest",
          "mapbox": {
           "style": "light"
          },
          "paper_bgcolor": "white",
          "plot_bgcolor": "#E5ECF6",
          "polar": {
           "angularaxis": {
            "gridcolor": "white",
            "linecolor": "white",
            "ticks": ""
           },
           "bgcolor": "#E5ECF6",
           "radialaxis": {
            "gridcolor": "white",
            "linecolor": "white",
            "ticks": ""
           }
          },
          "scene": {
           "xaxis": {
            "backgroundcolor": "#E5ECF6",
            "gridcolor": "white",
            "gridwidth": 2,
            "linecolor": "white",
            "showbackground": true,
            "ticks": "",
            "zerolinecolor": "white"
           },
           "yaxis": {
            "backgroundcolor": "#E5ECF6",
            "gridcolor": "white",
            "gridwidth": 2,
            "linecolor": "white",
            "showbackground": true,
            "ticks": "",
            "zerolinecolor": "white"
           },
           "zaxis": {
            "backgroundcolor": "#E5ECF6",
            "gridcolor": "white",
            "gridwidth": 2,
            "linecolor": "white",
            "showbackground": true,
            "ticks": "",
            "zerolinecolor": "white"
           }
          },
          "shapedefaults": {
           "line": {
            "color": "#2a3f5f"
           }
          },
          "ternary": {
           "aaxis": {
            "gridcolor": "white",
            "linecolor": "white",
            "ticks": ""
           },
           "baxis": {
            "gridcolor": "white",
            "linecolor": "white",
            "ticks": ""
           },
           "bgcolor": "#E5ECF6",
           "caxis": {
            "gridcolor": "white",
            "linecolor": "white",
            "ticks": ""
           }
          },
          "title": {
           "x": 0.05
          },
          "xaxis": {
           "automargin": true,
           "gridcolor": "white",
           "linecolor": "white",
           "ticks": "",
           "title": {
            "standoff": 15
           },
           "zerolinecolor": "white",
           "zerolinewidth": 2
          },
          "yaxis": {
           "automargin": true,
           "gridcolor": "white",
           "linecolor": "white",
           "ticks": "",
           "title": {
            "standoff": 15
           },
           "zerolinecolor": "white",
           "zerolinewidth": 2
          }
         }
        }
       }
      },
      "text/html": [
       "<div>                            <div id=\"14326c5a-3069-46c0-bf5b-a203f22f95f1\" class=\"plotly-graph-div\" style=\"height:525px; width:100%;\"></div>            <script type=\"text/javascript\">                require([\"plotly\"], function(Plotly) {                    window.PLOTLYENV=window.PLOTLYENV || {};                                    if (document.getElementById(\"14326c5a-3069-46c0-bf5b-a203f22f95f1\")) {                    Plotly.newPlot(                        \"14326c5a-3069-46c0-bf5b-a203f22f95f1\",                        [{\"cells\":{\"values\":[[-2.8920859,0,0,0]]},\"header\":{\"values\":[\"Element\",\"E0 (eV)\",\"Number of Atoms\",\"eV/F.u\"]},\"type\":\"table\"}],                        {\"template\":{\"data\":{\"histogram2dcontour\":[{\"type\":\"histogram2dcontour\",\"colorbar\":{\"outlinewidth\":0,\"ticks\":\"\"},\"colorscale\":[[0.0,\"#0d0887\"],[0.1111111111111111,\"#46039f\"],[0.2222222222222222,\"#7201a8\"],[0.3333333333333333,\"#9c179e\"],[0.4444444444444444,\"#bd3786\"],[0.5555555555555556,\"#d8576b\"],[0.6666666666666666,\"#ed7953\"],[0.7777777777777778,\"#fb9f3a\"],[0.8888888888888888,\"#fdca26\"],[1.0,\"#f0f921\"]]}],\"choropleth\":[{\"type\":\"choropleth\",\"colorbar\":{\"outlinewidth\":0,\"ticks\":\"\"}}],\"histogram2d\":[{\"type\":\"histogram2d\",\"colorbar\":{\"outlinewidth\":0,\"ticks\":\"\"},\"colorscale\":[[0.0,\"#0d0887\"],[0.1111111111111111,\"#46039f\"],[0.2222222222222222,\"#7201a8\"],[0.3333333333333333,\"#9c179e\"],[0.4444444444444444,\"#bd3786\"],[0.5555555555555556,\"#d8576b\"],[0.6666666666666666,\"#ed7953\"],[0.7777777777777778,\"#fb9f3a\"],[0.8888888888888888,\"#fdca26\"],[1.0,\"#f0f921\"]]}],\"heatmap\":[{\"type\":\"heatmap\",\"colorbar\":{\"outlinewidth\":0,\"ticks\":\"\"},\"colorscale\":[[0.0,\"#0d0887\"],[0.1111111111111111,\"#46039f\"],[0.2222222222222222,\"#7201a8\"],[0.3333333333333333,\"#9c179e\"],[0.4444444444444444,\"#bd3786\"],[0.5555555555555556,\"#d8576b\"],[0.6666666666666666,\"#ed7953\"],[0.7777777777777778,\"#fb9f3a\"],[0.8888888888888888,\"#fdca26\"],[1.0,\"#f0f921\"]]}],\"heatmapgl\":[{\"type\":\"heatmapgl\",\"colorbar\":{\"outlinewidth\":0,\"ticks\":\"\"},\"colorscale\":[[0.0,\"#0d0887\"],[0.1111111111111111,\"#46039f\"],[0.2222222222222222,\"#7201a8\"],[0.3333333333333333,\"#9c179e\"],[0.4444444444444444,\"#bd3786\"],[0.5555555555555556,\"#d8576b\"],[0.6666666666666666,\"#ed7953\"],[0.7777777777777778,\"#fb9f3a\"],[0.8888888888888888,\"#fdca26\"],[1.0,\"#f0f921\"]]}],\"contourcarpet\":[{\"type\":\"contourcarpet\",\"colorbar\":{\"outlinewidth\":0,\"ticks\":\"\"}}],\"contour\":[{\"type\":\"contour\",\"colorbar\":{\"outlinewidth\":0,\"ticks\":\"\"},\"colorscale\":[[0.0,\"#0d0887\"],[0.1111111111111111,\"#46039f\"],[0.2222222222222222,\"#7201a8\"],[0.3333333333333333,\"#9c179e\"],[0.4444444444444444,\"#bd3786\"],[0.5555555555555556,\"#d8576b\"],[0.6666666666666666,\"#ed7953\"],[0.7777777777777778,\"#fb9f3a\"],[0.8888888888888888,\"#fdca26\"],[1.0,\"#f0f921\"]]}],\"surface\":[{\"type\":\"surface\",\"colorbar\":{\"outlinewidth\":0,\"ticks\":\"\"},\"colorscale\":[[0.0,\"#0d0887\"],[0.1111111111111111,\"#46039f\"],[0.2222222222222222,\"#7201a8\"],[0.3333333333333333,\"#9c179e\"],[0.4444444444444444,\"#bd3786\"],[0.5555555555555556,\"#d8576b\"],[0.6666666666666666,\"#ed7953\"],[0.7777777777777778,\"#fb9f3a\"],[0.8888888888888888,\"#fdca26\"],[1.0,\"#f0f921\"]]}],\"mesh3d\":[{\"type\":\"mesh3d\",\"colorbar\":{\"outlinewidth\":0,\"ticks\":\"\"}}],\"scatter\":[{\"fillpattern\":{\"fillmode\":\"overlay\",\"size\":10,\"solidity\":0.2},\"type\":\"scatter\"}],\"parcoords\":[{\"type\":\"parcoords\",\"line\":{\"colorbar\":{\"outlinewidth\":0,\"ticks\":\"\"}}}],\"scatterpolargl\":[{\"type\":\"scatterpolargl\",\"marker\":{\"colorbar\":{\"outlinewidth\":0,\"ticks\":\"\"}}}],\"bar\":[{\"error_x\":{\"color\":\"#2a3f5f\"},\"error_y\":{\"color\":\"#2a3f5f\"},\"marker\":{\"line\":{\"color\":\"#E5ECF6\",\"width\":0.5},\"pattern\":{\"fillmode\":\"overlay\",\"size\":10,\"solidity\":0.2}},\"type\":\"bar\"}],\"scattergeo\":[{\"type\":\"scattergeo\",\"marker\":{\"colorbar\":{\"outlinewidth\":0,\"ticks\":\"\"}}}],\"scatterpolar\":[{\"type\":\"scatterpolar\",\"marker\":{\"colorbar\":{\"outlinewidth\":0,\"ticks\":\"\"}}}],\"histogram\":[{\"marker\":{\"pattern\":{\"fillmode\":\"overlay\",\"size\":10,\"solidity\":0.2}},\"type\":\"histogram\"}],\"scattergl\":[{\"type\":\"scattergl\",\"marker\":{\"colorbar\":{\"outlinewidth\":0,\"ticks\":\"\"}}}],\"scatter3d\":[{\"type\":\"scatter3d\",\"line\":{\"colorbar\":{\"outlinewidth\":0,\"ticks\":\"\"}},\"marker\":{\"colorbar\":{\"outlinewidth\":0,\"ticks\":\"\"}}}],\"scattermapbox\":[{\"type\":\"scattermapbox\",\"marker\":{\"colorbar\":{\"outlinewidth\":0,\"ticks\":\"\"}}}],\"scatterternary\":[{\"type\":\"scatterternary\",\"marker\":{\"colorbar\":{\"outlinewidth\":0,\"ticks\":\"\"}}}],\"scattercarpet\":[{\"type\":\"scattercarpet\",\"marker\":{\"colorbar\":{\"outlinewidth\":0,\"ticks\":\"\"}}}],\"carpet\":[{\"aaxis\":{\"endlinecolor\":\"#2a3f5f\",\"gridcolor\":\"white\",\"linecolor\":\"white\",\"minorgridcolor\":\"white\",\"startlinecolor\":\"#2a3f5f\"},\"baxis\":{\"endlinecolor\":\"#2a3f5f\",\"gridcolor\":\"white\",\"linecolor\":\"white\",\"minorgridcolor\":\"white\",\"startlinecolor\":\"#2a3f5f\"},\"type\":\"carpet\"}],\"table\":[{\"cells\":{\"fill\":{\"color\":\"#EBF0F8\"},\"line\":{\"color\":\"white\"}},\"header\":{\"fill\":{\"color\":\"#C8D4E3\"},\"line\":{\"color\":\"white\"}},\"type\":\"table\"}],\"barpolar\":[{\"marker\":{\"line\":{\"color\":\"#E5ECF6\",\"width\":0.5},\"pattern\":{\"fillmode\":\"overlay\",\"size\":10,\"solidity\":0.2}},\"type\":\"barpolar\"}],\"pie\":[{\"automargin\":true,\"type\":\"pie\"}]},\"layout\":{\"autotypenumbers\":\"strict\",\"colorway\":[\"#636efa\",\"#EF553B\",\"#00cc96\",\"#ab63fa\",\"#FFA15A\",\"#19d3f3\",\"#FF6692\",\"#B6E880\",\"#FF97FF\",\"#FECB52\"],\"font\":{\"color\":\"#2a3f5f\"},\"hovermode\":\"closest\",\"hoverlabel\":{\"align\":\"left\"},\"paper_bgcolor\":\"white\",\"plot_bgcolor\":\"#E5ECF6\",\"polar\":{\"bgcolor\":\"#E5ECF6\",\"angularaxis\":{\"gridcolor\":\"white\",\"linecolor\":\"white\",\"ticks\":\"\"},\"radialaxis\":{\"gridcolor\":\"white\",\"linecolor\":\"white\",\"ticks\":\"\"}},\"ternary\":{\"bgcolor\":\"#E5ECF6\",\"aaxis\":{\"gridcolor\":\"white\",\"linecolor\":\"white\",\"ticks\":\"\"},\"baxis\":{\"gridcolor\":\"white\",\"linecolor\":\"white\",\"ticks\":\"\"},\"caxis\":{\"gridcolor\":\"white\",\"linecolor\":\"white\",\"ticks\":\"\"}},\"coloraxis\":{\"colorbar\":{\"outlinewidth\":0,\"ticks\":\"\"}},\"colorscale\":{\"sequential\":[[0.0,\"#0d0887\"],[0.1111111111111111,\"#46039f\"],[0.2222222222222222,\"#7201a8\"],[0.3333333333333333,\"#9c179e\"],[0.4444444444444444,\"#bd3786\"],[0.5555555555555556,\"#d8576b\"],[0.6666666666666666,\"#ed7953\"],[0.7777777777777778,\"#fb9f3a\"],[0.8888888888888888,\"#fdca26\"],[1.0,\"#f0f921\"]],\"sequentialminus\":[[0.0,\"#0d0887\"],[0.1111111111111111,\"#46039f\"],[0.2222222222222222,\"#7201a8\"],[0.3333333333333333,\"#9c179e\"],[0.4444444444444444,\"#bd3786\"],[0.5555555555555556,\"#d8576b\"],[0.6666666666666666,\"#ed7953\"],[0.7777777777777778,\"#fb9f3a\"],[0.8888888888888888,\"#fdca26\"],[1.0,\"#f0f921\"]],\"diverging\":[[0,\"#8e0152\"],[0.1,\"#c51b7d\"],[0.2,\"#de77ae\"],[0.3,\"#f1b6da\"],[0.4,\"#fde0ef\"],[0.5,\"#f7f7f7\"],[0.6,\"#e6f5d0\"],[0.7,\"#b8e186\"],[0.8,\"#7fbc41\"],[0.9,\"#4d9221\"],[1,\"#276419\"]]},\"xaxis\":{\"gridcolor\":\"white\",\"linecolor\":\"white\",\"ticks\":\"\",\"title\":{\"standoff\":15},\"zerolinecolor\":\"white\",\"automargin\":true,\"zerolinewidth\":2},\"yaxis\":{\"gridcolor\":\"white\",\"linecolor\":\"white\",\"ticks\":\"\",\"title\":{\"standoff\":15},\"zerolinecolor\":\"white\",\"automargin\":true,\"zerolinewidth\":2},\"scene\":{\"xaxis\":{\"backgroundcolor\":\"#E5ECF6\",\"gridcolor\":\"white\",\"linecolor\":\"white\",\"showbackground\":true,\"ticks\":\"\",\"zerolinecolor\":\"white\",\"gridwidth\":2},\"yaxis\":{\"backgroundcolor\":\"#E5ECF6\",\"gridcolor\":\"white\",\"linecolor\":\"white\",\"showbackground\":true,\"ticks\":\"\",\"zerolinecolor\":\"white\",\"gridwidth\":2},\"zaxis\":{\"backgroundcolor\":\"#E5ECF6\",\"gridcolor\":\"white\",\"linecolor\":\"white\",\"showbackground\":true,\"ticks\":\"\",\"zerolinecolor\":\"white\",\"gridwidth\":2}},\"shapedefaults\":{\"line\":{\"color\":\"#2a3f5f\"}},\"annotationdefaults\":{\"arrowcolor\":\"#2a3f5f\",\"arrowhead\":0,\"arrowwidth\":1},\"geo\":{\"bgcolor\":\"white\",\"landcolor\":\"#E5ECF6\",\"subunitcolor\":\"white\",\"showland\":true,\"showlakes\":true,\"lakecolor\":\"white\"},\"title\":{\"x\":0.05},\"mapbox\":{\"style\":\"light\"}}}},                        {\"responsive\": true}                    ).then(function(){\n",
       "                            \n",
       "var gd = document.getElementById('14326c5a-3069-46c0-bf5b-a203f22f95f1');\n",
       "var x = new MutationObserver(function (mutations, observer) {{\n",
       "        var display = window.getComputedStyle(gd).display;\n",
       "        if (!display || display === 'none') {{\n",
       "            console.log([gd, 'removed!']);\n",
       "            Plotly.purge(gd);\n",
       "            observer.disconnect();\n",
       "        }}\n",
       "}});\n",
       "\n",
       "// Listen for the removal of the full notebook cells\n",
       "var notebookContainer = gd.closest('#notebook-container');\n",
       "if (notebookContainer) {{\n",
       "    x.observe(notebookContainer, {childList: true});\n",
       "}}\n",
       "\n",
       "// Listen for the clearing of the current output cell\n",
       "var outputEl = gd.closest('.output');\n",
       "if (outputEl) {{\n",
       "    x.observe(outputEl, {childList: true});\n",
       "}}\n",
       "\n",
       "                        })                };                });            </script>        </div>"
      ]
     },
     "metadata": {},
     "output_type": "display_data"
    }
   ],
   "source": [
    "import plotly.graph_objects as go\n",
    "\n",
    "fig = go.Figure(data=[go.Table(header=dict(values=['Element',\n",
    "                                                   'E0 (eV)',\n",
    "                                                   'Number of Atoms',\n",
    "                                                   'eV/F.u']),\n",
    "                              \n",
    "                              cells=dict(values=[[float(Zn_E),0,0,0]]))])\n",
    "fig.show()"
   ]
  },
  {
   "cell_type": "code",
   "execution_count": null,
   "id": "42b68f23",
   "metadata": {},
   "outputs": [],
   "source": []
  },
  {
   "cell_type": "code",
   "execution_count": null,
   "id": "fe8f78b4",
   "metadata": {},
   "outputs": [
    {
     "name": "stdout",
     "output_type": "stream",
     "text": [
      "Dash is running on http://127.0.0.1:8050/\n",
      "\n",
      " * Serving Flask app '__main__' (lazy loading)\n",
      " * Environment: production\n",
      "\u001b[31m   WARNING: This is a development server. Do not use it in a production deployment.\u001b[0m\n",
      "\u001b[2m   Use a production WSGI server instead.\u001b[0m\n",
      " * Debug mode: on\n"
     ]
    }
   ],
   "source": [
    "from dash import Dash, dcc, html\n",
    "\n",
    "external_stylesheets = ['https://codepen.io/chriddyp/pen/bWLwgP.css']\n",
    "\n",
    "app = Dash(__name__, external_stylesheets=external_stylesheets)\n",
    "app.layout = html.Div([\n",
    "    dcc.Upload(html.Button('Upload Slum File with Zn')),\n",
    "    dcc.Upload(html.Button('Upload Slum File without Zn')),\n",
    "\n",
    "    html.Hr()\n",
    "])\n",
    "\n",
    "if __name__ == '__main__':\n",
    "    app.run_server(debug=True,use_reloader=False)"
   ]
  },
  {
   "cell_type": "code",
   "execution_count": null,
   "id": "55277d13",
   "metadata": {},
   "outputs": [],
   "source": [
    "import tkinter as tk\n",
    "from tkinter import filedialog\n",
    "\n",
    "lookup = 'final diagonalization'\n",
    "root = tk.Tk()\n",
    "root.withdraw()\n",
    "\n",
    "file_path = filedialog.askopenfilename()\n",
    "finds = []\n",
    "with open(file_path) as myFile:\n",
    "    for num, line in enumerate(myFile, 1):\n",
    "        if lookup in line:\n",
    "            #print ('found at line:', num)\n",
    "            finds.append(num)\n",
    "\n",
    "last_line = finds[-1]\n",
    "\n",
    "file = open(file_path)\n",
    "content = file.readlines()\n",
    "text = content[last_line]\n",
    "Zn_E = text.partition(\"F= \")[2].partition(\" E0\")[0]\n",
    "float(Zn_E)"
   ]
  },
  {
   "cell_type": "code",
   "execution_count": null,
   "id": "d97d2e76",
   "metadata": {},
   "outputs": [],
   "source": [
    "import re\n",
    "import plotly.figure_factory as ff\n",
    "\n",
    "W_Zn = '/Users/3420545/Downloads/ZnMn204DFT+U.out'\n",
    "Wo_Zn = '/Users/3420545/Downloads/MnO2DFT+U.out'\n",
    "Fu_file = '/Users/3420545/Downloads/ZnMn2O4_POSCAR'\n",
    "lookup = 'final diagonalization'\n",
    "\n",
    "file = open(Fu_file)\n",
    "  \n",
    "#Get Numbers for Formula Units\n",
    "content = file.readlines()\n",
    "numbers=re.findall(r'\\d+', content[0])\n",
    "numbers\n",
    "\n",
    "comp_num = numbers[0]\n",
    "Znstruc_num = numbers[1]\n",
    "\n",
    "#Gets Final Energy for Zn\n",
    "finds = []\n",
    "with open('/Users/3420545/Downloads/Zn.out') as myFile:\n",
    "    for num, line in enumerate(myFile, 1):\n",
    "        if lookup in line:\n",
    "            #print ('found at line:', num)\n",
    "            finds.append(num)\n",
    "\n",
    "last_line = finds[-1]\n",
    "file = open('/Users/3420545/Downloads/Zn.out')\n",
    "content = file.readlines()\n",
    "text = content[last_line]\n",
    "Zn_E = text.partition(\"F= \")[2].partition(\" E0\")[0]\n",
    "Zn_E = float(Zn_E)\n",
    "\n",
    "#Gets Final Energy for structure without Zinc\n",
    "lookup = 'final diagonalization'\n",
    "finds = []\n",
    "with open(Wo_Zn) as myFile:\n",
    "    for num, line in enumerate(myFile, 1):\n",
    "        if lookup in line:\n",
    "            #print ('found at line:', num)\n",
    "            finds.append(num)\n",
    "\n",
    "last_line = finds[-1]\n",
    "\n",
    "file = open(Wo_Zn)\n",
    "content = file.readlines()\n",
    "text = content[last_line]\n",
    "WOZn_E = text.partition(\"F= \")[2].partition(\" E0\")[0]\n",
    "WOZn_E=float(WOZn_E)\n",
    "\n",
    "\n",
    "#Gets final Energy for structure with Zinc\n",
    "finds = []\n",
    "with open(W_Zn) as myFile:\n",
    "    for num, line in enumerate(myFile, 1):\n",
    "        if lookup in line:\n",
    "            #print ('found at line:', num)\n",
    "            finds.append(num)\n",
    "            \n",
    "last_line = finds[-1]\n",
    "file = open(W_Zn)\n",
    "content = file.readlines()\n",
    "text = content[last_line]\n",
    "WZn_E = text.partition(\"F= \")[2].partition(\" E0\")[0]\n",
    "WZn_E=float(WZn_E)\n",
    "\n",
    "\n",
    "#Creates Tables\n",
    "data_matrix = [['Element', 'E0 (eV)', 'Number of Atoms','eV/F.u'],\n",
    "               ['Zn', Zn_E, 2,float(Zn_E)/2],\n",
    "               ['TiO2',WOZn_E, comp_num,WOZn_E/int(comp_num)],\n",
    "               ['ZnTi2O4', WZn_E, Znstruc_num, WZn_E/int(Znstruc_num)],\n",
    "               ['2TiO2 + Zn','','', 2*WOZn_E/int(comp_num)+float(Zn_E)/2]\n",
    "              ]\n",
    "\n",
    "fig = ff.create_table(data_matrix)\n",
    "fig.show()\n",
    "print(\"Charge Potential = \",2*WOZn_E/int(comp_num)+float(Zn_E)/2 - WZn_E/int(Znstruc_num),\"eV (or\",(2*WOZn_E/int(comp_num)+float(Zn_E)/2 - WZn_E/int(Znstruc_num))/2,\"V)\")"
   ]
  }
 ],
 "metadata": {
  "kernelspec": {
   "display_name": "Python 3 (ipykernel)",
   "language": "python",
   "name": "python3"
  },
  "language_info": {
   "codemirror_mode": {
    "name": "ipython",
    "version": 3
   },
   "file_extension": ".py",
   "mimetype": "text/x-python",
   "name": "python",
   "nbconvert_exporter": "python",
   "pygments_lexer": "ipython3",
   "version": "3.8.5"
  }
 },
 "nbformat": 4,
 "nbformat_minor": 5
}
